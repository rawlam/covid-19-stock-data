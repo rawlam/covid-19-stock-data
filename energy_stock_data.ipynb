{
 "cells": [
  {
   "cell_type": "code",
   "execution_count": 3,
   "id": "e97e6f60",
   "metadata": {},
   "outputs": [],
   "source": [
    "#Dependencies\n",
    "import pandas as pd\n",
    "import numpy as np\n",
    "import requests\n",
    "import json\n",
    "import yfinance as yf"
   ]
  },
  {
   "cell_type": "code",
   "execution_count": 4,
   "id": "773c06c8",
   "metadata": {},
   "outputs": [],
   "source": [
    "tickers = ['JNJ', 'UNH', 'NVO', 'LLY', 'MRK', 'PLD', 'AMT', 'EQIX', 'CCI', 'PSA', 'AAPL', 'MSFT', 'NVDA', 'TSM', 'AVGO', 'BRK-B', 'JPM-PC', 'V', 'JPM', 'MA', 'XOM', 'CVX', 'SHEL', 'TTE', 'COP']\n",
    "\n",
    "data = {}\n",
    "\n",
    "for ticker in tickers:\n",
    "    try:\n",
    "        stock = yf.Ticker(ticker)\n",
    "        data[ticker] = pd.DataFrame({'Symbol': [ticker],\n",
    "                                      'Name': [stock.info['longName']]})\n",
    "    except IndexError:\n",
    "        data[ticker] = pd.DataFrame({'Symbol': [ticker],\n",
    "                                      'Name': [None],\n",
    "                                      'Open': [None]},\n",
    "                                      index=[None])\n",
    "\n",
    "master_df = pd.concat(data.values())"
   ]
  },
  {
   "cell_type": "code",
   "execution_count": 5,
   "id": "08b87122",
   "metadata": {},
   "outputs": [
    {
     "data": {
      "text/html": [
       "<div>\n",
       "<style scoped>\n",
       "    .dataframe tbody tr th:only-of-type {\n",
       "        vertical-align: middle;\n",
       "    }\n",
       "\n",
       "    .dataframe tbody tr th {\n",
       "        vertical-align: top;\n",
       "    }\n",
       "\n",
       "    .dataframe thead th {\n",
       "        text-align: right;\n",
       "    }\n",
       "</style>\n",
       "<table border=\"1\" class=\"dataframe\">\n",
       "  <thead>\n",
       "    <tr style=\"text-align: right;\">\n",
       "      <th></th>\n",
       "      <th>Symbol</th>\n",
       "      <th>Name</th>\n",
       "    </tr>\n",
       "  </thead>\n",
       "  <tbody>\n",
       "    <tr>\n",
       "      <th>0</th>\n",
       "      <td>JNJ</td>\n",
       "      <td>Johnson &amp; Johnson</td>\n",
       "    </tr>\n",
       "    <tr>\n",
       "      <th>0</th>\n",
       "      <td>UNH</td>\n",
       "      <td>UnitedHealth Group Incorporated</td>\n",
       "    </tr>\n",
       "    <tr>\n",
       "      <th>0</th>\n",
       "      <td>NVO</td>\n",
       "      <td>Novo Nordisk A/S</td>\n",
       "    </tr>\n",
       "    <tr>\n",
       "      <th>0</th>\n",
       "      <td>LLY</td>\n",
       "      <td>Eli Lilly and Company</td>\n",
       "    </tr>\n",
       "    <tr>\n",
       "      <th>0</th>\n",
       "      <td>MRK</td>\n",
       "      <td>Merck &amp; Co., Inc.</td>\n",
       "    </tr>\n",
       "    <tr>\n",
       "      <th>0</th>\n",
       "      <td>PLD</td>\n",
       "      <td>Prologis, Inc.</td>\n",
       "    </tr>\n",
       "    <tr>\n",
       "      <th>0</th>\n",
       "      <td>AMT</td>\n",
       "      <td>American Tower Corporation</td>\n",
       "    </tr>\n",
       "    <tr>\n",
       "      <th>0</th>\n",
       "      <td>EQIX</td>\n",
       "      <td>Equinix, Inc.</td>\n",
       "    </tr>\n",
       "    <tr>\n",
       "      <th>0</th>\n",
       "      <td>CCI</td>\n",
       "      <td>Crown Castle Inc.</td>\n",
       "    </tr>\n",
       "    <tr>\n",
       "      <th>0</th>\n",
       "      <td>PSA</td>\n",
       "      <td>Public Storage</td>\n",
       "    </tr>\n",
       "    <tr>\n",
       "      <th>0</th>\n",
       "      <td>AAPL</td>\n",
       "      <td>Apple Inc.</td>\n",
       "    </tr>\n",
       "    <tr>\n",
       "      <th>0</th>\n",
       "      <td>MSFT</td>\n",
       "      <td>Microsoft Corporation</td>\n",
       "    </tr>\n",
       "    <tr>\n",
       "      <th>0</th>\n",
       "      <td>NVDA</td>\n",
       "      <td>NVIDIA Corporation</td>\n",
       "    </tr>\n",
       "    <tr>\n",
       "      <th>0</th>\n",
       "      <td>TSM</td>\n",
       "      <td>Taiwan Semiconductor Manufacturing Company Lim...</td>\n",
       "    </tr>\n",
       "    <tr>\n",
       "      <th>0</th>\n",
       "      <td>AVGO</td>\n",
       "      <td>Broadcom Inc.</td>\n",
       "    </tr>\n",
       "    <tr>\n",
       "      <th>0</th>\n",
       "      <td>BRK-B</td>\n",
       "      <td>Berkshire Hathaway Inc.</td>\n",
       "    </tr>\n",
       "    <tr>\n",
       "      <th>0</th>\n",
       "      <td>JPM-PC</td>\n",
       "      <td>JPMorgan Chase &amp; Co.</td>\n",
       "    </tr>\n",
       "    <tr>\n",
       "      <th>0</th>\n",
       "      <td>V</td>\n",
       "      <td>Visa Inc.</td>\n",
       "    </tr>\n",
       "    <tr>\n",
       "      <th>0</th>\n",
       "      <td>JPM</td>\n",
       "      <td>JPMorgan Chase &amp; Co.</td>\n",
       "    </tr>\n",
       "    <tr>\n",
       "      <th>0</th>\n",
       "      <td>MA</td>\n",
       "      <td>Mastercard Incorporated</td>\n",
       "    </tr>\n",
       "    <tr>\n",
       "      <th>0</th>\n",
       "      <td>XOM</td>\n",
       "      <td>Exxon Mobil Corporation</td>\n",
       "    </tr>\n",
       "    <tr>\n",
       "      <th>0</th>\n",
       "      <td>CVX</td>\n",
       "      <td>Chevron Corporation</td>\n",
       "    </tr>\n",
       "    <tr>\n",
       "      <th>0</th>\n",
       "      <td>SHEL</td>\n",
       "      <td>Shell plc</td>\n",
       "    </tr>\n",
       "    <tr>\n",
       "      <th>0</th>\n",
       "      <td>TTE</td>\n",
       "      <td>TotalEnergies SE</td>\n",
       "    </tr>\n",
       "    <tr>\n",
       "      <th>0</th>\n",
       "      <td>COP</td>\n",
       "      <td>ConocoPhillips</td>\n",
       "    </tr>\n",
       "  </tbody>\n",
       "</table>\n",
       "</div>"
      ],
      "text/plain": [
       "   Symbol                                               Name\n",
       "0     JNJ                                  Johnson & Johnson\n",
       "0     UNH                    UnitedHealth Group Incorporated\n",
       "0     NVO                                   Novo Nordisk A/S\n",
       "0     LLY                              Eli Lilly and Company\n",
       "0     MRK                                  Merck & Co., Inc.\n",
       "0     PLD                                     Prologis, Inc.\n",
       "0     AMT                         American Tower Corporation\n",
       "0    EQIX                                      Equinix, Inc.\n",
       "0     CCI                                  Crown Castle Inc.\n",
       "0     PSA                                     Public Storage\n",
       "0    AAPL                                         Apple Inc.\n",
       "0    MSFT                              Microsoft Corporation\n",
       "0    NVDA                                 NVIDIA Corporation\n",
       "0     TSM  Taiwan Semiconductor Manufacturing Company Lim...\n",
       "0    AVGO                                      Broadcom Inc.\n",
       "0   BRK-B                            Berkshire Hathaway Inc.\n",
       "0  JPM-PC                               JPMorgan Chase & Co.\n",
       "0       V                                          Visa Inc.\n",
       "0     JPM                               JPMorgan Chase & Co.\n",
       "0      MA                            Mastercard Incorporated\n",
       "0     XOM                            Exxon Mobil Corporation\n",
       "0     CVX                                Chevron Corporation\n",
       "0    SHEL                                          Shell plc\n",
       "0     TTE                                   TotalEnergies SE\n",
       "0     COP                                     ConocoPhillips"
      ]
     },
     "execution_count": 5,
     "metadata": {},
     "output_type": "execute_result"
    }
   ],
   "source": [
    "master_df.to_csv('Stock_List.csv', index=False)\n",
    "master_df"
   ]
  },
  {
   "cell_type": "code",
   "execution_count": 143,
   "id": "e23837c4",
   "metadata": {},
   "outputs": [
    {
     "ename": "IndentationError",
     "evalue": "unexpected indent (3795539563.py, line 3)",
     "output_type": "error",
     "traceback": [
      "\u001b[0;36m  File \u001b[0;32m\"/var/folders/3r/fgm41fys63zcjnbbncdplfsm0000gn/T/ipykernel_46716/3795539563.py\"\u001b[0;36m, line \u001b[0;32m3\u001b[0m\n\u001b[0;31m    cvx\u001b[0m\n\u001b[0m    ^\u001b[0m\n\u001b[0;31mIndentationError\u001b[0m\u001b[0;31m:\u001b[0m unexpected indent\n"
     ]
    }
   ],
   "source": [
    "#Energy Sector\n",
    "xom\n",
    "\tcvx\n",
    "\tshel\n",
    "\ttte\n",
    "\tcop"
   ]
  },
  {
   "cell_type": "code",
   "execution_count": 94,
   "id": "e3169db8",
   "metadata": {},
   "outputs": [
    {
     "name": "stdout",
     "output_type": "stream",
     "text": [
      "                          Symbol                     Name        Open\n",
      "2020-01-06 00:00:00-05:00    XOM  Exxon Mobil Corporation   58.555717\n",
      "2020-01-06 00:00:00-05:00    CVX      Chevron Corporation  104.311410\n",
      "2020-01-06 00:00:00-05:00   SHEL                Shell plc   53.844425\n",
      "2020-01-06 00:00:00-05:00    TTE         TotalEnergies SE   45.031610\n",
      "2020-01-06 00:00:00-05:00    COP           ConocoPhillips   58.068157\n"
     ]
    }
   ],
   "source": [
    "#Energy Sector\n",
    "#request etflist ticker data from yfinance dated 1-3,2020\n",
    "tickers = ['XOM', 'CVX', 'SHEL', 'TTE', 'COP']\n",
    "\n",
    "data = {}\n",
    "\n",
    "for ticker in tickers:\n",
    "    try:\n",
    "        stock = yf.Ticker(ticker)\n",
    "        hist1 = stock.history(period='4y')\n",
    "        data[ticker] = pd.DataFrame({'Symbol': [ticker],\n",
    "                                      'Name': [stock.info['longName']],\n",
    "                                      'Open': [hist1.iloc[-827]['Open']]},\n",
    "                                      index=[hist1.index[-827]])\n",
    "    except IndexError:\n",
    "        data[ticker] = pd.DataFrame({'Symbol': [ticker],\n",
    "                                      'Name': [None],\n",
    "                                      'Open': [None]},\n",
    "                                      index=[None])\n",
    "\n",
    "df81 = pd.concat(data.values())\n",
    "print(df81)"
   ]
  },
  {
   "cell_type": "code",
   "execution_count": 95,
   "id": "3cb08b40",
   "metadata": {},
   "outputs": [
    {
     "name": "stdout",
     "output_type": "stream",
     "text": [
      "                          Symbol                     Name       Open\n",
      "2020-03-03 00:00:00-05:00    XOM  Exxon Mobil Corporation  45.569313\n",
      "2020-03-03 00:00:00-05:00    CVX      Chevron Corporation  84.248657\n",
      "2020-03-03 00:00:00-05:00   SHEL                Shell plc  40.991506\n",
      "2020-03-03 00:00:00-05:00    TTE         TotalEnergies SE  35.133067\n",
      "2020-03-03 00:00:00-05:00    COP           ConocoPhillips  43.700554\n"
     ]
    }
   ],
   "source": [
    "#Energy Sector\n",
    "#request etflist ticker data from yfinance dated 3-2,2020\n",
    "tickers = ['XOM', 'CVX', 'SHEL', 'TTE', 'COP']\n",
    "\n",
    "data = {}\n",
    "\n",
    "for ticker in tickers:\n",
    "    try:\n",
    "        stock = yf.Ticker(ticker)\n",
    "        hist2 = stock.history(period='4y')\n",
    "        data[ticker] = pd.DataFrame({'Symbol': [ticker],\n",
    "                                      'Name': [stock.info['longName']],\n",
    "                                      'Open': [hist2.iloc[-788]['Open']]},\n",
    "                                      index=[hist2.index[-788]])\n",
    "    except IndexError:\n",
    "        data[ticker] = pd.DataFrame({'Symbol': [ticker],\n",
    "                                      'Name': [None],\n",
    "                                      'Open': [None]},\n",
    "                                      index=[None])\n",
    "\n",
    "df82 = pd.concat(data.values())\n",
    "print(df82)"
   ]
  },
  {
   "cell_type": "code",
   "execution_count": 96,
   "id": "9b3bcc91",
   "metadata": {},
   "outputs": [
    {
     "name": "stdout",
     "output_type": "stream",
     "text": [
      "                          Symbol                     Name       Open\n",
      "2020-05-04 00:00:00-04:00    XOM  Exxon Mobil Corporation  35.906422\n",
      "2020-05-04 00:00:00-04:00    CVX      Chevron Corporation  77.259128\n",
      "2020-05-04 00:00:00-04:00   SHEL                Shell plc  28.697654\n",
      "2020-05-04 00:00:00-04:00    TTE         TotalEnergies SE  26.936420\n",
      "2020-05-04 00:00:00-04:00    COP           ConocoPhillips  34.074613\n"
     ]
    }
   ],
   "source": [
    "#Energy Sector\n",
    "#request etflist ticker data from yfinance dated 5-1,2020\n",
    "tickers = ['XOM', 'CVX', 'SHEL', 'TTE', 'COP']\n",
    "\n",
    "data = {}\n",
    "\n",
    "for ticker in tickers:\n",
    "    try:\n",
    "        stock = yf.Ticker(ticker)\n",
    "        hist3 = stock.history(period='4y')\n",
    "        data[ticker] = pd.DataFrame({'Symbol': [ticker],\n",
    "                                      'Name': [stock.info['longName']],\n",
    "                                      'Open': [hist3.iloc[-745]['Open']]},\n",
    "                                      index=[hist3.index[-745]])\n",
    "    except IndexError:\n",
    "        data[ticker] = pd.DataFrame({'Symbol': [ticker],\n",
    "                                      'Name': [None],\n",
    "                                      'Open': [None]},\n",
    "                                      index=[None])\n",
    "\n",
    "df83 = pd.concat(data.values())\n",
    "print(df83)"
   ]
  },
  {
   "cell_type": "code",
   "execution_count": 97,
   "id": "23754746",
   "metadata": {},
   "outputs": [
    {
     "name": "stdout",
     "output_type": "stream",
     "text": [
      "                          Symbol                     Name       Open\n",
      "2020-07-02 00:00:00-04:00    XOM  Exxon Mobil Corporation  38.419402\n",
      "2020-07-02 00:00:00-04:00    CVX      Chevron Corporation  78.932113\n",
      "2020-07-02 00:00:00-04:00   SHEL                Shell plc  30.223325\n",
      "2020-07-02 00:00:00-04:00    TTE         TotalEnergies SE  32.307680\n",
      "2020-07-02 00:00:00-04:00    COP           ConocoPhillips  37.266962\n"
     ]
    }
   ],
   "source": [
    "#Energy Sector\n",
    "#request etflist ticker data from yfinance dated 7-1,2020\n",
    "tickers = ['XOM', 'CVX', 'SHEL', 'TTE', 'COP']\n",
    "\n",
    "data = {}\n",
    "\n",
    "for ticker in tickers:\n",
    "    try:\n",
    "        stock = yf.Ticker(ticker)\n",
    "        hist4 = stock.history(period='4y')\n",
    "        data[ticker] = pd.DataFrame({'Symbol': [ticker],\n",
    "                                      'Name': [stock.info['longName']],\n",
    "                                      'Open': [hist4.iloc[-703]['Open']]},\n",
    "                                      index=[hist4.index[-703]])\n",
    "    except IndexError:\n",
    "        data[ticker] = pd.DataFrame({'Symbol': [ticker],\n",
    "                                      'Name': [None],\n",
    "                                      'Open': [None]},\n",
    "                                      index=[None])\n",
    "\n",
    "df84 = pd.concat(data.values())\n",
    "print(df84)"
   ]
  },
  {
   "cell_type": "code",
   "execution_count": 98,
   "id": "84ec1bdc",
   "metadata": {},
   "outputs": [
    {
     "name": "stdout",
     "output_type": "stream",
     "text": [
      "                          Symbol                     Name       Open\n",
      "2020-09-02 00:00:00-04:00    XOM  Exxon Mobil Corporation  34.444809\n",
      "2020-09-02 00:00:00-04:00    CVX      Chevron Corporation  74.416666\n",
      "2020-09-02 00:00:00-04:00   SHEL                Shell plc  26.804044\n",
      "2020-09-02 00:00:00-04:00    TTE         TotalEnergies SE  32.663342\n",
      "2020-09-02 00:00:00-04:00    COP           ConocoPhillips  33.308097\n"
     ]
    }
   ],
   "source": [
    "#Energy Sector\n",
    "#request etflist ticker data from yfinance dated 9-1,2020\n",
    "tickers = ['XOM', 'CVX', 'SHEL', 'TTE', 'COP']\n",
    "\n",
    "data = {}\n",
    "\n",
    "for ticker in tickers:\n",
    "    try:\n",
    "        stock = yf.Ticker(ticker)\n",
    "        hist5 = stock.history(period='4y')\n",
    "        data[ticker] = pd.DataFrame({'Symbol': [ticker],\n",
    "                                      'Name': [stock.info['longName']],\n",
    "                                      'Open': [hist5.iloc[-660]['Open']]},\n",
    "                                      index=[hist5.index[-660]])\n",
    "    except IndexError:\n",
    "        data[ticker] = pd.DataFrame({'Symbol': [ticker],\n",
    "                                      'Name': [None],\n",
    "                                      'Open': [None]},\n",
    "                                      index=[None])\n",
    "\n",
    "df85 = pd.concat(data.values())\n",
    "print(df85)"
   ]
  },
  {
   "cell_type": "code",
   "execution_count": 99,
   "id": "099c53f6",
   "metadata": {},
   "outputs": [
    {
     "name": "stdout",
     "output_type": "stream",
     "text": [
      "                          Symbol                     Name       Open\n",
      "2020-11-03 00:00:00-05:00    XOM  Exxon Mobil Corporation  30.282990\n",
      "2020-11-03 00:00:00-05:00    CVX      Chevron Corporation  65.546889\n",
      "2020-11-03 00:00:00-05:00   SHEL                Shell plc  25.005486\n",
      "2020-11-03 00:00:00-05:00    TTE         TotalEnergies SE  27.473021\n",
      "2020-11-03 00:00:00-05:00    COP           ConocoPhillips  27.994772\n"
     ]
    }
   ],
   "source": [
    "#Energy Sector\n",
    "#request etflist ticker data from yfinance dated 11-2,2020\n",
    "tickers = tickers = ['XOM', 'CVX', 'SHEL', 'TTE', 'COP']\n",
    "\n",
    "data = {}\n",
    "\n",
    "for ticker in tickers:\n",
    "    try:\n",
    "        stock = yf.Ticker(ticker)\n",
    "        hist6 = stock.history(period='4y')\n",
    "        data[ticker] = pd.DataFrame({'Symbol': [ticker],\n",
    "                                      'Name': [stock.info['longName']],\n",
    "                                      'Open': [hist6.iloc[-617]['Open']]},\n",
    "                                      index=[hist6.index[-617]])\n",
    "    except IndexError:\n",
    "        data[ticker] = pd.DataFrame({'Symbol': [ticker],\n",
    "                                      'Name': [None],\n",
    "                                      'Open': [None]},\n",
    "                                      index=[None])\n",
    "\n",
    "df86 = pd.concat(data.values())\n",
    "print(df86)"
   ]
  },
  {
   "cell_type": "code",
   "execution_count": 100,
   "id": "763a236a",
   "metadata": {},
   "outputs": [
    {
     "name": "stdout",
     "output_type": "stream",
     "text": [
      "                          Symbol                     Name       Open\n",
      "2021-01-05 00:00:00-05:00    XOM  Exxon Mobil Corporation  37.622763\n",
      "2021-01-05 00:00:00-05:00    CVX      Chevron Corporation  77.720822\n",
      "2021-01-05 00:00:00-05:00   SHEL                Shell plc  34.492664\n",
      "2021-01-05 00:00:00-05:00    TTE         TotalEnergies SE  36.979160\n",
      "2021-01-05 00:00:00-05:00    COP           ConocoPhillips  36.670233\n"
     ]
    }
   ],
   "source": [
    "#Energy Sector\n",
    "#request etflist ticker data from yfinance dated 1-4,2021\n",
    "tickers = ['XOM', 'CVX', 'SHEL', 'TTE', 'COP']\n",
    "\n",
    "data = {}\n",
    "\n",
    "for ticker in tickers:\n",
    "    try:\n",
    "        stock = yf.Ticker(ticker)\n",
    "        hist7 = stock.history(period='4y')\n",
    "        data[ticker] = pd.DataFrame({'Symbol': [ticker],\n",
    "                                      'Name': [stock.info['longName']],\n",
    "                                      'Open': [hist7.iloc[-575]['Open']]},\n",
    "                                      index=[hist7.index[-575]])\n",
    "    except IndexError:\n",
    "        data[ticker] = pd.DataFrame({'Symbol': [ticker],\n",
    "                                      'Name': [None],\n",
    "                                      'Open': [None]},\n",
    "                                      index=[None])\n",
    "\n",
    "df87 = pd.concat(data.values())\n",
    "print(df87)"
   ]
  },
  {
   "cell_type": "code",
   "execution_count": 101,
   "id": "3800840b",
   "metadata": {},
   "outputs": [
    {
     "name": "stdout",
     "output_type": "stream",
     "text": [
      "                          Symbol                     Name       Open\n",
      "2021-03-02 00:00:00-05:00    XOM  Exxon Mobil Corporation  51.805079\n",
      "2021-03-02 00:00:00-05:00    CVX      Chevron Corporation  93.939796\n",
      "2021-03-02 00:00:00-05:00   SHEL                Shell plc  38.481388\n",
      "2021-03-02 00:00:00-05:00    TTE         TotalEnergies SE  40.358929\n",
      "2021-03-02 00:00:00-05:00    COP           ConocoPhillips  48.291214\n"
     ]
    }
   ],
   "source": [
    "#Energy Sector\n",
    "#request etflist ticker data from yfinance dated 3-2021\n",
    "tickers = ['XOM', 'CVX', 'SHEL', 'TTE', 'COP']\n",
    "\n",
    "data = {}\n",
    "\n",
    "for ticker in tickers:\n",
    "    try:\n",
    "        stock = yf.Ticker(ticker)\n",
    "        hist8 = stock.history(period='4y')\n",
    "        data[ticker] = pd.DataFrame({'Symbol': [ticker],\n",
    "                                      'Name': [stock.info['longName']],\n",
    "                                      'Open': [hist8.iloc[-537]['Open']]},\n",
    "                                      index=[hist8.index[-537]])\n",
    "    except IndexError:\n",
    "        data[ticker] = pd.DataFrame({'Symbol': [ticker],\n",
    "                                      'Name': [None],\n",
    "                                      'Open': [None]},\n",
    "                                      index=[None])\n",
    "\n",
    "df88 = pd.concat(data.values())\n",
    "print(df88)"
   ]
  },
  {
   "cell_type": "code",
   "execution_count": 102,
   "id": "692ee5c2",
   "metadata": {},
   "outputs": [
    {
     "name": "stdout",
     "output_type": "stream",
     "text": [
      "                          Symbol                     Name       Open\n",
      "2021-05-04 00:00:00-04:00    XOM  Exxon Mobil Corporation  53.954093\n",
      "2021-05-04 00:00:00-04:00    CVX      Chevron Corporation  97.692231\n",
      "2021-05-04 00:00:00-04:00   SHEL                Shell plc  36.508224\n",
      "2021-05-04 00:00:00-04:00    TTE         TotalEnergies SE  39.956843\n",
      "2021-05-04 00:00:00-04:00    COP           ConocoPhillips  47.573877\n"
     ]
    }
   ],
   "source": [
    "#Energy Sector\n",
    "#request etflist ticker data from yfinance dated 5-3-2021\n",
    "tickers = ['XOM', 'CVX', 'SHEL', 'TTE', 'COP']\n",
    "\n",
    "data = {}\n",
    "\n",
    "for ticker in tickers:\n",
    "    try:\n",
    "        stock = yf.Ticker(ticker)\n",
    "        hist9 = stock.history(period='4y')\n",
    "        data[ticker] = pd.DataFrame({'Symbol': [ticker],\n",
    "                                      'Name': [stock.info['longName']],\n",
    "                                      'Open': [hist9.iloc[-493]['Open']]},\n",
    "                                      index=[hist9.index[-493]])\n",
    "    except IndexError:\n",
    "        data[ticker] = pd.DataFrame({'Symbol': [ticker],\n",
    "                                      'Name': [None],\n",
    "                                      'Open': [None]},\n",
    "                                      index=[None])\n",
    "\n",
    "df89 = pd.concat(data.values())\n",
    "print(df89)"
   ]
  },
  {
   "cell_type": "code",
   "execution_count": 103,
   "id": "e38d9773",
   "metadata": {},
   "outputs": [
    {
     "name": "stdout",
     "output_type": "stream",
     "text": [
      "                          Symbol                     Name       Open\n",
      "2021-07-02 00:00:00-04:00    XOM  Exxon Mobil Corporation  58.460573\n",
      "2021-07-02 00:00:00-04:00    CVX      Chevron Corporation  98.645399\n",
      "2021-07-02 00:00:00-04:00   SHEL                Shell plc  38.840436\n",
      "2021-07-02 00:00:00-04:00    TTE         TotalEnergies SE  40.833093\n",
      "2021-07-02 00:00:00-04:00    COP           ConocoPhillips  57.888778\n"
     ]
    }
   ],
   "source": [
    "#Energy Sector\n",
    "#request etflist ticker data from yfinance dated 7-1-2021\n",
    "tickers = ['XOM', 'CVX', 'SHEL', 'TTE', 'COP']\n",
    "\n",
    "data = {}\n",
    "\n",
    "for ticker in tickers:\n",
    "    try:\n",
    "        stock = yf.Ticker(ticker)\n",
    "        hist10 = stock.history(period='4y')\n",
    "        data[ticker] = pd.DataFrame({'Symbol': [ticker],\n",
    "                                      'Name': [stock.info['longName']],\n",
    "                                      'Open': [hist10.iloc[-451]['Open']]},\n",
    "                                      index=[hist10.index[-451]])\n",
    "    except IndexError:\n",
    "        data[ticker] = pd.DataFrame({'Symbol': [ticker],\n",
    "                                      'Name': [None],\n",
    "                                      'Open': [None]},\n",
    "                                      index=[None])\n",
    "\n",
    "df90 = pd.concat(data.values())\n",
    "print(df90)"
   ]
  },
  {
   "cell_type": "code",
   "execution_count": 104,
   "id": "7b8f4380",
   "metadata": {},
   "outputs": [
    {
     "name": "stdout",
     "output_type": "stream",
     "text": [
      "                          Symbol                     Name       Open\n",
      "2021-09-02 00:00:00-04:00    XOM  Exxon Mobil Corporation  51.132558\n",
      "2021-09-02 00:00:00-04:00    CVX      Chevron Corporation  91.406049\n",
      "2021-09-02 00:00:00-04:00   SHEL                Shell plc  38.164835\n",
      "2021-09-02 00:00:00-04:00    TTE         TotalEnergies SE  39.513591\n",
      "2021-09-02 00:00:00-04:00    COP           ConocoPhillips  51.607312\n"
     ]
    }
   ],
   "source": [
    "#Energy Sector\n",
    "#request etflist ticker data from yfinance dated 9-1-2021\n",
    "tickers = ['XOM', 'CVX', 'SHEL', 'TTE', 'COP']\n",
    "\n",
    "data = {}\n",
    "\n",
    "for ticker in tickers:\n",
    "    try:\n",
    "        stock = yf.Ticker(ticker)\n",
    "        hist11 = stock.history(period='4y')\n",
    "        data[ticker] = pd.DataFrame({'Symbol': [ticker],\n",
    "                                      'Name': [stock.info['longName']],\n",
    "                                      'Open': [hist11.iloc[-408]['Open']]},\n",
    "                                      index=[hist11.index[-408]])\n",
    "    except IndexError:\n",
    "        data[ticker] = pd.DataFrame({'Symbol': [ticker],\n",
    "                                      'Name': [None],\n",
    "                                      'Open': [None]},\n",
    "                                      index=[None])\n",
    "\n",
    "df91 = pd.concat(data.values())\n",
    "print(df91)"
   ]
  },
  {
   "cell_type": "code",
   "execution_count": 105,
   "id": "5150fa54",
   "metadata": {},
   "outputs": [
    {
     "name": "stdout",
     "output_type": "stream",
     "text": [
      "                          Symbol                     Name        Open\n",
      "2021-11-02 00:00:00-04:00    XOM  Exxon Mobil Corporation   61.247926\n",
      "2021-11-02 00:00:00-04:00    CVX      Chevron Corporation  107.996112\n",
      "2021-11-02 00:00:00-04:00   SHEL                Shell plc   43.280202\n",
      "2021-11-02 00:00:00-04:00    TTE         TotalEnergies SE   45.628820\n",
      "2021-11-02 00:00:00-04:00    COP           ConocoPhillips   70.031105\n"
     ]
    }
   ],
   "source": [
    "#Energy Sector\n",
    "#request etflist ticker data from yfinance dated 11-1-1021\n",
    "tickers = ['XOM', 'CVX', 'SHEL', 'TTE', 'COP']\n",
    "\n",
    "data = {}\n",
    "\n",
    "for ticker in tickers:\n",
    "    try:\n",
    "        stock = yf.Ticker(ticker)\n",
    "        hist12 = stock.history(period='4y')\n",
    "        data[ticker] = pd.DataFrame({'Symbol': [ticker],\n",
    "                                      'Name': [stock.info['longName']],\n",
    "                                      'Open': [hist12.iloc[-366]['Open']]},\n",
    "                                      index=[hist12.index[-366]])\n",
    "    except IndexError:\n",
    "        data[ticker] = pd.DataFrame({'Symbol': [ticker],\n",
    "                                      'Name': [None],\n",
    "                                      'Open': [None]},\n",
    "                                      index=[None])\n",
    "\n",
    "df92 = pd.concat(data.values())\n",
    "print(df92)"
   ]
  },
  {
   "cell_type": "code",
   "execution_count": 106,
   "id": "495ad6f8",
   "metadata": {},
   "outputs": [
    {
     "name": "stdout",
     "output_type": "stream",
     "text": [
      "                          Symbol                     Name        Open\n",
      "2022-01-04 00:00:00-05:00    XOM  Exxon Mobil Corporation   61.212006\n",
      "2022-01-04 00:00:00-05:00    CVX      Chevron Corporation  114.764859\n",
      "2022-01-04 00:00:00-05:00   SHEL                Shell plc   44.314833\n",
      "2022-01-04 00:00:00-05:00    TTE         TotalEnergies SE   46.998753\n",
      "2022-01-04 00:00:00-05:00    COP           ConocoPhillips   70.244272\n"
     ]
    }
   ],
   "source": [
    "#Energy Sector\n",
    "#request etflist ticker data from yfinance dated 1-3-2022\n",
    "tickers = ['XOM', 'CVX', 'SHEL', 'TTE', 'COP']\n",
    "\n",
    "data = {}\n",
    "\n",
    "for ticker in tickers:\n",
    "    try:\n",
    "        stock = yf.Ticker(ticker)\n",
    "        hist13 = stock.history(period='4y')\n",
    "        data[ticker] = pd.DataFrame({'Symbol': [ticker],\n",
    "                                      'Name': [stock.info['longName']],\n",
    "                                      'Open': [hist13.iloc[-323]['Open']]},\n",
    "                                      index=[hist13.index[-323]])\n",
    "    except IndexError:\n",
    "        data[ticker] = pd.DataFrame({'Symbol': [ticker],\n",
    "                                      'Name': [None],\n",
    "                                      'Open': [None]},\n",
    "                                      index=[None])\n",
    "\n",
    "df93 = pd.concat(data.values())\n",
    "print(df93)"
   ]
  },
  {
   "cell_type": "code",
   "execution_count": 107,
   "id": "ef95227c",
   "metadata": {},
   "outputs": [
    {
     "name": "stdout",
     "output_type": "stream",
     "text": [
      "                          Symbol                     Name        Open\n",
      "2022-03-02 00:00:00-05:00    XOM  Exxon Mobil Corporation   77.785466\n",
      "2022-03-02 00:00:00-05:00    CVX      Chevron Corporation  145.216020\n",
      "2022-03-02 00:00:00-05:00   SHEL                Shell plc   52.550929\n",
      "2022-03-02 00:00:00-05:00    TTE         TotalEnergies SE   48.075695\n",
      "2022-03-02 00:00:00-05:00    COP           ConocoPhillips   93.142237\n"
     ]
    }
   ],
   "source": [
    "#Energy Sector\n",
    "#request etflist ticker data from yfinance dated 3-1-2022\n",
    "tickers = ['XOM', 'CVX', 'SHEL', 'TTE', 'COP']\n",
    "\n",
    "data = {}\n",
    "\n",
    "for ticker in tickers:\n",
    "    try:\n",
    "        stock = yf.Ticker(ticker)\n",
    "        hist14 = stock.history(period='4y')\n",
    "        data[ticker] = pd.DataFrame({'Symbol': [ticker],\n",
    "                                      'Name': [stock.info['longName']],\n",
    "                                      'Open': [hist14.iloc[-284]['Open']]},\n",
    "                                      index=[hist14.index[-284]])\n",
    "    except IndexError:\n",
    "        data[ticker] = pd.DataFrame({'Symbol': [ticker],\n",
    "                                      'Name': [None],\n",
    "                                      'Open': [None]},\n",
    "                                      index=[None])\n",
    "\n",
    "df94 = pd.concat(data.values())\n",
    "print(df94)"
   ]
  },
  {
   "cell_type": "code",
   "execution_count": 108,
   "id": "d16e426f",
   "metadata": {},
   "outputs": [
    {
     "name": "stdout",
     "output_type": "stream",
     "text": [
      "                          Symbol                     Name        Open\n",
      "2022-05-03 00:00:00-04:00    XOM  Exxon Mobil Corporation   83.247830\n",
      "2022-05-03 00:00:00-04:00    CVX      Chevron Corporation  154.275115\n",
      "2022-05-03 00:00:00-04:00   SHEL                Shell plc   52.734167\n",
      "2022-05-03 00:00:00-04:00    TTE         TotalEnergies SE   47.085555\n",
      "2022-05-03 00:00:00-04:00    COP           ConocoPhillips   91.815608\n"
     ]
    }
   ],
   "source": [
    "#Energy Sector\n",
    "#request etflist ticker data from yfinance dated 5-2-2022\n",
    "tickers = ['XOM', 'CVX', 'SHEL', 'TTE', 'COP']\n",
    "\n",
    "data = {}\n",
    "\n",
    "for ticker in tickers:\n",
    "    try:\n",
    "        stock = yf.Ticker(ticker)\n",
    "        hist15 = stock.history(period='4y')\n",
    "        data[ticker] = pd.DataFrame({'Symbol': [ticker],\n",
    "                                      'Name': [stock.info['longName']],\n",
    "                                      'Open': [hist15.iloc[-241]['Open']]},\n",
    "                                      index=[hist15.index[-241]])\n",
    "    except IndexError:\n",
    "        data[ticker] = pd.DataFrame({'Symbol': [ticker],\n",
    "                                      'Name': [None],\n",
    "                                      'Open': [None]},\n",
    "                                      index=[None])\n",
    "\n",
    "df95 = pd.concat(data.values())\n",
    "print(df95)"
   ]
  },
  {
   "cell_type": "code",
   "execution_count": 109,
   "id": "3c471c74",
   "metadata": {},
   "outputs": [
    {
     "name": "stdout",
     "output_type": "stream",
     "text": [
      "                          Symbol                     Name        Open\n",
      "2022-07-05 00:00:00-04:00    XOM  Exxon Mobil Corporation   84.178548\n",
      "2022-07-05 00:00:00-04:00    CVX      Chevron Corporation  140.025912\n",
      "2022-07-05 00:00:00-04:00   SHEL                Shell plc   48.636976\n",
      "2022-07-05 00:00:00-04:00    TTE         TotalEnergies SE   48.621729\n",
      "2022-07-05 00:00:00-04:00    COP           ConocoPhillips   85.896803\n"
     ]
    }
   ],
   "source": [
    "#Energy Sector\n",
    "#request etflist ticker data from yfinance dated 7-1-2022\n",
    "tickers = ['XOM', 'CVX', 'SHEL', 'TTE', 'COP']\n",
    "\n",
    "data = {}\n",
    "\n",
    "for ticker in tickers:\n",
    "    try:\n",
    "        stock = yf.Ticker(ticker)\n",
    "        hist16 = stock.history(period='4y')\n",
    "        data[ticker] = pd.DataFrame({'Symbol': [ticker],\n",
    "                                      'Name': [stock.info['longName']],\n",
    "                                      'Open': [hist16.iloc[-199]['Open']]},\n",
    "                                      index=[hist16.index[-199]])\n",
    "    except IndexError:\n",
    "        data[ticker] = pd.DataFrame({'Symbol': [ticker],\n",
    "                                      'Name': [None],\n",
    "                                      'Open': [None]},\n",
    "                                      index=[None])\n",
    "\n",
    "df96 = pd.concat(data.values())\n",
    "print(df96)"
   ]
  },
  {
   "cell_type": "code",
   "execution_count": 110,
   "id": "6d94df96",
   "metadata": {},
   "outputs": [
    {
     "name": "stdout",
     "output_type": "stream",
     "text": [
      "                          Symbol                     Name        Open\n",
      "2022-09-02 00:00:00-04:00    XOM  Exxon Mobil Corporation   94.850692\n",
      "2022-09-02 00:00:00-04:00    CVX      Chevron Corporation  155.649362\n",
      "2022-09-02 00:00:00-04:00   SHEL                Shell plc   52.830565\n",
      "2022-09-02 00:00:00-04:00    TTE         TotalEnergies SE   48.773049\n",
      "2022-09-02 00:00:00-04:00    COP           ConocoPhillips  105.876636\n"
     ]
    }
   ],
   "source": [
    "#Energy Sector\n",
    "#request etflist ticker data from yfinance dated 9-1-2022\n",
    "tickers = ['XOM', 'CVX', 'SHEL', 'TTE', 'COP']\n",
    "\n",
    "data = {}\n",
    "\n",
    "for ticker in tickers:\n",
    "    try:\n",
    "        stock = yf.Ticker(ticker)\n",
    "        hist17 = stock.history(period='4y')\n",
    "        data[ticker] = pd.DataFrame({'Symbol': [ticker],\n",
    "                                      'Name': [stock.info['longName']],\n",
    "                                      'Open': [hist17.iloc[-156]['Open']]},\n",
    "                                      index=[hist17.index[-156]])\n",
    "    except IndexError:\n",
    "        data[ticker] = pd.DataFrame({'Symbol': [ticker],\n",
    "                                      'Name': [None],\n",
    "                                      'Open': [None]},\n",
    "                                      index=[None])\n",
    "\n",
    "df97= pd.concat(data.values())\n",
    "print(df97)"
   ]
  },
  {
   "cell_type": "code",
   "execution_count": 111,
   "id": "3c2a6548",
   "metadata": {},
   "outputs": [
    {
     "name": "stdout",
     "output_type": "stream",
     "text": [
      "                          Symbol                     Name        Open\n",
      "2022-11-02 00:00:00-04:00    XOM  Exxon Mobil Corporation  109.843688\n",
      "2022-11-02 00:00:00-04:00    CVX      Chevron Corporation  177.967877\n",
      "2022-11-02 00:00:00-04:00   SHEL                Shell plc   54.941824\n",
      "2022-11-02 00:00:00-04:00    TTE         TotalEnergies SE   53.794136\n",
      "2022-11-02 00:00:00-04:00    COP           ConocoPhillips  124.482658\n"
     ]
    }
   ],
   "source": [
    "#Energy Sector\n",
    "#request etflist ticker data from yfinance dated 11-1-2022\n",
    "tickers = ['XOM', 'CVX', 'SHEL', 'TTE', 'COP']\n",
    "\n",
    "data = {}\n",
    "\n",
    "for ticker in tickers:\n",
    "    try:\n",
    "        stock = yf.Ticker(ticker)\n",
    "        hist18 = stock.history(period='4y')\n",
    "        data[ticker] = pd.DataFrame({'Symbol': [ticker],\n",
    "                                      'Name': [stock.info['longName']],\n",
    "                                      'Open': [hist18.iloc[-114]['Open']]},\n",
    "                                      index=[hist18.index[-114]])\n",
    "    except IndexError:\n",
    "        data[ticker] = pd.DataFrame({'Symbol': [ticker],\n",
    "                                      'Name': [None],\n",
    "                                      'Open': [None]},\n",
    "                                      index=[None])\n",
    "\n",
    "df98 = pd.concat(data.values())\n",
    "print(df98)"
   ]
  },
  {
   "cell_type": "code",
   "execution_count": 112,
   "id": "98110c25",
   "metadata": {},
   "outputs": [
    {
     "name": "stdout",
     "output_type": "stream",
     "text": [
      "                          Symbol                     Name        Open\n",
      "2023-01-04 00:00:00-05:00    XOM  Exxon Mobil Corporation  103.999739\n",
      "2023-01-04 00:00:00-05:00    CVX      Chevron Corporation  169.452002\n",
      "2023-01-04 00:00:00-05:00   SHEL                Shell plc   55.296223\n",
      "2023-01-04 00:00:00-05:00    TTE         TotalEnergies SE   60.750802\n",
      "2023-01-04 00:00:00-05:00    COP           ConocoPhillips  110.045475\n"
     ]
    }
   ],
   "source": [
    "#Energy Sector\n",
    "#request etflist ticker data from yfinance dated 1-3-2023\n",
    "tickers = ['XOM', 'CVX', 'SHEL', 'TTE', 'COP']\n",
    "\n",
    "data = {}\n",
    "\n",
    "for ticker in tickers:\n",
    "    try:\n",
    "        stock = yf.Ticker(ticker)\n",
    "        hist19 = stock.history(period='4y')\n",
    "        data[ticker] = pd.DataFrame({'Symbol': [ticker],\n",
    "                                      'Name': [stock.info['longName']],\n",
    "                                      'Open': [hist19.iloc[-72]['Open']]},\n",
    "                                      index=[hist19.index[-72]])\n",
    "    except IndexError:\n",
    "        data[ticker] = pd.DataFrame({'Symbol': [ticker],\n",
    "                                      'Name': [None],\n",
    "                                      'Open': [None]},\n",
    "                                      index=[None])\n",
    "\n",
    "df99 = pd.concat(data.values())\n",
    "print(df99)"
   ]
  },
  {
   "cell_type": "code",
   "execution_count": 113,
   "id": "2a0ef9d9",
   "metadata": {},
   "outputs": [
    {
     "name": "stdout",
     "output_type": "stream",
     "text": [
      "                          Symbol                     Name        Open\n",
      "2023-03-02 00:00:00-05:00    XOM  Exxon Mobil Corporation  110.620003\n",
      "2023-03-02 00:00:00-05:00    CVX      Chevron Corporation  161.979996\n",
      "2023-03-02 00:00:00-05:00   SHEL                Shell plc   61.520000\n",
      "2023-03-02 00:00:00-05:00    TTE         TotalEnergies SE   61.313399\n",
      "2023-03-02 00:00:00-05:00    COP           ConocoPhillips  105.417124\n"
     ]
    }
   ],
   "source": [
    "#Energy Sector\n",
    "#request etflist ticker data from yfinance dated 3-1-2023\n",
    "tickers = ['XOM', 'CVX', 'SHEL', 'TTE', 'COP']\n",
    "\n",
    "data = {}\n",
    "\n",
    "for ticker in tickers:\n",
    "    try:\n",
    "        stock = yf.Ticker(ticker)\n",
    "        hist20 = stock.history(period='4y')\n",
    "        data[ticker] = pd.DataFrame({'Symbol': [ticker],\n",
    "                                      'Name': [stock.info['longName']],\n",
    "                                      'Open': [hist20.iloc[-33]['Open']]},\n",
    "                                      index=[hist20.index[-33]])\n",
    "    except IndexError:\n",
    "        data[ticker] = pd.DataFrame({'Symbol': [ticker],\n",
    "                                      'Name': [None],\n",
    "                                      'Open': [None]},\n",
    "                                      index=[None])\n",
    "\n",
    "df100 = pd.concat(data.values())\n",
    "print(df100)"
   ]
  },
  {
   "cell_type": "code",
   "execution_count": 114,
   "id": "7e68ab8d",
   "metadata": {},
   "outputs": [
    {
     "data": {
      "text/html": [
       "<div>\n",
       "<style scoped>\n",
       "    .dataframe tbody tr th:only-of-type {\n",
       "        vertical-align: middle;\n",
       "    }\n",
       "\n",
       "    .dataframe tbody tr th {\n",
       "        vertical-align: top;\n",
       "    }\n",
       "\n",
       "    .dataframe thead th {\n",
       "        text-align: right;\n",
       "    }\n",
       "</style>\n",
       "<table border=\"1\" class=\"dataframe\">\n",
       "  <thead>\n",
       "    <tr style=\"text-align: right;\">\n",
       "      <th></th>\n",
       "      <th>Date</th>\n",
       "      <th>Symbol</th>\n",
       "      <th>Name</th>\n",
       "      <th>Open</th>\n",
       "    </tr>\n",
       "  </thead>\n",
       "  <tbody>\n",
       "    <tr>\n",
       "      <th>0</th>\n",
       "      <td>2020-01-06 00:00:00-05:00</td>\n",
       "      <td>XOM</td>\n",
       "      <td>Exxon Mobil Corporation</td>\n",
       "      <td>58.555717</td>\n",
       "    </tr>\n",
       "    <tr>\n",
       "      <th>1</th>\n",
       "      <td>2020-01-06 00:00:00-05:00</td>\n",
       "      <td>CVX</td>\n",
       "      <td>Chevron Corporation</td>\n",
       "      <td>104.311410</td>\n",
       "    </tr>\n",
       "    <tr>\n",
       "      <th>2</th>\n",
       "      <td>2020-01-06 00:00:00-05:00</td>\n",
       "      <td>SHEL</td>\n",
       "      <td>Shell plc</td>\n",
       "      <td>53.844425</td>\n",
       "    </tr>\n",
       "    <tr>\n",
       "      <th>3</th>\n",
       "      <td>2020-01-06 00:00:00-05:00</td>\n",
       "      <td>TTE</td>\n",
       "      <td>TotalEnergies SE</td>\n",
       "      <td>45.031610</td>\n",
       "    </tr>\n",
       "    <tr>\n",
       "      <th>4</th>\n",
       "      <td>2020-01-06 00:00:00-05:00</td>\n",
       "      <td>COP</td>\n",
       "      <td>ConocoPhillips</td>\n",
       "      <td>58.068157</td>\n",
       "    </tr>\n",
       "    <tr>\n",
       "      <th>...</th>\n",
       "      <td>...</td>\n",
       "      <td>...</td>\n",
       "      <td>...</td>\n",
       "      <td>...</td>\n",
       "    </tr>\n",
       "    <tr>\n",
       "      <th>95</th>\n",
       "      <td>2023-03-02 00:00:00-05:00</td>\n",
       "      <td>XOM</td>\n",
       "      <td>Exxon Mobil Corporation</td>\n",
       "      <td>110.620003</td>\n",
       "    </tr>\n",
       "    <tr>\n",
       "      <th>96</th>\n",
       "      <td>2023-03-02 00:00:00-05:00</td>\n",
       "      <td>CVX</td>\n",
       "      <td>Chevron Corporation</td>\n",
       "      <td>161.979996</td>\n",
       "    </tr>\n",
       "    <tr>\n",
       "      <th>97</th>\n",
       "      <td>2023-03-02 00:00:00-05:00</td>\n",
       "      <td>SHEL</td>\n",
       "      <td>Shell plc</td>\n",
       "      <td>61.520000</td>\n",
       "    </tr>\n",
       "    <tr>\n",
       "      <th>98</th>\n",
       "      <td>2023-03-02 00:00:00-05:00</td>\n",
       "      <td>TTE</td>\n",
       "      <td>TotalEnergies SE</td>\n",
       "      <td>61.313399</td>\n",
       "    </tr>\n",
       "    <tr>\n",
       "      <th>99</th>\n",
       "      <td>2023-03-02 00:00:00-05:00</td>\n",
       "      <td>COP</td>\n",
       "      <td>ConocoPhillips</td>\n",
       "      <td>105.417124</td>\n",
       "    </tr>\n",
       "  </tbody>\n",
       "</table>\n",
       "<p>100 rows × 4 columns</p>\n",
       "</div>"
      ],
      "text/plain": [
       "                        Date Symbol                     Name        Open\n",
       "0  2020-01-06 00:00:00-05:00    XOM  Exxon Mobil Corporation   58.555717\n",
       "1  2020-01-06 00:00:00-05:00    CVX      Chevron Corporation  104.311410\n",
       "2  2020-01-06 00:00:00-05:00   SHEL                Shell plc   53.844425\n",
       "3  2020-01-06 00:00:00-05:00    TTE         TotalEnergies SE   45.031610\n",
       "4  2020-01-06 00:00:00-05:00    COP           ConocoPhillips   58.068157\n",
       "..                       ...    ...                      ...         ...\n",
       "95 2023-03-02 00:00:00-05:00    XOM  Exxon Mobil Corporation  110.620003\n",
       "96 2023-03-02 00:00:00-05:00    CVX      Chevron Corporation  161.979996\n",
       "97 2023-03-02 00:00:00-05:00   SHEL                Shell plc   61.520000\n",
       "98 2023-03-02 00:00:00-05:00    TTE         TotalEnergies SE   61.313399\n",
       "99 2023-03-02 00:00:00-05:00    COP           ConocoPhillips  105.417124\n",
       "\n",
       "[100 rows x 4 columns]"
      ]
     },
     "execution_count": 114,
     "metadata": {},
     "output_type": "execute_result"
    }
   ],
   "source": [
    "Energy_Sector_df = pd.concat([df81, df82, df83, df84, df85, df86, df87, df88, df89, df90, df91, df92, df93, df94, df95, df96, df97, df98, df99, df100], axis=0)\n",
    "\n",
    "Energy_Sector_df = Energy_Sector_df.reset_index()\n",
    "\n",
    "Energy_Sector_df = Energy_Sector_df.rename(columns={'index': 'Date'})\n",
    "\n",
    "\n",
    "Energy_Sector_df.to_csv('Energy_Sector.csv', index=False)\n",
    "Energy_Sector_df"
   ]
  },
  {
   "cell_type": "code",
   "execution_count": 115,
   "id": "882c3eee",
   "metadata": {},
   "outputs": [
    {
     "data": {
      "image/png": "[encoded data removed]",
      "text/plain": [
       "<Figure size 640x480 with 1 Axes>"
      ]
     },
     "metadata": {},
     "output_type": "display_data"
    }
   ],
   "source": [
    "import pandas as pd\n",
    "import seaborn as sns\n",
    "import matplotlib.pyplot as plt\n",
    "\n",
    "sns.set(style='darkgrid')\n",
    "\n",
    "# Plot data by stock\n",
    "sns.lineplot(data=Energy_Sector_df, x='Date', y='Open', hue='Symbol')\n",
    "\n",
    "plt.xticks(rotation=45)\n",
    "\n",
    "plt.show()"
   ]
  },
  {
   "cell_type": "code",
   "execution_count": null,
   "id": "cd70f4a5",
   "metadata": {},
   "outputs": [],
   "source": []
  }
 ],
 "metadata": {
  "kernelspec": {
   "display_name": "Python 3 (ipykernel)",
   "language": "python",
   "name": "python3"
  },
  "language_info": {
   "codemirror_mode": {
    "name": "ipython",
    "version": 3
   },
   "file_extension": ".py",
   "mimetype": "text/x-python",
   "name": "python",
   "nbconvert_exporter": "python",
   "pygments_lexer": "ipython3",
   "version": "3.7.7"
  }
 },
 "nbformat": 4,
 "nbformat_minor": 5
}
