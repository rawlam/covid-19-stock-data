{
 "cells": [
  {
   "cell_type": "code",
   "execution_count": 3,
   "id": "ff313641",
   "metadata": {},
   "outputs": [],
   "source": [
    "#Dependencies\n",
    "import pandas as pd\n",
    "import numpy as np\n",
    "import requests\n",
    "import json\n",
    "import yfinance as yf"
   ]
  },
  {
   "cell_type": "code",
   "execution_count": 4,
   "id": "0b0c8eda",
   "metadata": {},
   "outputs": [],
   "source": [
    "tickers = ['JNJ', 'UNH', 'NVO', 'LLY', 'MRK', 'PLD', 'AMT', 'EQIX', 'CCI', 'PSA', 'AAPL', 'MSFT', 'NVDA', 'TSM', 'AVGO', 'BRK-B', 'JPM-PC', 'V', 'JPM', 'MA', 'XOM', 'CVX', 'SHEL', 'TTE', 'COP']\n",
    "\n",
    "data = {}\n",
    "\n",
    "for ticker in tickers:\n",
    "    try:\n",
    "        stock = yf.Ticker(ticker)\n",
    "        data[ticker] = pd.DataFrame({'Symbol': [ticker],\n",
    "                                      'Name': [stock.info['longName']]})\n",
    "    except IndexError:\n",
    "        data[ticker] = pd.DataFrame({'Symbol': [ticker],\n",
    "                                      'Name': [None],\n",
    "                                      'Open': [None]},\n",
    "                                      index=[None])\n",
    "\n",
    "master_df = pd.concat(data.values())"
   ]
  },
  {
   "cell_type": "code",
   "execution_count": 5,
   "id": "8249af47",
   "metadata": {},
   "outputs": [
    {
     "data": {
      "text/html": [
       "<div>\n",
       "<style scoped>\n",
       "    .dataframe tbody tr th:only-of-type {\n",
       "        vertical-align: middle;\n",
       "    }\n",
       "\n",
       "    .dataframe tbody tr th {\n",
       "        vertical-align: top;\n",
       "    }\n",
       "\n",
       "    .dataframe thead th {\n",
       "        text-align: right;\n",
       "    }\n",
       "</style>\n",
       "<table border=\"1\" class=\"dataframe\">\n",
       "  <thead>\n",
       "    <tr style=\"text-align: right;\">\n",
       "      <th></th>\n",
       "      <th>Symbol</th>\n",
       "      <th>Name</th>\n",
       "    </tr>\n",
       "  </thead>\n",
       "  <tbody>\n",
       "    <tr>\n",
       "      <th>0</th>\n",
       "      <td>JNJ</td>\n",
       "      <td>Johnson &amp; Johnson</td>\n",
       "    </tr>\n",
       "    <tr>\n",
       "      <th>0</th>\n",
       "      <td>UNH</td>\n",
       "      <td>UnitedHealth Group Incorporated</td>\n",
       "    </tr>\n",
       "    <tr>\n",
       "      <th>0</th>\n",
       "      <td>NVO</td>\n",
       "      <td>Novo Nordisk A/S</td>\n",
       "    </tr>\n",
       "    <tr>\n",
       "      <th>0</th>\n",
       "      <td>LLY</td>\n",
       "      <td>Eli Lilly and Company</td>\n",
       "    </tr>\n",
       "    <tr>\n",
       "      <th>0</th>\n",
       "      <td>MRK</td>\n",
       "      <td>Merck &amp; Co., Inc.</td>\n",
       "    </tr>\n",
       "    <tr>\n",
       "      <th>0</th>\n",
       "      <td>PLD</td>\n",
       "      <td>Prologis, Inc.</td>\n",
       "    </tr>\n",
       "    <tr>\n",
       "      <th>0</th>\n",
       "      <td>AMT</td>\n",
       "      <td>American Tower Corporation</td>\n",
       "    </tr>\n",
       "    <tr>\n",
       "      <th>0</th>\n",
       "      <td>EQIX</td>\n",
       "      <td>Equinix, Inc.</td>\n",
       "    </tr>\n",
       "    <tr>\n",
       "      <th>0</th>\n",
       "      <td>CCI</td>\n",
       "      <td>Crown Castle Inc.</td>\n",
       "    </tr>\n",
       "    <tr>\n",
       "      <th>0</th>\n",
       "      <td>PSA</td>\n",
       "      <td>Public Storage</td>\n",
       "    </tr>\n",
       "    <tr>\n",
       "      <th>0</th>\n",
       "      <td>AAPL</td>\n",
       "      <td>Apple Inc.</td>\n",
       "    </tr>\n",
       "    <tr>\n",
       "      <th>0</th>\n",
       "      <td>MSFT</td>\n",
       "      <td>Microsoft Corporation</td>\n",
       "    </tr>\n",
       "    <tr>\n",
       "      <th>0</th>\n",
       "      <td>NVDA</td>\n",
       "      <td>NVIDIA Corporation</td>\n",
       "    </tr>\n",
       "    <tr>\n",
       "      <th>0</th>\n",
       "      <td>TSM</td>\n",
       "      <td>Taiwan Semiconductor Manufacturing Company Lim...</td>\n",
       "    </tr>\n",
       "    <tr>\n",
       "      <th>0</th>\n",
       "      <td>AVGO</td>\n",
       "      <td>Broadcom Inc.</td>\n",
       "    </tr>\n",
       "    <tr>\n",
       "      <th>0</th>\n",
       "      <td>BRK-B</td>\n",
       "      <td>Berkshire Hathaway Inc.</td>\n",
       "    </tr>\n",
       "    <tr>\n",
       "      <th>0</th>\n",
       "      <td>JPM-PC</td>\n",
       "      <td>JPMorgan Chase &amp; Co.</td>\n",
       "    </tr>\n",
       "    <tr>\n",
       "      <th>0</th>\n",
       "      <td>V</td>\n",
       "      <td>Visa Inc.</td>\n",
       "    </tr>\n",
       "    <tr>\n",
       "      <th>0</th>\n",
       "      <td>JPM</td>\n",
       "      <td>JPMorgan Chase &amp; Co.</td>\n",
       "    </tr>\n",
       "    <tr>\n",
       "      <th>0</th>\n",
       "      <td>MA</td>\n",
       "      <td>Mastercard Incorporated</td>\n",
       "    </tr>\n",
       "    <tr>\n",
       "      <th>0</th>\n",
       "      <td>XOM</td>\n",
       "      <td>Exxon Mobil Corporation</td>\n",
       "    </tr>\n",
       "    <tr>\n",
       "      <th>0</th>\n",
       "      <td>CVX</td>\n",
       "      <td>Chevron Corporation</td>\n",
       "    </tr>\n",
       "    <tr>\n",
       "      <th>0</th>\n",
       "      <td>SHEL</td>\n",
       "      <td>Shell plc</td>\n",
       "    </tr>\n",
       "    <tr>\n",
       "      <th>0</th>\n",
       "      <td>TTE</td>\n",
       "      <td>TotalEnergies SE</td>\n",
       "    </tr>\n",
       "    <tr>\n",
       "      <th>0</th>\n",
       "      <td>COP</td>\n",
       "      <td>ConocoPhillips</td>\n",
       "    </tr>\n",
       "  </tbody>\n",
       "</table>\n",
       "</div>"
      ],
      "text/plain": [
       "   Symbol                                               Name\n",
       "0     JNJ                                  Johnson & Johnson\n",
       "0     UNH                    UnitedHealth Group Incorporated\n",
       "0     NVO                                   Novo Nordisk A/S\n",
       "0     LLY                              Eli Lilly and Company\n",
       "0     MRK                                  Merck & Co., Inc.\n",
       "0     PLD                                     Prologis, Inc.\n",
       "0     AMT                         American Tower Corporation\n",
       "0    EQIX                                      Equinix, Inc.\n",
       "0     CCI                                  Crown Castle Inc.\n",
       "0     PSA                                     Public Storage\n",
       "0    AAPL                                         Apple Inc.\n",
       "0    MSFT                              Microsoft Corporation\n",
       "0    NVDA                                 NVIDIA Corporation\n",
       "0     TSM  Taiwan Semiconductor Manufacturing Company Lim...\n",
       "0    AVGO                                      Broadcom Inc.\n",
       "0   BRK-B                            Berkshire Hathaway Inc.\n",
       "0  JPM-PC                               JPMorgan Chase & Co.\n",
       "0       V                                          Visa Inc.\n",
       "0     JPM                               JPMorgan Chase & Co.\n",
       "0      MA                            Mastercard Incorporated\n",
       "0     XOM                            Exxon Mobil Corporation\n",
       "0     CVX                                Chevron Corporation\n",
       "0    SHEL                                          Shell plc\n",
       "0     TTE                                   TotalEnergies SE\n",
       "0     COP                                     ConocoPhillips"
      ]
     },
     "execution_count": 5,
     "metadata": {},
     "output_type": "execute_result"
    }
   ],
   "source": [
    "master_df.to_csv('Stock_List.csv', index=False)\n",
    "master_df"
   ]
  },
  {
   "cell_type": "code",
   "execution_count": 212,
   "id": "2ea69120",
   "metadata": {},
   "outputs": [
    {
     "ename": "IndentationError",
     "evalue": "unexpected indent (2895121827.py, line 2)",
     "output_type": "error",
     "traceback": [
      "\u001b[0;36m  File \u001b[0;32m\"/var/folders/3r/fgm41fys63zcjnbbncdplfsm0000gn/T/ipykernel_46716/2895121827.py\"\u001b[0;36m, line \u001b[0;32m2\u001b[0m\n\u001b[0;31m    amt\u001b[0m\n\u001b[0m    ^\u001b[0m\n\u001b[0;31mIndentationError\u001b[0m\u001b[0;31m:\u001b[0m unexpected indent\n"
     ]
    }
   ],
   "source": [
    "#Real Estate Sector\n",
    "pld\n",
    "\tamt\n",
    "\teqix\n",
    "\tcci\n",
    "\tpsa\n"
   ]
  },
  {
   "cell_type": "code",
   "execution_count": 28,
   "id": "52008201",
   "metadata": {},
   "outputs": [
    {
     "name": "stdout",
     "output_type": "stream",
     "text": [
      "                          Symbol                        Name        Open\n",
      "2020-01-06 00:00:00-05:00    PLD              Prologis, Inc.   82.693138\n",
      "2020-01-06 00:00:00-05:00    AMT  American Tower Corporation  212.684344\n",
      "2020-01-06 00:00:00-05:00   EQIX               Equinix, Inc.  554.515490\n",
      "2020-01-06 00:00:00-05:00    CCI           Crown Castle Inc.  127.391263\n",
      "2020-01-06 00:00:00-05:00    PSA              Public Storage  184.872623\n"
     ]
    }
   ],
   "source": [
    "#Real Estate Sector\n",
    "#request etflist ticker data from yfinance dated 1-3,2020\n",
    "tickers = ['PLD', 'AMT', 'EQIX', 'CCI', 'PSA']\n",
    "\n",
    "data = {}\n",
    "\n",
    "for ticker in tickers:\n",
    "    try:\n",
    "        stock = yf.Ticker(ticker)\n",
    "        hist1 = stock.history(period='4y')\n",
    "        data[ticker] = pd.DataFrame({'Symbol': [ticker],\n",
    "                                      'Name': [stock.info['longName']],\n",
    "                                      'Open': [hist1.iloc[-827]['Open']]},\n",
    "                                      index=[hist1.index[-827]])\n",
    "    except IndexError:\n",
    "        data[ticker] = pd.DataFrame({'Symbol': [ticker],\n",
    "                                      'Name': [None],\n",
    "                                      'Open': [None]},\n",
    "                                      index=[None])\n",
    "\n",
    "df21 = pd.concat(data.values())\n",
    "print(df21)"
   ]
  },
  {
   "cell_type": "code",
   "execution_count": 29,
   "id": "abf4018b",
   "metadata": {},
   "outputs": [
    {
     "name": "stdout",
     "output_type": "stream",
     "text": [
      "                          Symbol                        Name        Open\n",
      "2020-03-03 00:00:00-05:00    PLD              Prologis, Inc.   81.944247\n",
      "2020-03-03 00:00:00-05:00    AMT  American Tower Corporation  224.106070\n",
      "2020-03-03 00:00:00-05:00   EQIX               Equinix, Inc.  591.631377\n",
      "2020-03-03 00:00:00-05:00    CCI           Crown Castle Inc.  140.557025\n",
      "2020-03-03 00:00:00-05:00    PSA              Public Storage  189.573555\n"
     ]
    }
   ],
   "source": [
    "#Real Estate Sector\n",
    "#request etflist ticker data from yfinance dated 3-2,2020\n",
    "tickers = ['PLD', 'AMT', 'EQIX', 'CCI', 'PSA']\n",
    "\n",
    "data = {}\n",
    "\n",
    "for ticker in tickers:\n",
    "    try:\n",
    "        stock = yf.Ticker(ticker)\n",
    "        hist2 = stock.history(period='4y')\n",
    "        data[ticker] = pd.DataFrame({'Symbol': [ticker],\n",
    "                                      'Name': [stock.info['longName']],\n",
    "                                      'Open': [hist2.iloc[-788]['Open']]},\n",
    "                                      index=[hist2.index[-788]])\n",
    "    except IndexError:\n",
    "        data[ticker] = pd.DataFrame({'Symbol': [ticker],\n",
    "                                      'Name': [None],\n",
    "                                      'Open': [None]},\n",
    "                                      index=[None])\n",
    "\n",
    "df22 = pd.concat(data.values())\n",
    "print(df22)"
   ]
  },
  {
   "cell_type": "code",
   "execution_count": 30,
   "id": "00274726",
   "metadata": {},
   "outputs": [
    {
     "name": "stdout",
     "output_type": "stream",
     "text": [
      "                          Symbol                        Name        Open\n",
      "2020-05-04 00:00:00-04:00    PLD              Prologis, Inc.   80.035402\n",
      "2020-05-04 00:00:00-04:00    AMT  American Tower Corporation  221.901525\n",
      "2020-05-04 00:00:00-04:00   EQIX               Equinix, Inc.  632.350512\n",
      "2020-05-04 00:00:00-04:00    CCI           Crown Castle Inc.  141.950963\n",
      "2020-05-04 00:00:00-04:00    PSA              Public Storage  161.713258\n"
     ]
    }
   ],
   "source": [
    "#Real Estate Sector\n",
    "#request etflist ticker data from yfinance dated 5-1,2020\n",
    "tickers = ['PLD', 'AMT', 'EQIX', 'CCI', 'PSA']\n",
    "\n",
    "data = {}\n",
    "\n",
    "for ticker in tickers:\n",
    "    try:\n",
    "        stock = yf.Ticker(ticker)\n",
    "        hist3 = stock.history(period='4y')\n",
    "        data[ticker] = pd.DataFrame({'Symbol': [ticker],\n",
    "                                      'Name': [stock.info['longName']],\n",
    "                                      'Open': [hist3.iloc[-745]['Open']]},\n",
    "                                      index=[hist3.index[-745]])\n",
    "    except IndexError:\n",
    "        data[ticker] = pd.DataFrame({'Symbol': [ticker],\n",
    "                                      'Name': [None],\n",
    "                                      'Open': [None]},\n",
    "                                      index=[None])\n",
    "\n",
    "df23 = pd.concat(data.values())\n",
    "print(df23)"
   ]
  },
  {
   "cell_type": "code",
   "execution_count": 31,
   "id": "fce650c1",
   "metadata": {},
   "outputs": [
    {
     "name": "stdout",
     "output_type": "stream",
     "text": [
      "                          Symbol                        Name        Open\n",
      "2020-07-02 00:00:00-04:00    PLD              Prologis, Inc.   90.641851\n",
      "2020-07-02 00:00:00-04:00    AMT  American Tower Corporation  251.609619\n",
      "2020-07-02 00:00:00-04:00   EQIX               Equinix, Inc.  700.147187\n",
      "2020-07-02 00:00:00-04:00    CCI           Crown Castle Inc.  158.007528\n",
      "2020-07-02 00:00:00-04:00    PSA              Public Storage  178.233018\n"
     ]
    }
   ],
   "source": [
    "#Real Estate Sector\n",
    "#request etflist ticker data from yfinance dated 7-1,2020\n",
    "tickers = ['PLD', 'AMT', 'EQIX', 'CCI', 'PSA']\n",
    "\n",
    "data = {}\n",
    "\n",
    "for ticker in tickers:\n",
    "    try:\n",
    "        stock = yf.Ticker(ticker)\n",
    "        hist4 = stock.history(period='4y')\n",
    "        data[ticker] = pd.DataFrame({'Symbol': [ticker],\n",
    "                                      'Name': [stock.info['longName']],\n",
    "                                      'Open': [hist4.iloc[-703]['Open']]},\n",
    "                                      index=[hist4.index[-703]])\n",
    "    except IndexError:\n",
    "        data[ticker] = pd.DataFrame({'Symbol': [ticker],\n",
    "                                      'Name': [None],\n",
    "                                      'Open': [None]},\n",
    "                                      index=[None])\n",
    "\n",
    "df24 = pd.concat(data.values())\n",
    "print(df24)"
   ]
  },
  {
   "cell_type": "code",
   "execution_count": 32,
   "id": "d5fd240a",
   "metadata": {},
   "outputs": [
    {
     "name": "stdout",
     "output_type": "stream",
     "text": [
      "                          Symbol                        Name        Open\n",
      "2020-09-02 00:00:00-04:00    PLD              Prologis, Inc.   95.219423\n",
      "2020-09-02 00:00:00-04:00    AMT  American Tower Corporation  232.517161\n",
      "2020-09-02 00:00:00-04:00   EQIX               Equinix, Inc.  754.531769\n",
      "2020-09-02 00:00:00-04:00    CCI           Crown Castle Inc.  146.583527\n",
      "2020-09-02 00:00:00-04:00    PSA              Public Storage  188.217136\n"
     ]
    }
   ],
   "source": [
    "#Real Estate Sector\n",
    "#request etflist ticker data from yfinance dated 9-1,2020\n",
    "tickers = ['PLD', 'AMT', 'EQIX', 'CCI', 'PSA']\n",
    "\n",
    "data = {}\n",
    "\n",
    "for ticker in tickers:\n",
    "    try:\n",
    "        stock = yf.Ticker(ticker)\n",
    "        hist5 = stock.history(period='4y')\n",
    "        data[ticker] = pd.DataFrame({'Symbol': [ticker],\n",
    "                                      'Name': [stock.info['longName']],\n",
    "                                      'Open': [hist5.iloc[-660]['Open']]},\n",
    "                                      index=[hist5.index[-660]])\n",
    "    except IndexError:\n",
    "        data[ticker] = pd.DataFrame({'Symbol': [ticker],\n",
    "                                      'Name': [None],\n",
    "                                      'Open': [None]},\n",
    "                                      index=[None])\n",
    "\n",
    "df25 = pd.concat(data.values())\n",
    "print(df25)"
   ]
  },
  {
   "cell_type": "code",
   "execution_count": 33,
   "id": "967c8bca",
   "metadata": {},
   "outputs": [
    {
     "name": "stdout",
     "output_type": "stream",
     "text": [
      "                          Symbol                        Name        Open\n",
      "2020-11-03 00:00:00-05:00    PLD              Prologis, Inc.   96.844927\n",
      "2020-11-03 00:00:00-05:00    AMT  American Tower Corporation  222.165913\n",
      "2020-11-03 00:00:00-05:00   EQIX               Equinix, Inc.  711.963385\n",
      "2020-11-03 00:00:00-05:00    CCI           Crown Castle Inc.  147.362044\n",
      "2020-11-03 00:00:00-05:00    PSA              Public Storage  209.463778\n"
     ]
    }
   ],
   "source": [
    "#Real Estate Sector\n",
    "#request etflist ticker data from yfinance dated 11-2,2020\n",
    "tickers = ['PLD', 'AMT', 'EQIX', 'CCI', 'PSA']\n",
    "\n",
    "data = {}\n",
    "\n",
    "for ticker in tickers:\n",
    "    try:\n",
    "        stock = yf.Ticker(ticker)\n",
    "        hist6 = stock.history(period='4y')\n",
    "        data[ticker] = pd.DataFrame({'Symbol': [ticker],\n",
    "                                      'Name': [stock.info['longName']],\n",
    "                                      'Open': [hist6.iloc[-617]['Open']]},\n",
    "                                      index=[hist6.index[-617]])\n",
    "    except IndexError:\n",
    "        data[ticker] = pd.DataFrame({'Symbol': [ticker],\n",
    "                                      'Name': [None],\n",
    "                                      'Open': [None]},\n",
    "                                      index=[None])\n",
    "\n",
    "df26 = pd.concat(data.values())\n",
    "print(df26)"
   ]
  },
  {
   "cell_type": "code",
   "execution_count": 34,
   "id": "5b4ab3d7",
   "metadata": {},
   "outputs": [
    {
     "name": "stdout",
     "output_type": "stream",
     "text": [
      "                          Symbol                        Name        Open\n",
      "2021-01-05 00:00:00-05:00    PLD              Prologis, Inc.   91.233628\n",
      "2021-01-05 00:00:00-05:00    AMT  American Tower Corporation  208.783530\n",
      "2021-01-05 00:00:00-05:00   EQIX               Equinix, Inc.  671.569163\n",
      "2021-01-05 00:00:00-05:00    CCI           Crown Castle Inc.  143.458097\n",
      "2021-01-05 00:00:00-05:00    PSA              Public Storage  198.056552\n"
     ]
    }
   ],
   "source": [
    "#Real Estate Sector\n",
    "#request etflist ticker data from yfinance dated 1-4,2021\n",
    "tickers = ['PLD', 'AMT', 'EQIX', 'CCI', 'PSA']\n",
    "\n",
    "data = {}\n",
    "\n",
    "for ticker in tickers:\n",
    "    try:\n",
    "        stock = yf.Ticker(ticker)\n",
    "        hist7 = stock.history(period='4y')\n",
    "        data[ticker] = pd.DataFrame({'Symbol': [ticker],\n",
    "                                      'Name': [stock.info['longName']],\n",
    "                                      'Open': [hist7.iloc[-575]['Open']]},\n",
    "                                      index=[hist7.index[-575]])\n",
    "    except IndexError:\n",
    "        data[ticker] = pd.DataFrame({'Symbol': [ticker],\n",
    "                                      'Name': [None],\n",
    "                                      'Open': [None]},\n",
    "                                      index=[None])\n",
    "\n",
    "df27 = pd.concat(data.values())\n",
    "print(df27)"
   ]
  },
  {
   "cell_type": "code",
   "execution_count": 35,
   "id": "e62d858a",
   "metadata": {},
   "outputs": [
    {
     "name": "stdout",
     "output_type": "stream",
     "text": [
      "                          Symbol                        Name        Open\n",
      "2021-03-02 00:00:00-05:00    PLD              Prologis, Inc.   94.450287\n",
      "2021-03-02 00:00:00-05:00    AMT  American Tower Corporation  203.481397\n",
      "2021-03-02 00:00:00-05:00   EQIX               Equinix, Inc.  624.841322\n",
      "2021-03-02 00:00:00-05:00    CCI           Crown Castle Inc.  142.173355\n",
      "2021-03-02 00:00:00-05:00    PSA              Public Storage  208.829455\n"
     ]
    }
   ],
   "source": [
    "#Real Estate Sector\n",
    "#request etflist ticker data from yfinance dated 3-2021\n",
    "tickers = ['PLD', 'AMT', 'EQIX', 'CCI', 'PSA']\n",
    "\n",
    "data = {}\n",
    "\n",
    "for ticker in tickers:\n",
    "    try:\n",
    "        stock = yf.Ticker(ticker)\n",
    "        hist8 = stock.history(period='4y')\n",
    "        data[ticker] = pd.DataFrame({'Symbol': [ticker],\n",
    "                                      'Name': [stock.info['longName']],\n",
    "                                      'Open': [hist8.iloc[-537]['Open']]},\n",
    "                                      index=[hist8.index[-537]])\n",
    "    except IndexError:\n",
    "        data[ticker] = pd.DataFrame({'Symbol': [ticker],\n",
    "                                      'Name': [None],\n",
    "                                      'Open': [None]},\n",
    "                                      index=[None])\n",
    "\n",
    "df28 = pd.concat(data.values())\n",
    "print(df28)"
   ]
  },
  {
   "cell_type": "code",
   "execution_count": 36,
   "id": "d4378aa8",
   "metadata": {},
   "outputs": [
    {
     "name": "stdout",
     "output_type": "stream",
     "text": [
      "                          Symbol                        Name        Open\n",
      "2021-05-04 00:00:00-04:00    PLD              Prologis, Inc.  110.752045\n",
      "2021-05-04 00:00:00-04:00    AMT  American Tower Corporation  241.166760\n",
      "2021-05-04 00:00:00-04:00   EQIX               Equinix, Inc.  687.901378\n",
      "2021-05-04 00:00:00-04:00    CCI           Crown Castle Inc.  173.593394\n",
      "2021-05-04 00:00:00-04:00    PSA              Public Storage  254.539250\n"
     ]
    }
   ],
   "source": [
    "#Real Estate Sector\n",
    "#request etflist ticker data from yfinance dated 5-3-2021\n",
    "tickers = ['PLD', 'AMT', 'EQIX', 'CCI', 'PSA']\n",
    "\n",
    "data = {}\n",
    "\n",
    "for ticker in tickers:\n",
    "    try:\n",
    "        stock = yf.Ticker(ticker)\n",
    "        hist9 = stock.history(period='4y')\n",
    "        data[ticker] = pd.DataFrame({'Symbol': [ticker],\n",
    "                                      'Name': [stock.info['longName']],\n",
    "                                      'Open': [hist9.iloc[-493]['Open']]},\n",
    "                                      index=[hist9.index[-493]])\n",
    "    except IndexError:\n",
    "        data[ticker] = pd.DataFrame({'Symbol': [ticker],\n",
    "                                      'Name': [None],\n",
    "                                      'Open': [None]},\n",
    "                                      index=[None])\n",
    "\n",
    "df29 = pd.concat(data.values())\n",
    "print(df29)"
   ]
  },
  {
   "cell_type": "code",
   "execution_count": 37,
   "id": "23b7ea4e",
   "metadata": {},
   "outputs": [
    {
     "name": "stdout",
     "output_type": "stream",
     "text": [
      "                          Symbol                        Name        Open\n",
      "2021-07-02 00:00:00-04:00    PLD              Prologis, Inc.  115.539490\n",
      "2021-07-02 00:00:00-04:00    AMT  American Tower Corporation  259.900290\n",
      "2021-07-02 00:00:00-04:00   EQIX               Equinix, Inc.  776.767676\n",
      "2021-07-02 00:00:00-04:00    CCI           Crown Castle Inc.  183.444404\n",
      "2021-07-02 00:00:00-04:00    PSA              Public Storage  276.081724\n"
     ]
    }
   ],
   "source": [
    "#Real Estate Sector\n",
    "#request etflist ticker data from yfinance dated 7-1-2021\n",
    "tickers = ['PLD', 'AMT', 'EQIX', 'CCI', 'PSA']\n",
    "\n",
    "data = {}\n",
    "\n",
    "for ticker in tickers:\n",
    "    try:\n",
    "        stock = yf.Ticker(ticker)\n",
    "        hist10 = stock.history(period='4y')\n",
    "        data[ticker] = pd.DataFrame({'Symbol': [ticker],\n",
    "                                      'Name': [stock.info['longName']],\n",
    "                                      'Open': [hist10.iloc[-451]['Open']]},\n",
    "                                      index=[hist10.index[-451]])\n",
    "    except IndexError:\n",
    "        data[ticker] = pd.DataFrame({'Symbol': [ticker],\n",
    "                                      'Name': [None],\n",
    "                                      'Open': [None]},\n",
    "                                      index=[None])\n",
    "\n",
    "df30 = pd.concat(data.values())\n",
    "print(df30)"
   ]
  },
  {
   "cell_type": "code",
   "execution_count": 38,
   "id": "c21d4949",
   "metadata": {},
   "outputs": [
    {
     "name": "stdout",
     "output_type": "stream",
     "text": [
      "                          Symbol                        Name        Open\n",
      "2021-09-02 00:00:00-04:00    PLD              Prologis, Inc.  132.178110\n",
      "2021-09-02 00:00:00-04:00    AMT  American Tower Corporation  285.574233\n",
      "2021-09-02 00:00:00-04:00   EQIX               Equinix, Inc.  843.167882\n",
      "2021-09-02 00:00:00-04:00    CCI           Crown Castle Inc.  185.856301\n",
      "2021-09-02 00:00:00-04:00    PSA              Public Storage  302.390922\n"
     ]
    }
   ],
   "source": [
    "#Real Estate Sector\n",
    "#request etflist ticker data from yfinance dated 9-1-2021\n",
    "tickers = ['PLD', 'AMT', 'EQIX', 'CCI', 'PSA']\n",
    "\n",
    "data = {}\n",
    "\n",
    "for ticker in tickers:\n",
    "    try:\n",
    "        stock = yf.Ticker(ticker)\n",
    "        hist11 = stock.history(period='4y')\n",
    "        data[ticker] = pd.DataFrame({'Symbol': [ticker],\n",
    "                                      'Name': [stock.info['longName']],\n",
    "                                      'Open': [hist11.iloc[-408]['Open']]},\n",
    "                                      index=[hist11.index[-408]])\n",
    "    except IndexError:\n",
    "        data[ticker] = pd.DataFrame({'Symbol': [ticker],\n",
    "                                      'Name': [None],\n",
    "                                      'Open': [None]},\n",
    "                                      index=[None])\n",
    "\n",
    "df31 = pd.concat(data.values())\n",
    "print(df31)"
   ]
  },
  {
   "cell_type": "code",
   "execution_count": 39,
   "id": "6b060efe",
   "metadata": {},
   "outputs": [
    {
     "name": "stdout",
     "output_type": "stream",
     "text": [
      "                          Symbol                        Name        Open\n",
      "2021-11-02 00:00:00-04:00    PLD              Prologis, Inc.  139.949855\n",
      "2021-11-02 00:00:00-04:00    AMT  American Tower Corporation  272.190342\n",
      "2021-11-02 00:00:00-04:00   EQIX               Equinix, Inc.  811.185851\n",
      "2021-11-02 00:00:00-04:00    CCI           Crown Castle Inc.  172.008230\n",
      "2021-11-02 00:00:00-04:00    PSA              Public Storage  307.652517\n"
     ]
    }
   ],
   "source": [
    "#Real Estate Sector\n",
    "#request etflist ticker data from yfinance dated 11-1-1021\n",
    "tickers = ['PLD', 'AMT', 'EQIX', 'CCI', 'PSA']\n",
    "\n",
    "data = {}\n",
    "\n",
    "for ticker in tickers:\n",
    "    try:\n",
    "        stock = yf.Ticker(ticker)\n",
    "        hist12 = stock.history(period='4y')\n",
    "        data[ticker] = pd.DataFrame({'Symbol': [ticker],\n",
    "                                      'Name': [stock.info['longName']],\n",
    "                                      'Open': [hist12.iloc[-366]['Open']]},\n",
    "                                      index=[hist12.index[-366]])\n",
    "    except IndexError:\n",
    "        data[ticker] = pd.DataFrame({'Symbol': [ticker],\n",
    "                                      'Name': [None],\n",
    "                                      'Open': [None]},\n",
    "                                      index=[None])\n",
    "\n",
    "df32 = pd.concat(data.values())\n",
    "print(df32)"
   ]
  },
  {
   "cell_type": "code",
   "execution_count": 40,
   "id": "a363312a",
   "metadata": {},
   "outputs": [
    {
     "name": "stdout",
     "output_type": "stream",
     "text": [
      "                          Symbol                        Name        Open\n",
      "2022-01-04 00:00:00-05:00    PLD              Prologis, Inc.  158.906841\n",
      "2022-01-04 00:00:00-05:00    AMT  American Tower Corporation  277.778739\n",
      "2022-01-04 00:00:00-05:00   EQIX               Equinix, Inc.  813.821245\n",
      "2022-01-04 00:00:00-05:00    CCI           Crown Castle Inc.  197.227673\n",
      "2022-01-04 00:00:00-05:00    PSA              Public Storage  338.625305\n"
     ]
    }
   ],
   "source": [
    "#Real Estate Sector\n",
    "#request etflist ticker data from yfinance dated 1-3-2022\n",
    "tickers = ['PLD', 'AMT', 'EQIX', 'CCI', 'PSA']\n",
    "\n",
    "data = {}\n",
    "\n",
    "for ticker in tickers:\n",
    "    try:\n",
    "        stock = yf.Ticker(ticker)\n",
    "        hist13 = stock.history(period='4y')\n",
    "        data[ticker] = pd.DataFrame({'Symbol': [ticker],\n",
    "                                      'Name': [stock.info['longName']],\n",
    "                                      'Open': [hist13.iloc[-323]['Open']]},\n",
    "                                      index=[hist13.index[-323]])\n",
    "    except IndexError:\n",
    "        data[ticker] = pd.DataFrame({'Symbol': [ticker],\n",
    "                                      'Name': [None],\n",
    "                                      'Open': [None]},\n",
    "                                      index=[None])\n",
    "\n",
    "df33 = pd.concat(data.values())\n",
    "print(df33)"
   ]
  },
  {
   "cell_type": "code",
   "execution_count": 41,
   "id": "40d753f4",
   "metadata": {},
   "outputs": [
    {
     "name": "stdout",
     "output_type": "stream",
     "text": [
      "                          Symbol                        Name        Open\n",
      "2022-03-02 00:00:00-05:00    PLD              Prologis, Inc.  141.571021\n",
      "2022-03-02 00:00:00-05:00    AMT  American Tower Corporation  220.828219\n",
      "2022-03-02 00:00:00-05:00   EQIX               Equinix, Inc.  689.280866\n",
      "2022-03-02 00:00:00-05:00    CCI           Crown Castle Inc.  160.246306\n",
      "2022-03-02 00:00:00-05:00    PSA              Public Storage  333.894190\n"
     ]
    }
   ],
   "source": [
    "#Real Estate Sector\n",
    "#request etflist ticker data from yfinance dated 3-1-2022\n",
    "tickers = ['PLD', 'AMT', 'EQIX', 'CCI', 'PSA']\n",
    "\n",
    "data = {}\n",
    "\n",
    "for ticker in tickers:\n",
    "    try:\n",
    "        stock = yf.Ticker(ticker)\n",
    "        hist14 = stock.history(period='4y')\n",
    "        data[ticker] = pd.DataFrame({'Symbol': [ticker],\n",
    "                                      'Name': [stock.info['longName']],\n",
    "                                      'Open': [hist14.iloc[-284]['Open']]},\n",
    "                                      index=[hist14.index[-284]])\n",
    "    except IndexError:\n",
    "        data[ticker] = pd.DataFrame({'Symbol': [ticker],\n",
    "                                      'Name': [None],\n",
    "                                      'Open': [None]},\n",
    "                                      index=[None])\n",
    "\n",
    "df34 = pd.concat(data.values())\n",
    "print(df34)"
   ]
  },
  {
   "cell_type": "code",
   "execution_count": 42,
   "id": "7f0fcf5b",
   "metadata": {},
   "outputs": [
    {
     "name": "stdout",
     "output_type": "stream",
     "text": [
      "                          Symbol                        Name        Open\n",
      "2022-05-03 00:00:00-04:00    PLD              Prologis, Inc.  149.964863\n",
      "2022-05-03 00:00:00-04:00    AMT  American Tower Corporation  230.410137\n",
      "2022-05-03 00:00:00-04:00   EQIX               Equinix, Inc.  694.338480\n",
      "2022-05-03 00:00:00-04:00    CCI           Crown Castle Inc.  174.789575\n",
      "2022-05-03 00:00:00-04:00    PSA              Public Storage  336.803955\n"
     ]
    }
   ],
   "source": [
    "#Real Estate Sector\n",
    "#request etflist ticker data from yfinance dated 5-2-2022\n",
    "tickers = ['PLD', 'AMT', 'EQIX', 'CCI', 'PSA']\n",
    "\n",
    "data = {}\n",
    "\n",
    "for ticker in tickers:\n",
    "    try:\n",
    "        stock = yf.Ticker(ticker)\n",
    "        hist15 = stock.history(period='4y')\n",
    "        data[ticker] = pd.DataFrame({'Symbol': [ticker],\n",
    "                                      'Name': [stock.info['longName']],\n",
    "                                      'Open': [hist15.iloc[-241]['Open']]},\n",
    "                                      index=[hist15.index[-241]])\n",
    "    except IndexError:\n",
    "        data[ticker] = pd.DataFrame({'Symbol': [ticker],\n",
    "                                      'Name': [None],\n",
    "                                      'Open': [None]},\n",
    "                                      index=[None])\n",
    "\n",
    "df35 = pd.concat(data.values())\n",
    "print(df35)"
   ]
  },
  {
   "cell_type": "code",
   "execution_count": 43,
   "id": "4a3093cf",
   "metadata": {},
   "outputs": [
    {
     "name": "stdout",
     "output_type": "stream",
     "text": [
      "                          Symbol                        Name        Open\n",
      "2022-07-05 00:00:00-04:00    PLD              Prologis, Inc.  116.981517\n",
      "2022-07-05 00:00:00-04:00    AMT  American Tower Corporation  249.918901\n",
      "2022-07-05 00:00:00-04:00   EQIX               Equinix, Inc.  655.797219\n",
      "2022-07-05 00:00:00-04:00    CCI           Crown Castle Inc.  166.071334\n",
      "2022-07-05 00:00:00-04:00    PSA              Public Storage  295.835383\n"
     ]
    }
   ],
   "source": [
    "#Real Estate Sector\n",
    "#request etflist ticker data from yfinance dated 7-1-2022\n",
    "tickers = ['PLD', 'AMT', 'EQIX', 'CCI', 'PSA']\n",
    "\n",
    "data = {}\n",
    "\n",
    "for ticker in tickers:\n",
    "    try:\n",
    "        stock = yf.Ticker(ticker)\n",
    "        hist16 = stock.history(period='4y')\n",
    "        data[ticker] = pd.DataFrame({'Symbol': [ticker],\n",
    "                                      'Name': [stock.info['longName']],\n",
    "                                      'Open': [hist16.iloc[-199]['Open']]},\n",
    "                                      index=[hist16.index[-199]])\n",
    "    except IndexError:\n",
    "        data[ticker] = pd.DataFrame({'Symbol': [ticker],\n",
    "                                      'Name': [None],\n",
    "                                      'Open': [None]},\n",
    "                                      index=[None])\n",
    "\n",
    "df36 = pd.concat(data.values())\n",
    "print(df36)"
   ]
  },
  {
   "cell_type": "code",
   "execution_count": 44,
   "id": "669628b3",
   "metadata": {},
   "outputs": [
    {
     "name": "stdout",
     "output_type": "stream",
     "text": [
      "                          Symbol                        Name        Open\n",
      "2022-09-02 00:00:00-04:00    PLD              Prologis, Inc.  123.066761\n",
      "2022-09-02 00:00:00-04:00    AMT  American Tower Corporation  253.880593\n",
      "2022-09-02 00:00:00-04:00   EQIX               Equinix, Inc.  646.383460\n",
      "2022-09-02 00:00:00-04:00    CCI           Crown Castle Inc.  167.757128\n",
      "2022-09-02 00:00:00-04:00    PSA              Public Storage  332.012322\n"
     ]
    }
   ],
   "source": [
    "#Real Estate Sector\n",
    "#request etflist ticker data from yfinance dated 9-1-2022\n",
    "tickers = ['PLD', 'AMT', 'EQIX', 'CCI', 'PSA']\n",
    "\n",
    "data = {}\n",
    "\n",
    "for ticker in tickers:\n",
    "    try:\n",
    "        stock = yf.Ticker(ticker)\n",
    "        hist17 = stock.history(period='4y')\n",
    "        data[ticker] = pd.DataFrame({'Symbol': [ticker],\n",
    "                                      'Name': [stock.info['longName']],\n",
    "                                      'Open': [hist17.iloc[-156]['Open']]},\n",
    "                                      index=[hist17.index[-156]])\n",
    "    except IndexError:\n",
    "        data[ticker] = pd.DataFrame({'Symbol': [ticker],\n",
    "                                      'Name': [None],\n",
    "                                      'Open': [None]},\n",
    "                                      index=[None])\n",
    "\n",
    "df37 = pd.concat(data.values())\n",
    "print(df37)"
   ]
  },
  {
   "cell_type": "code",
   "execution_count": 45,
   "id": "cac9c3bd",
   "metadata": {},
   "outputs": [
    {
     "name": "stdout",
     "output_type": "stream",
     "text": [
      "                          Symbol                        Name        Open\n",
      "2022-11-02 00:00:00-04:00    PLD              Prologis, Inc.  106.206983\n",
      "2022-11-02 00:00:00-04:00    AMT  American Tower Corporation  203.696673\n",
      "2022-11-02 00:00:00-04:00   EQIX               Equinix, Inc.  546.706014\n",
      "2022-11-02 00:00:00-04:00    CCI           Crown Castle Inc.  128.619131\n",
      "2022-11-02 00:00:00-04:00    PSA              Public Storage  302.069161\n"
     ]
    }
   ],
   "source": [
    "#Real Estate Sector\n",
    "#request etflist ticker data from yfinance dated 9-1-2022\n",
    "tickers = ['PLD', 'AMT', 'EQIX', 'CCI', 'PSA']\n",
    "\n",
    "data = {}\n",
    "\n",
    "for ticker in tickers:\n",
    "    try:\n",
    "        stock = yf.Ticker(ticker)\n",
    "        hist18 = stock.history(period='4y')\n",
    "        data[ticker] = pd.DataFrame({'Symbol': [ticker],\n",
    "                                      'Name': [stock.info['longName']],\n",
    "                                      'Open': [hist18.iloc[-114]['Open']]},\n",
    "                                      index=[hist18.index[-114]])\n",
    "    except IndexError:\n",
    "        data[ticker] = pd.DataFrame({'Symbol': [ticker],\n",
    "                                      'Name': [None],\n",
    "                                      'Open': [None]},\n",
    "                                      index=[None])\n",
    "\n",
    "df38 = pd.concat(data.values())\n",
    "print(df38)"
   ]
  },
  {
   "cell_type": "code",
   "execution_count": 46,
   "id": "eaf71a8a",
   "metadata": {},
   "outputs": [
    {
     "name": "stdout",
     "output_type": "stream",
     "text": [
      "                          Symbol                        Name        Open\n",
      "2023-01-04 00:00:00-05:00    PLD              Prologis, Inc.  113.798996\n",
      "2023-01-04 00:00:00-05:00    AMT  American Tower Corporation  215.804603\n",
      "2023-01-04 00:00:00-05:00   EQIX               Equinix, Inc.  665.487322\n",
      "2023-01-04 00:00:00-05:00    CCI           Crown Castle Inc.  137.630494\n",
      "2023-01-04 00:00:00-05:00    PSA              Public Storage  273.497041\n"
     ]
    }
   ],
   "source": [
    "#Real Estate Sector\n",
    "#request etflist ticker data from yfinance dated 1-3-2023\n",
    "tickers = ['PLD', 'AMT', 'EQIX', 'CCI', 'PSA']\n",
    "\n",
    "data = {}\n",
    "\n",
    "for ticker in tickers:\n",
    "    try:\n",
    "        stock = yf.Ticker(ticker)\n",
    "        hist19 = stock.history(period='4y')\n",
    "        data[ticker] = pd.DataFrame({'Symbol': [ticker],\n",
    "                                      'Name': [stock.info['longName']],\n",
    "                                      'Open': [hist19.iloc[-72]['Open']]},\n",
    "                                      index=[hist19.index[-72]])\n",
    "    except IndexError:\n",
    "        data[ticker] = pd.DataFrame({'Symbol': [ticker],\n",
    "                                      'Name': [None],\n",
    "                                      'Open': [None]},\n",
    "                                      index=[None])\n",
    "\n",
    "df39 = pd.concat(data.values())\n",
    "print(df39)"
   ]
  },
  {
   "cell_type": "code",
   "execution_count": 47,
   "id": "a4405fed",
   "metadata": {},
   "outputs": [
    {
     "name": "stdout",
     "output_type": "stream",
     "text": [
      "                          Symbol                        Name        Open\n",
      "2023-03-02 00:00:00-05:00    PLD              Prologis, Inc.  119.408042\n",
      "2023-03-02 00:00:00-05:00    AMT  American Tower Corporation  191.892492\n",
      "2023-03-02 00:00:00-05:00   EQIX               Equinix, Inc.  662.511806\n",
      "2023-03-02 00:00:00-05:00    CCI           Crown Castle Inc.  126.703048\n",
      "2023-03-02 00:00:00-05:00    PSA              Public Storage  291.142358\n"
     ]
    }
   ],
   "source": [
    "#Real Estate Sector\n",
    "#request etflist ticker data from yfinance dated 3-1-2023\n",
    "tickers = ['PLD', 'AMT', 'EQIX', 'CCI', 'PSA']\n",
    "\n",
    "data = {}\n",
    "\n",
    "for ticker in tickers:\n",
    "    try:\n",
    "        stock = yf.Ticker(ticker)\n",
    "        hist20 = stock.history(period='4y')\n",
    "        data[ticker] = pd.DataFrame({'Symbol': [ticker],\n",
    "                                      'Name': [stock.info['longName']],\n",
    "                                      'Open': [hist20.iloc[-33]['Open']]},\n",
    "                                      index=[hist20.index[-33]])\n",
    "    except IndexError:\n",
    "        data[ticker] = pd.DataFrame({'Symbol': [ticker],\n",
    "                                      'Name': [None],\n",
    "                                      'Open': [None]},\n",
    "                                      index=[None])\n",
    "\n",
    "df40 = pd.concat(data.values())\n",
    "print(df40)"
   ]
  },
  {
   "cell_type": "code",
   "execution_count": 48,
   "id": "52be4fce",
   "metadata": {},
   "outputs": [
    {
     "data": {
      "text/html": [
       "<div>\n",
       "<style scoped>\n",
       "    .dataframe tbody tr th:only-of-type {\n",
       "        vertical-align: middle;\n",
       "    }\n",
       "\n",
       "    .dataframe tbody tr th {\n",
       "        vertical-align: top;\n",
       "    }\n",
       "\n",
       "    .dataframe thead th {\n",
       "        text-align: right;\n",
       "    }\n",
       "</style>\n",
       "<table border=\"1\" class=\"dataframe\">\n",
       "  <thead>\n",
       "    <tr style=\"text-align: right;\">\n",
       "      <th></th>\n",
       "      <th>Date</th>\n",
       "      <th>Symbol</th>\n",
       "      <th>Name</th>\n",
       "      <th>Open</th>\n",
       "    </tr>\n",
       "  </thead>\n",
       "  <tbody>\n",
       "    <tr>\n",
       "      <th>0</th>\n",
       "      <td>2020-01-06 00:00:00-05:00</td>\n",
       "      <td>PLD</td>\n",
       "      <td>Prologis, Inc.</td>\n",
       "      <td>82.693138</td>\n",
       "    </tr>\n",
       "    <tr>\n",
       "      <th>1</th>\n",
       "      <td>2020-01-06 00:00:00-05:00</td>\n",
       "      <td>AMT</td>\n",
       "      <td>American Tower Corporation</td>\n",
       "      <td>212.684344</td>\n",
       "    </tr>\n",
       "    <tr>\n",
       "      <th>2</th>\n",
       "      <td>2020-01-06 00:00:00-05:00</td>\n",
       "      <td>EQIX</td>\n",
       "      <td>Equinix, Inc.</td>\n",
       "      <td>554.515490</td>\n",
       "    </tr>\n",
       "    <tr>\n",
       "      <th>3</th>\n",
       "      <td>2020-01-06 00:00:00-05:00</td>\n",
       "      <td>CCI</td>\n",
       "      <td>Crown Castle Inc.</td>\n",
       "      <td>127.391263</td>\n",
       "    </tr>\n",
       "    <tr>\n",
       "      <th>4</th>\n",
       "      <td>2020-01-06 00:00:00-05:00</td>\n",
       "      <td>PSA</td>\n",
       "      <td>Public Storage</td>\n",
       "      <td>184.872623</td>\n",
       "    </tr>\n",
       "    <tr>\n",
       "      <th>...</th>\n",
       "      <td>...</td>\n",
       "      <td>...</td>\n",
       "      <td>...</td>\n",
       "      <td>...</td>\n",
       "    </tr>\n",
       "    <tr>\n",
       "      <th>95</th>\n",
       "      <td>2023-03-02 00:00:00-05:00</td>\n",
       "      <td>PLD</td>\n",
       "      <td>Prologis, Inc.</td>\n",
       "      <td>119.408042</td>\n",
       "    </tr>\n",
       "    <tr>\n",
       "      <th>96</th>\n",
       "      <td>2023-03-02 00:00:00-05:00</td>\n",
       "      <td>AMT</td>\n",
       "      <td>American Tower Corporation</td>\n",
       "      <td>191.892492</td>\n",
       "    </tr>\n",
       "    <tr>\n",
       "      <th>97</th>\n",
       "      <td>2023-03-02 00:00:00-05:00</td>\n",
       "      <td>EQIX</td>\n",
       "      <td>Equinix, Inc.</td>\n",
       "      <td>662.511806</td>\n",
       "    </tr>\n",
       "    <tr>\n",
       "      <th>98</th>\n",
       "      <td>2023-03-02 00:00:00-05:00</td>\n",
       "      <td>CCI</td>\n",
       "      <td>Crown Castle Inc.</td>\n",
       "      <td>126.703048</td>\n",
       "    </tr>\n",
       "    <tr>\n",
       "      <th>99</th>\n",
       "      <td>2023-03-02 00:00:00-05:00</td>\n",
       "      <td>PSA</td>\n",
       "      <td>Public Storage</td>\n",
       "      <td>291.142358</td>\n",
       "    </tr>\n",
       "  </tbody>\n",
       "</table>\n",
       "<p>100 rows × 4 columns</p>\n",
       "</div>"
      ],
      "text/plain": [
       "                        Date Symbol                        Name        Open\n",
       "0  2020-01-06 00:00:00-05:00    PLD              Prologis, Inc.   82.693138\n",
       "1  2020-01-06 00:00:00-05:00    AMT  American Tower Corporation  212.684344\n",
       "2  2020-01-06 00:00:00-05:00   EQIX               Equinix, Inc.  554.515490\n",
       "3  2020-01-06 00:00:00-05:00    CCI           Crown Castle Inc.  127.391263\n",
       "4  2020-01-06 00:00:00-05:00    PSA              Public Storage  184.872623\n",
       "..                       ...    ...                         ...         ...\n",
       "95 2023-03-02 00:00:00-05:00    PLD              Prologis, Inc.  119.408042\n",
       "96 2023-03-02 00:00:00-05:00    AMT  American Tower Corporation  191.892492\n",
       "97 2023-03-02 00:00:00-05:00   EQIX               Equinix, Inc.  662.511806\n",
       "98 2023-03-02 00:00:00-05:00    CCI           Crown Castle Inc.  126.703048\n",
       "99 2023-03-02 00:00:00-05:00    PSA              Public Storage  291.142358\n",
       "\n",
       "[100 rows x 4 columns]"
      ]
     },
     "execution_count": 48,
     "metadata": {},
     "output_type": "execute_result"
    }
   ],
   "source": [
    "Estate_Sector_df = pd.concat([df21, df22, df23, df24, df25, df26, df27, df28, df29, df30, df31, df32, df33, df34, df35, df36, df37, df38, df39, df40], axis=0)\n",
    "\n",
    "Estate_Sector_df = Estate_Sector_df.reset_index()\n",
    "\n",
    "Estate_Sector_df = Estate_Sector_df.rename(columns={'index': 'Date'})\n",
    "\n",
    "\n",
    "Estate_Sector_df.to_csv('Estate_Sector.csv', index=False)\n",
    "Estate_Sector_df\n"
   ]
  },
  {
   "cell_type": "code",
   "execution_count": 49,
   "id": "603dd7a5",
   "metadata": {},
   "outputs": [
    {
     "data": {
      "image/png": "[encoded data removed]",
      "text/plain": [
       "<Figure size 640x480 with 1 Axes>"
      ]
     },
     "metadata": {},
     "output_type": "display_data"
    }
   ],
   "source": [
    "import pandas as pd\n",
    "import seaborn as sns\n",
    "import matplotlib.pyplot as plt\n",
    "\n",
    "sns.set(style='darkgrid')\n",
    "\n",
    "# Plot data by stock\n",
    "sns.lineplot(data=Estate_Sector_df, x='Date', y='Open', hue='Symbol')\n",
    "\n",
    "plt.xticks(rotation=45)\n",
    "\n",
    "plt.show()"
   ]
  },
  {
   "cell_type": "code",
   "execution_count": null,
   "id": "8c06574e",
   "metadata": {},
   "outputs": [],
   "source": []
  }
 ],
 "metadata": {
  "kernelspec": {
   "display_name": "Python 3 (ipykernel)",
   "language": "python",
   "name": "python3"
  },
  "language_info": {
   "codemirror_mode": {
    "name": "ipython",
    "version": 3
   },
   "file_extension": ".py",
   "mimetype": "text/x-python",
   "name": "python",
   "nbconvert_exporter": "python",
   "pygments_lexer": "ipython3",
   "version": "3.7.7"
  }
 },
 "nbformat": 4,
 "nbformat_minor": 5
}
