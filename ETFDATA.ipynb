{
 "cells": [
  {
   "cell_type": "code",
   "execution_count": 3,
   "id": "cefbfc6d",
   "metadata": {},
   "outputs": [],
   "source": [
    "#Dependencies\n",
    "import pandas as pd\n",
    "import numpy as np\n",
    "import requests\n",
    "import json\n",
    "import yfinance as yf"
   ]
  },
  {
   "cell_type": "code",
   "execution_count": 4,
   "id": "b51ea6fd",
   "metadata": {},
   "outputs": [],
   "source": [
    "tickers = ['JNJ', 'UNH', 'NVO', 'LLY', 'MRK', 'PLD', 'AMT', 'EQIX', 'CCI', 'PSA', 'AAPL', 'MSFT', 'NVDA', 'TSM', 'AVGO', 'BRK-B', 'JPM-PC', 'V', 'JPM', 'MA', 'XOM', 'CVX', 'SHEL', 'TTE', 'COP']\n",
    "\n",
    "data = {}\n",
    "\n",
    "for ticker in tickers:\n",
    "    try:\n",
    "        stock = yf.Ticker(ticker)\n",
    "        data[ticker] = pd.DataFrame({'Symbol': [ticker],\n",
    "                                      'Name': [stock.info['longName']]})\n",
    "    except IndexError:\n",
    "        data[ticker] = pd.DataFrame({'Symbol': [ticker],\n",
    "                                      'Name': [None],\n",
    "                                      'Open': [None]},\n",
    "                                      index=[None])\n",
    "\n",
    "master_df = pd.concat(data.values())"
   ]
  },
  {
   "cell_type": "code",
   "execution_count": 5,
   "id": "82f4e85e",
   "metadata": {},
   "outputs": [
    {
     "data": {
      "text/html": [
       "<div>\n",
       "<style scoped>\n",
       "    .dataframe tbody tr th:only-of-type {\n",
       "        vertical-align: middle;\n",
       "    }\n",
       "\n",
       "    .dataframe tbody tr th {\n",
       "        vertical-align: top;\n",
       "    }\n",
       "\n",
       "    .dataframe thead th {\n",
       "        text-align: right;\n",
       "    }\n",
       "</style>\n",
       "<table border=\"1\" class=\"dataframe\">\n",
       "  <thead>\n",
       "    <tr style=\"text-align: right;\">\n",
       "      <th></th>\n",
       "      <th>Symbol</th>\n",
       "      <th>Name</th>\n",
       "    </tr>\n",
       "  </thead>\n",
       "  <tbody>\n",
       "    <tr>\n",
       "      <th>0</th>\n",
       "      <td>JNJ</td>\n",
       "      <td>Johnson &amp; Johnson</td>\n",
       "    </tr>\n",
       "    <tr>\n",
       "      <th>0</th>\n",
       "      <td>UNH</td>\n",
       "      <td>UnitedHealth Group Incorporated</td>\n",
       "    </tr>\n",
       "    <tr>\n",
       "      <th>0</th>\n",
       "      <td>NVO</td>\n",
       "      <td>Novo Nordisk A/S</td>\n",
       "    </tr>\n",
       "    <tr>\n",
       "      <th>0</th>\n",
       "      <td>LLY</td>\n",
       "      <td>Eli Lilly and Company</td>\n",
       "    </tr>\n",
       "    <tr>\n",
       "      <th>0</th>\n",
       "      <td>MRK</td>\n",
       "      <td>Merck &amp; Co., Inc.</td>\n",
       "    </tr>\n",
       "    <tr>\n",
       "      <th>0</th>\n",
       "      <td>PLD</td>\n",
       "      <td>Prologis, Inc.</td>\n",
       "    </tr>\n",
       "    <tr>\n",
       "      <th>0</th>\n",
       "      <td>AMT</td>\n",
       "      <td>American Tower Corporation</td>\n",
       "    </tr>\n",
       "    <tr>\n",
       "      <th>0</th>\n",
       "      <td>EQIX</td>\n",
       "      <td>Equinix, Inc.</td>\n",
       "    </tr>\n",
       "    <tr>\n",
       "      <th>0</th>\n",
       "      <td>CCI</td>\n",
       "      <td>Crown Castle Inc.</td>\n",
       "    </tr>\n",
       "    <tr>\n",
       "      <th>0</th>\n",
       "      <td>PSA</td>\n",
       "      <td>Public Storage</td>\n",
       "    </tr>\n",
       "    <tr>\n",
       "      <th>0</th>\n",
       "      <td>AAPL</td>\n",
       "      <td>Apple Inc.</td>\n",
       "    </tr>\n",
       "    <tr>\n",
       "      <th>0</th>\n",
       "      <td>MSFT</td>\n",
       "      <td>Microsoft Corporation</td>\n",
       "    </tr>\n",
       "    <tr>\n",
       "      <th>0</th>\n",
       "      <td>NVDA</td>\n",
       "      <td>NVIDIA Corporation</td>\n",
       "    </tr>\n",
       "    <tr>\n",
       "      <th>0</th>\n",
       "      <td>TSM</td>\n",
       "      <td>Taiwan Semiconductor Manufacturing Company Lim...</td>\n",
       "    </tr>\n",
       "    <tr>\n",
       "      <th>0</th>\n",
       "      <td>AVGO</td>\n",
       "      <td>Broadcom Inc.</td>\n",
       "    </tr>\n",
       "    <tr>\n",
       "      <th>0</th>\n",
       "      <td>BRK-B</td>\n",
       "      <td>Berkshire Hathaway Inc.</td>\n",
       "    </tr>\n",
       "    <tr>\n",
       "      <th>0</th>\n",
       "      <td>JPM-PC</td>\n",
       "      <td>JPMorgan Chase &amp; Co.</td>\n",
       "    </tr>\n",
       "    <tr>\n",
       "      <th>0</th>\n",
       "      <td>V</td>\n",
       "      <td>Visa Inc.</td>\n",
       "    </tr>\n",
       "    <tr>\n",
       "      <th>0</th>\n",
       "      <td>JPM</td>\n",
       "      <td>JPMorgan Chase &amp; Co.</td>\n",
       "    </tr>\n",
       "    <tr>\n",
       "      <th>0</th>\n",
       "      <td>MA</td>\n",
       "      <td>Mastercard Incorporated</td>\n",
       "    </tr>\n",
       "    <tr>\n",
       "      <th>0</th>\n",
       "      <td>XOM</td>\n",
       "      <td>Exxon Mobil Corporation</td>\n",
       "    </tr>\n",
       "    <tr>\n",
       "      <th>0</th>\n",
       "      <td>CVX</td>\n",
       "      <td>Chevron Corporation</td>\n",
       "    </tr>\n",
       "    <tr>\n",
       "      <th>0</th>\n",
       "      <td>SHEL</td>\n",
       "      <td>Shell plc</td>\n",
       "    </tr>\n",
       "    <tr>\n",
       "      <th>0</th>\n",
       "      <td>TTE</td>\n",
       "      <td>TotalEnergies SE</td>\n",
       "    </tr>\n",
       "    <tr>\n",
       "      <th>0</th>\n",
       "      <td>COP</td>\n",
       "      <td>ConocoPhillips</td>\n",
       "    </tr>\n",
       "  </tbody>\n",
       "</table>\n",
       "</div>"
      ],
      "text/plain": [
       "   Symbol                                               Name\n",
       "0     JNJ                                  Johnson & Johnson\n",
       "0     UNH                    UnitedHealth Group Incorporated\n",
       "0     NVO                                   Novo Nordisk A/S\n",
       "0     LLY                              Eli Lilly and Company\n",
       "0     MRK                                  Merck & Co., Inc.\n",
       "0     PLD                                     Prologis, Inc.\n",
       "0     AMT                         American Tower Corporation\n",
       "0    EQIX                                      Equinix, Inc.\n",
       "0     CCI                                  Crown Castle Inc.\n",
       "0     PSA                                     Public Storage\n",
       "0    AAPL                                         Apple Inc.\n",
       "0    MSFT                              Microsoft Corporation\n",
       "0    NVDA                                 NVIDIA Corporation\n",
       "0     TSM  Taiwan Semiconductor Manufacturing Company Lim...\n",
       "0    AVGO                                      Broadcom Inc.\n",
       "0   BRK-B                            Berkshire Hathaway Inc.\n",
       "0  JPM-PC                               JPMorgan Chase & Co.\n",
       "0       V                                          Visa Inc.\n",
       "0     JPM                               JPMorgan Chase & Co.\n",
       "0      MA                            Mastercard Incorporated\n",
       "0     XOM                            Exxon Mobil Corporation\n",
       "0     CVX                                Chevron Corporation\n",
       "0    SHEL                                          Shell plc\n",
       "0     TTE                                   TotalEnergies SE\n",
       "0     COP                                     ConocoPhillips"
      ]
     },
     "execution_count": 5,
     "metadata": {},
     "output_type": "execute_result"
    }
   ],
   "source": [
    "master_df.to_csv('Stock_List.csv', index=False)\n",
    "master_df"
   ]
  },
  {
   "cell_type": "code",
   "execution_count": null,
   "id": "c30099ef",
   "metadata": {},
   "outputs": [],
   "source": []
  },
  {
   "cell_type": "code",
   "execution_count": 6,
   "id": "c524b69d",
   "metadata": {},
   "outputs": [
    {
     "name": "stdout",
     "output_type": "stream",
     "text": [
      "                          Symbol                             Name        Open\n",
      "2020-01-06 00:00:00-05:00    JNJ                Johnson & Johnson  132.290435\n",
      "2020-01-06 00:00:00-05:00    UNH  UnitedHealth Group Incorporated  274.896293\n",
      "2020-01-06 00:00:00-05:00    NVO                 Novo Nordisk A/S   54.194439\n",
      "2020-01-06 00:00:00-05:00    LLY            Eli Lilly and Company  124.798085\n",
      "2020-01-06 00:00:00-05:00    MRK                Merck & Co., Inc.   78.335732\n"
     ]
    }
   ],
   "source": [
    "#Healthcare Sector\n",
    "#request etflist ticker data from yfinance dated 1-3,2020\n",
    "tickers = ['JNJ', 'UNH', 'NVO', 'LLY', 'MRK']\n",
    "\n",
    "data = {}\n",
    "\n",
    "for ticker in tickers:\n",
    "    try:\n",
    "        stock = yf.Ticker(ticker)\n",
    "        hist1 = stock.history(period='4y')\n",
    "        data[ticker] = pd.DataFrame({'Symbol': [ticker],\n",
    "                                      'Name': [stock.info['longName']],\n",
    "                                      'Open': [hist1.iloc[-827]['Open']]},\n",
    "                                      index=[hist1.index[-827]])\n",
    "    except IndexError:\n",
    "        data[ticker] = pd.DataFrame({'Symbol': [ticker],\n",
    "                                      'Name': [None],\n",
    "                                      'Open': [None]},\n",
    "                                      index=[None])\n",
    "\n",
    "df1 = pd.concat(data.values())\n",
    "print(df1)"
   ]
  },
  {
   "cell_type": "code",
   "execution_count": 7,
   "id": "efc2fb6e",
   "metadata": {},
   "outputs": [
    {
     "name": "stdout",
     "output_type": "stream",
     "text": [
      "                          Symbol                             Name        Open\n",
      "2020-03-03 00:00:00-05:00    JNJ                Johnson & Johnson  129.435845\n",
      "2020-03-03 00:00:00-05:00    UNH  UnitedHealth Group Incorporated  262.821846\n",
      "2020-03-03 00:00:00-05:00    NVO                 Novo Nordisk A/S   59.310526\n",
      "2020-03-03 00:00:00-05:00    LLY            Eli Lilly and Company  127.220360\n",
      "2020-03-03 00:00:00-05:00    MRK                Merck & Co., Inc.   69.895078\n"
     ]
    }
   ],
   "source": [
    "#Healthcare Sector\n",
    "#request etflist ticker data from yfinance dated 3-2,2020\n",
    "tickers = ['JNJ', 'UNH', 'NVO', 'LLY', 'MRK']\n",
    "\n",
    "data = {}\n",
    "\n",
    "for ticker in tickers:\n",
    "    try:\n",
    "        stock = yf.Ticker(ticker)\n",
    "        hist2 = stock.history(period='4y')\n",
    "        data[ticker] = pd.DataFrame({'Symbol': [ticker],\n",
    "                                      'Name': [stock.info['longName']],\n",
    "                                      'Open': [hist2.iloc[-788]['Open']]},\n",
    "                                      index=[hist2.index[-788]])\n",
    "    except IndexError:\n",
    "        data[ticker] = pd.DataFrame({'Symbol': [ticker],\n",
    "                                      'Name': [None],\n",
    "                                      'Open': [None]},\n",
    "                                      index=[None])\n",
    "\n",
    "df2 = pd.concat(data.values())\n",
    "print(df2)"
   ]
  },
  {
   "cell_type": "code",
   "execution_count": 8,
   "id": "eb2093ce",
   "metadata": {},
   "outputs": [
    {
     "name": "stdout",
     "output_type": "stream",
     "text": [
      "                          Symbol                             Name        Open\n",
      "2020-05-04 00:00:00-04:00    JNJ                Johnson & Johnson  137.544104\n",
      "2020-05-04 00:00:00-04:00    UNH  UnitedHealth Group Incorporated  272.722201\n",
      "2020-05-04 00:00:00-04:00    NVO                 Novo Nordisk A/S   60.375594\n",
      "2020-05-04 00:00:00-04:00    LLY            Eli Lilly and Company  147.618789\n",
      "2020-05-04 00:00:00-04:00    MRK                Merck & Co., Inc.   67.546241\n"
     ]
    }
   ],
   "source": [
    "#Healthcare Sector\n",
    "#request etflist ticker data from yfinance dated 5-1,2020\n",
    "tickers = ['JNJ', 'UNH', 'NVO', 'LLY', 'MRK']\n",
    "\n",
    "data = {}\n",
    "\n",
    "for ticker in tickers:\n",
    "    try:\n",
    "        stock = yf.Ticker(ticker)\n",
    "        hist3 = stock.history(period='4y')\n",
    "        data[ticker] = pd.DataFrame({'Symbol': [ticker],\n",
    "                                      'Name': [stock.info['longName']],\n",
    "                                      'Open': [hist3.iloc[-745]['Open']]},\n",
    "                                      index=[hist3.index[-745]])\n",
    "    except IndexError:\n",
    "        data[ticker] = pd.DataFrame({'Symbol': [ticker],\n",
    "                                      'Name': [None],\n",
    "                                      'Open': [None]},\n",
    "                                      index=[None])\n",
    "\n",
    "df3 = pd.concat(data.values())\n",
    "print(df3)"
   ]
  },
  {
   "cell_type": "code",
   "execution_count": 9,
   "id": "4e96315a",
   "metadata": {},
   "outputs": [
    {
     "name": "stdout",
     "output_type": "stream",
     "text": [
      "                          Symbol                             Name        Open\n",
      "2020-07-02 00:00:00-04:00    JNJ                Johnson & Johnson  131.496810\n",
      "2020-07-02 00:00:00-04:00    UNH  UnitedHealth Group Incorporated  289.310604\n",
      "2020-07-02 00:00:00-04:00    NVO                 Novo Nordisk A/S   62.990685\n",
      "2020-07-02 00:00:00-04:00    LLY            Eli Lilly and Company  157.347747\n",
      "2020-07-02 00:00:00-04:00    MRK                Merck & Co., Inc.   68.563118\n"
     ]
    }
   ],
   "source": [
    "#Healthcare Sector\n",
    "#request etflist ticker data from yfinance dated 7-1,2020\n",
    "tickers = ['JNJ', 'UNH', 'NVO', 'LLY', 'MRK']\n",
    "\n",
    "data = {}\n",
    "\n",
    "for ticker in tickers:\n",
    "    try:\n",
    "        stock = yf.Ticker(ticker)\n",
    "        hist4 = stock.history(period='4y')\n",
    "        data[ticker] = pd.DataFrame({'Symbol': [ticker],\n",
    "                                      'Name': [stock.info['longName']],\n",
    "                                      'Open': [hist4.iloc[-703]['Open']]},\n",
    "                                      index=[hist4.index[-703]])\n",
    "    except IndexError:\n",
    "        data[ticker] = pd.DataFrame({'Symbol': [ticker],\n",
    "                                      'Name': [None],\n",
    "                                      'Open': [None]},\n",
    "                                      index=[None])\n",
    "\n",
    "df4 = pd.concat(data.values())\n",
    "print(df4)"
   ]
  },
  {
   "cell_type": "code",
   "execution_count": 10,
   "id": "86f379ca",
   "metadata": {},
   "outputs": [
    {
     "name": "stdout",
     "output_type": "stream",
     "text": [
      "                          Symbol                             Name        Open\n",
      "2020-09-02 00:00:00-04:00    JNJ                Johnson & Johnson  141.312381\n",
      "2020-09-02 00:00:00-04:00    UNH  UnitedHealth Group Incorporated  300.921650\n",
      "2020-09-02 00:00:00-04:00    NVO                 Novo Nordisk A/S   63.204595\n",
      "2020-09-02 00:00:00-04:00    LLY            Eli Lilly and Company  141.461966\n",
      "2020-09-02 00:00:00-04:00    MRK                Merck & Co., Inc.   73.720379\n"
     ]
    }
   ],
   "source": [
    "#Healthcare Sector\n",
    "#request etflist ticker data from yfinance dated 9-1,2020\n",
    "tickers = ['JNJ', 'UNH', 'NVO', 'LLY', 'MRK']\n",
    "\n",
    "data = {}\n",
    "\n",
    "for ticker in tickers:\n",
    "    try:\n",
    "        stock = yf.Ticker(ticker)\n",
    "        hist5 = stock.history(period='4y')\n",
    "        data[ticker] = pd.DataFrame({'Symbol': [ticker],\n",
    "                                      'Name': [stock.info['longName']],\n",
    "                                      'Open': [hist5.iloc[-660]['Open']]},\n",
    "                                      index=[hist5.index[-660]])\n",
    "    except IndexError:\n",
    "        data[ticker] = pd.DataFrame({'Symbol': [ticker],\n",
    "                                      'Name': [None],\n",
    "                                      'Open': [None]},\n",
    "                                      index=[None])\n",
    "\n",
    "df5 = pd.concat(data.values())\n",
    "print(df5)"
   ]
  },
  {
   "cell_type": "code",
   "execution_count": 11,
   "id": "1481c41b",
   "metadata": {},
   "outputs": [
    {
     "name": "stdout",
     "output_type": "stream",
     "text": [
      "                          Symbol                             Name        Open\n",
      "2020-11-03 00:00:00-05:00    JNJ                Johnson & Johnson  131.219297\n",
      "2020-11-03 00:00:00-05:00    UNH  UnitedHealth Group Incorporated  306.908257\n",
      "2020-11-03 00:00:00-05:00    NVO                 Novo Nordisk A/S   62.974592\n",
      "2020-11-03 00:00:00-05:00    LLY            Eli Lilly and Company  128.789268\n",
      "2020-11-03 00:00:00-05:00    MRK                Merck & Co., Inc.   68.094894\n"
     ]
    }
   ],
   "source": [
    "#Healthcare Sector\n",
    "#request etflist ticker data from yfinance dated 11-2,2020\n",
    "tickers = ['JNJ', 'UNH', 'NVO', 'LLY', 'MRK']\n",
    "\n",
    "data = {}\n",
    "\n",
    "for ticker in tickers:\n",
    "    try:\n",
    "        stock = yf.Ticker(ticker)\n",
    "        hist6 = stock.history(period='4y')\n",
    "        data[ticker] = pd.DataFrame({'Symbol': [ticker],\n",
    "                                      'Name': [stock.info['longName']],\n",
    "                                      'Open': [hist6.iloc[-617]['Open']]},\n",
    "                                      index=[hist6.index[-617]])\n",
    "    except IndexError:\n",
    "        data[ticker] = pd.DataFrame({'Symbol': [ticker],\n",
    "                                      'Name': [None],\n",
    "                                      'Open': [None]},\n",
    "                                      index=[None])\n",
    "\n",
    "df6 = pd.concat(data.values())\n",
    "print(df6)"
   ]
  },
  {
   "cell_type": "code",
   "execution_count": 12,
   "id": "9ca07e60",
   "metadata": {},
   "outputs": [
    {
     "name": "stdout",
     "output_type": "stream",
     "text": [
      "                          Symbol                             Name        Open\n",
      "2021-01-05 00:00:00-05:00    JNJ                Johnson & Johnson  147.446717\n",
      "2021-01-05 00:00:00-05:00    UNH  UnitedHealth Group Incorporated  338.302358\n",
      "2021-01-05 00:00:00-05:00    NVO                 Novo Nordisk A/S   67.871873\n",
      "2021-01-05 00:00:00-05:00    LLY            Eli Lilly and Company  160.012105\n",
      "2021-01-05 00:00:00-05:00    MRK                Merck & Co., Inc.   71.467598\n"
     ]
    }
   ],
   "source": [
    "#Healthcare Sector\n",
    "#request etflist ticker data from yfinance dated 1-4,2021\n",
    "tickers = ['JNJ', 'UNH', 'NVO', 'LLY', 'MRK']\n",
    "\n",
    "data = {}\n",
    "\n",
    "for ticker in tickers:\n",
    "    try:\n",
    "        stock = yf.Ticker(ticker)\n",
    "        hist7 = stock.history(period='4y')\n",
    "        data[ticker] = pd.DataFrame({'Symbol': [ticker],\n",
    "                                      'Name': [stock.info['longName']],\n",
    "                                      'Open': [hist7.iloc[-575]['Open']]},\n",
    "                                      index=[hist7.index[-575]])\n",
    "    except IndexError:\n",
    "        data[ticker] = pd.DataFrame({'Symbol': [ticker],\n",
    "                                      'Name': [None],\n",
    "                                      'Open': [None]},\n",
    "                                      index=[None])\n",
    "\n",
    "df7 = pd.concat(data.values())\n",
    "print(df7)"
   ]
  },
  {
   "cell_type": "code",
   "execution_count": 13,
   "id": "f0defd90",
   "metadata": {},
   "outputs": [
    {
     "name": "stdout",
     "output_type": "stream",
     "text": [
      "                          Symbol                             Name        Open\n",
      "2021-03-02 00:00:00-05:00    JNJ                Johnson & Johnson  151.718047\n",
      "2021-03-02 00:00:00-05:00    UNH  UnitedHealth Group Incorporated  325.020221\n",
      "2021-03-02 00:00:00-05:00    NVO                 Novo Nordisk A/S   69.807785\n",
      "2021-03-02 00:00:00-05:00    LLY            Eli Lilly and Company  203.187280\n",
      "2021-03-02 00:00:00-05:00    MRK                Merck & Co., Inc.   64.530804\n"
     ]
    }
   ],
   "source": [
    "#Healthcare Sector\n",
    "#request etflist ticker data from yfinance dated 3-1021\n",
    "tickers = ['JNJ', 'UNH', 'NVO', 'LLY', 'MRK']\n",
    "\n",
    "data = {}\n",
    "\n",
    "for ticker in tickers:\n",
    "    try:\n",
    "        stock = yf.Ticker(ticker)\n",
    "        hist8 = stock.history(period='4y')\n",
    "        data[ticker] = pd.DataFrame({'Symbol': [ticker],\n",
    "                                      'Name': [stock.info['longName']],\n",
    "                                      'Open': [hist8.iloc[-537]['Open']]},\n",
    "                                      index=[hist8.index[-537]])\n",
    "    except IndexError:\n",
    "        data[ticker] = pd.DataFrame({'Symbol': [ticker],\n",
    "                                      'Name': [None],\n",
    "                                      'Open': [None]},\n",
    "                                      index=[None])\n",
    "\n",
    "df8 = pd.concat(data.values())\n",
    "print(df8)"
   ]
  },
  {
   "cell_type": "code",
   "execution_count": 14,
   "id": "097d64ea",
   "metadata": {},
   "outputs": [
    {
     "name": "stdout",
     "output_type": "stream",
     "text": [
      "                          Symbol                             Name        Open\n",
      "2021-05-04 00:00:00-04:00    JNJ                Johnson & Johnson  156.513241\n",
      "2021-05-04 00:00:00-04:00    UNH  UnitedHealth Group Incorporated  394.798233\n",
      "2021-05-04 00:00:00-04:00    NVO                 Novo Nordisk A/S   72.077352\n",
      "2021-05-04 00:00:00-04:00    LLY            Eli Lilly and Company  182.410411\n",
      "2021-05-04 00:00:00-04:00    MRK                Merck & Co., Inc.   67.993412\n"
     ]
    }
   ],
   "source": [
    "#Healthcare Sector\n",
    "#request etflist ticker data from yfinance dated 5-3-1021\n",
    "tickers = ['JNJ', 'UNH', 'NVO', 'LLY', 'MRK']\n",
    "\n",
    "data = {}\n",
    "\n",
    "for ticker in tickers:\n",
    "    try:\n",
    "        stock = yf.Ticker(ticker)\n",
    "        hist9 = stock.history(period='4y')\n",
    "        data[ticker] = pd.DataFrame({'Symbol': [ticker],\n",
    "                                      'Name': [stock.info['longName']],\n",
    "                                      'Open': [hist9.iloc[-493]['Open']]},\n",
    "                                      index=[hist9.index[-493]])\n",
    "    except IndexError:\n",
    "        data[ticker] = pd.DataFrame({'Symbol': [ticker],\n",
    "                                      'Name': [None],\n",
    "                                      'Open': [None]},\n",
    "                                      index=[None])\n",
    "\n",
    "df9 = pd.concat(data.values())\n",
    "print(df9)"
   ]
  },
  {
   "cell_type": "code",
   "execution_count": 15,
   "id": "a84210f4",
   "metadata": {},
   "outputs": [
    {
     "name": "stdout",
     "output_type": "stream",
     "text": [
      "                          Symbol                             Name        Open\n",
      "2021-07-02 00:00:00-04:00    JNJ                Johnson & Johnson  158.626704\n",
      "2021-07-02 00:00:00-04:00    UNH  UnitedHealth Group Incorporated  395.863007\n",
      "2021-07-02 00:00:00-04:00    NVO                 Novo Nordisk A/S   81.564540\n",
      "2021-07-02 00:00:00-04:00    LLY            Eli Lilly and Company  226.634290\n",
      "2021-07-02 00:00:00-04:00    MRK                Merck & Co., Inc.   73.721108\n"
     ]
    }
   ],
   "source": [
    "#Healthcare Sector\n",
    "#request etflist ticker data from yfinance dated 7-1-1021\n",
    "tickers = ['JNJ', 'UNH', 'NVO', 'LLY', 'MRK']\n",
    "\n",
    "data = {}\n",
    "\n",
    "for ticker in tickers:\n",
    "    try:\n",
    "        stock = yf.Ticker(ticker)\n",
    "        hist10 = stock.history(period='4y')\n",
    "        data[ticker] = pd.DataFrame({'Symbol': [ticker],\n",
    "                                      'Name': [stock.info['longName']],\n",
    "                                      'Open': [hist10.iloc[-451]['Open']]},\n",
    "                                      index=[hist10.index[-451]])\n",
    "    except IndexError:\n",
    "        data[ticker] = pd.DataFrame({'Symbol': [ticker],\n",
    "                                      'Name': [None],\n",
    "                                      'Open': [None]},\n",
    "                                      index=[None])\n",
    "\n",
    "df10 = pd.concat(data.values())\n",
    "print(df10)"
   ]
  },
  {
   "cell_type": "code",
   "execution_count": 16,
   "id": "c1b2668e",
   "metadata": {},
   "outputs": [
    {
     "name": "stdout",
     "output_type": "stream",
     "text": [
      "                          Symbol                             Name        Open\n",
      "2021-09-02 00:00:00-04:00    JNJ                Johnson & Johnson  167.566046\n",
      "2021-09-02 00:00:00-04:00    UNH  UnitedHealth Group Incorporated  409.612489\n",
      "2021-09-02 00:00:00-04:00    NVO                 Novo Nordisk A/S   99.093057\n",
      "2021-09-02 00:00:00-04:00    LLY            Eli Lilly and Company  252.301171\n",
      "2021-09-02 00:00:00-04:00    MRK                Merck & Co., Inc.   72.247447\n"
     ]
    }
   ],
   "source": [
    "#Healthcare Sector\n",
    "#request etflist ticker data from yfinance dated 9-1-1021\n",
    "tickers = ['JNJ', 'UNH', 'NVO', 'LLY', 'MRK']\n",
    "\n",
    "data = {}\n",
    "\n",
    "for ticker in tickers:\n",
    "    try:\n",
    "        stock = yf.Ticker(ticker)\n",
    "        hist11 = stock.history(period='4y')\n",
    "        data[ticker] = pd.DataFrame({'Symbol': [ticker],\n",
    "                                      'Name': [stock.info['longName']],\n",
    "                                      'Open': [hist11.iloc[-408]['Open']]},\n",
    "                                      index=[hist11.index[-408]])\n",
    "    except IndexError:\n",
    "        data[ticker] = pd.DataFrame({'Symbol': [ticker],\n",
    "                                      'Name': [None],\n",
    "                                      'Open': [None]},\n",
    "                                      index=[None])\n",
    "\n",
    "df11 = pd.concat(data.values())\n",
    "print(df11)"
   ]
  },
  {
   "cell_type": "code",
   "execution_count": 17,
   "id": "bcf04603",
   "metadata": {},
   "outputs": [
    {
     "name": "stdout",
     "output_type": "stream",
     "text": [
      "                          Symbol                             Name        Open\n",
      "2021-11-02 00:00:00-04:00    JNJ                Johnson & Johnson  157.339472\n",
      "2021-11-02 00:00:00-04:00    UNH  UnitedHealth Group Incorporated  447.432575\n",
      "2021-11-02 00:00:00-04:00    NVO                 Novo Nordisk A/S  107.664378\n",
      "2021-11-02 00:00:00-04:00    LLY            Eli Lilly and Company  246.263426\n",
      "2021-11-02 00:00:00-04:00    MRK                Merck & Co., Inc.   84.094123\n"
     ]
    }
   ],
   "source": [
    "#Healthcare Sector\n",
    "#request etflist ticker data from yfinance dated 11-1-1021\n",
    "tickers = ['JNJ', 'UNH', 'NVO', 'LLY', 'MRK']\n",
    "\n",
    "data = {}\n",
    "\n",
    "for ticker in tickers:\n",
    "    try:\n",
    "        stock = yf.Ticker(ticker)\n",
    "        hist12 = stock.history(period='4y')\n",
    "        data[ticker] = pd.DataFrame({'Symbol': [ticker],\n",
    "                                      'Name': [stock.info['longName']],\n",
    "                                      'Open': [hist12.iloc[-366]['Open']]},\n",
    "                                      index=[hist12.index[-366]])\n",
    "    except IndexError:\n",
    "        data[ticker] = pd.DataFrame({'Symbol': [ticker],\n",
    "                                      'Name': [None],\n",
    "                                      'Open': [None]},\n",
    "                                      index=[None])\n",
    "\n",
    "df12 = pd.concat(data.values())\n",
    "print(df12)"
   ]
  },
  {
   "cell_type": "code",
   "execution_count": 18,
   "id": "05c09955",
   "metadata": {},
   "outputs": [
    {
     "name": "stdout",
     "output_type": "stream",
     "text": [
      "                          Symbol                             Name        Open\n",
      "2022-01-04 00:00:00-05:00    JNJ                Johnson & Johnson  165.490428\n",
      "2022-01-04 00:00:00-05:00    UNH  UnitedHealth Group Incorporated  495.073828\n",
      "2022-01-04 00:00:00-05:00    NVO                 Novo Nordisk A/S  101.516872\n",
      "2022-01-04 00:00:00-05:00    LLY            Eli Lilly and Company  264.517215\n",
      "2022-01-04 00:00:00-05:00    MRK                Merck & Co., Inc.   73.509506\n"
     ]
    }
   ],
   "source": [
    "#Healthcare Sector\n",
    "#request etflist ticker data from yfinance dated 1-3-2022\n",
    "tickers = ['JNJ', 'UNH', 'NVO', 'LLY', 'MRK']\n",
    "\n",
    "data = {}\n",
    "\n",
    "for ticker in tickers:\n",
    "    try:\n",
    "        stock = yf.Ticker(ticker)\n",
    "        hist13 = stock.history(period='4y')\n",
    "        data[ticker] = pd.DataFrame({'Symbol': [ticker],\n",
    "                                      'Name': [stock.info['longName']],\n",
    "                                      'Open': [hist13.iloc[-323]['Open']]},\n",
    "                                      index=[hist13.index[-323]])\n",
    "    except IndexError:\n",
    "        data[ticker] = pd.DataFrame({'Symbol': [ticker],\n",
    "                                      'Name': [None],\n",
    "                                      'Open': [None]},\n",
    "                                      index=[None])\n",
    "\n",
    "df13 = pd.concat(data.values())\n",
    "print(df13)"
   ]
  },
  {
   "cell_type": "code",
   "execution_count": 19,
   "id": "37dbac85",
   "metadata": {},
   "outputs": [
    {
     "name": "stdout",
     "output_type": "stream",
     "text": [
      "                          Symbol                             Name        Open\n",
      "2022-03-02 00:00:00-05:00    JNJ                Johnson & Johnson  160.077952\n",
      "2022-03-02 00:00:00-05:00    UNH  UnitedHealth Group Incorporated  470.467704\n",
      "2022-03-02 00:00:00-05:00    NVO                 Novo Nordisk A/S  100.353829\n",
      "2022-03-02 00:00:00-05:00    LLY            Eli Lilly and Company  246.741595\n",
      "2022-03-02 00:00:00-05:00    MRK                Merck & Co., Inc.   73.422899\n"
     ]
    }
   ],
   "source": [
    "#Healthcare Sector\n",
    "#request etflist ticker data from yfinance dated 3-1-2022\n",
    "tickers = ['JNJ', 'UNH', 'NVO', 'LLY', 'MRK']\n",
    "\n",
    "data = {}\n",
    "\n",
    "for ticker in tickers:\n",
    "    try:\n",
    "        stock = yf.Ticker(ticker)\n",
    "        hist14 = stock.history(period='4y')\n",
    "        data[ticker] = pd.DataFrame({'Symbol': [ticker],\n",
    "                                      'Name': [stock.info['longName']],\n",
    "                                      'Open': [hist14.iloc[-284]['Open']]},\n",
    "                                      index=[hist14.index[-284]])\n",
    "    except IndexError:\n",
    "        data[ticker] = pd.DataFrame({'Symbol': [ticker],\n",
    "                                      'Name': [None],\n",
    "                                      'Open': [None]},\n",
    "                                      index=[None])\n",
    "\n",
    "df14 = pd.concat(data.values())\n",
    "print(df14)"
   ]
  },
  {
   "cell_type": "code",
   "execution_count": 20,
   "id": "143220a6",
   "metadata": {},
   "outputs": [
    {
     "name": "stdout",
     "output_type": "stream",
     "text": [
      "                          Symbol                             Name        Open\n",
      "2022-05-03 00:00:00-04:00    JNJ                Johnson & Johnson  174.088796\n",
      "2022-05-03 00:00:00-04:00    UNH  UnitedHealth Group Incorporated  494.496277\n",
      "2022-05-03 00:00:00-04:00    NVO                 Novo Nordisk A/S  111.717075\n",
      "2022-05-03 00:00:00-04:00    LLY            Eli Lilly and Company  285.004930\n",
      "2022-05-03 00:00:00-04:00    MRK                Merck & Co., Inc.   84.443360\n"
     ]
    }
   ],
   "source": [
    "#Healthcare Sector\n",
    "#request etflist ticker data from yfinance dated 5-2-2022\n",
    "tickers = ['JNJ', 'UNH', 'NVO', 'LLY', 'MRK']\n",
    "\n",
    "data = {}\n",
    "\n",
    "for ticker in tickers:\n",
    "    try:\n",
    "        stock = yf.Ticker(ticker)\n",
    "        hist15 = stock.history(period='4y')\n",
    "        data[ticker] = pd.DataFrame({'Symbol': [ticker],\n",
    "                                      'Name': [stock.info['longName']],\n",
    "                                      'Open': [hist15.iloc[-241]['Open']]},\n",
    "                                      index=[hist15.index[-241]])\n",
    "    except IndexError:\n",
    "        data[ticker] = pd.DataFrame({'Symbol': [ticker],\n",
    "                                      'Name': [None],\n",
    "                                      'Open': [None]},\n",
    "                                      index=[None])\n",
    "\n",
    "df15 = pd.concat(data.values())\n",
    "print(df15)"
   ]
  },
  {
   "cell_type": "code",
   "execution_count": 21,
   "id": "eaa20ac7",
   "metadata": {},
   "outputs": [
    {
     "name": "stdout",
     "output_type": "stream",
     "text": [
      "                          Symbol                             Name        Open\n",
      "2022-07-05 00:00:00-04:00    JNJ                Johnson & Johnson  175.236869\n",
      "2022-07-05 00:00:00-04:00    UNH  UnitedHealth Group Incorporated  502.706473\n",
      "2022-07-05 00:00:00-04:00    NVO                 Novo Nordisk A/S  106.921592\n",
      "2022-07-05 00:00:00-04:00    LLY            Eli Lilly and Company  319.463194\n",
      "2022-07-05 00:00:00-04:00    MRK                Merck & Co., Inc.   90.468210\n"
     ]
    }
   ],
   "source": [
    "#Healthcare Sector\n",
    "#request etflist ticker data from yfinance dated 7-1-2022\n",
    "tickers = ['JNJ', 'UNH', 'NVO', 'LLY', 'MRK']\n",
    "\n",
    "data = {}\n",
    "\n",
    "for ticker in tickers:\n",
    "    try:\n",
    "        stock = yf.Ticker(ticker)\n",
    "        hist16 = stock.history(period='4y')\n",
    "        data[ticker] = pd.DataFrame({'Symbol': [ticker],\n",
    "                                      'Name': [stock.info['longName']],\n",
    "                                      'Open': [hist16.iloc[-199]['Open']]},\n",
    "                                      index=[hist16.index[-199]])\n",
    "    except IndexError:\n",
    "        data[ticker] = pd.DataFrame({'Symbol': [ticker],\n",
    "                                      'Name': [None],\n",
    "                                      'Open': [None]},\n",
    "                                      index=[None])\n",
    "\n",
    "df16 = pd.concat(data.values())\n",
    "print(df16)"
   ]
  },
  {
   "cell_type": "code",
   "execution_count": 22,
   "id": "5d98a55d",
   "metadata": {},
   "outputs": [
    {
     "name": "stdout",
     "output_type": "stream",
     "text": [
      "                          Symbol                             Name        Open\n",
      "2022-09-02 00:00:00-04:00    JNJ                Johnson & Johnson  163.619506\n",
      "2022-09-02 00:00:00-04:00    UNH  UnitedHealth Group Incorporated  524.472841\n",
      "2022-09-02 00:00:00-04:00    NVO                 Novo Nordisk A/S  102.915376\n",
      "2022-09-02 00:00:00-04:00    LLY            Eli Lilly and Company  308.250044\n",
      "2022-09-02 00:00:00-04:00    MRK                Merck & Co., Inc.   85.379129\n"
     ]
    }
   ],
   "source": [
    "#Healthcare Sector\n",
    "#request etflist ticker data from yfinance dated 9-1-2022\n",
    "tickers = ['JNJ', 'UNH', 'NVO', 'LLY', 'MRK']\n",
    "\n",
    "data = {}\n",
    "\n",
    "for ticker in tickers:\n",
    "    try:\n",
    "        stock = yf.Ticker(ticker)\n",
    "        hist17 = stock.history(period='4y')\n",
    "        data[ticker] = pd.DataFrame({'Symbol': [ticker],\n",
    "                                      'Name': [stock.info['longName']],\n",
    "                                      'Open': [hist17.iloc[-156]['Open']]},\n",
    "                                      index=[hist17.index[-156]])\n",
    "    except IndexError:\n",
    "        data[ticker] = pd.DataFrame({'Symbol': [ticker],\n",
    "                                      'Name': [None],\n",
    "                                      'Open': [None]},\n",
    "                                      index=[None])\n",
    "\n",
    "df17 = pd.concat(data.values())\n",
    "print(df17)"
   ]
  },
  {
   "cell_type": "code",
   "execution_count": 23,
   "id": "b586be1d",
   "metadata": {},
   "outputs": [
    {
     "name": "stdout",
     "output_type": "stream",
     "text": [
      "                          Symbol                             Name        Open\n",
      "2022-11-02 00:00:00-04:00    JNJ                Johnson & Johnson  170.554522\n",
      "2022-11-02 00:00:00-04:00    UNH  UnitedHealth Group Incorporated  540.810721\n",
      "2022-11-02 00:00:00-04:00    NVO                 Novo Nordisk A/S  110.693063\n",
      "2022-11-02 00:00:00-04:00    LLY            Eli Lilly and Company  352.035865\n",
      "2022-11-02 00:00:00-04:00    MRK                Merck & Co., Inc.   98.310620\n"
     ]
    }
   ],
   "source": [
    "#Healthcare Sector\n",
    "#request etflist ticker data from yfinance dated 9-1-2022\n",
    "tickers = ['JNJ', 'UNH', 'NVO', 'LLY', 'MRK']\n",
    "\n",
    "data = {}\n",
    "\n",
    "for ticker in tickers:\n",
    "    try:\n",
    "        stock = yf.Ticker(ticker)\n",
    "        hist18 = stock.history(period='4y')\n",
    "        data[ticker] = pd.DataFrame({'Symbol': [ticker],\n",
    "                                      'Name': [stock.info['longName']],\n",
    "                                      'Open': [hist18.iloc[-114]['Open']]},\n",
    "                                      index=[hist18.index[-114]])\n",
    "    except IndexError:\n",
    "        data[ticker] = pd.DataFrame({'Symbol': [ticker],\n",
    "                                      'Name': [None],\n",
    "                                      'Open': [None]},\n",
    "                                      index=[None])\n",
    "\n",
    "df18 = pd.concat(data.values())\n",
    "print(df18)"
   ]
  },
  {
   "cell_type": "code",
   "execution_count": 24,
   "id": "f71d852f",
   "metadata": {},
   "outputs": [
    {
     "name": "stdout",
     "output_type": "stream",
     "text": [
      "                          Symbol                             Name        Open\n",
      "2023-01-04 00:00:00-05:00    JNJ                Johnson & Johnson  177.612538\n",
      "2023-01-04 00:00:00-05:00    UNH  UnitedHealth Group Incorporated  516.799303\n",
      "2023-01-04 00:00:00-05:00    NVO                 Novo Nordisk A/S  137.557807\n",
      "2023-01-04 00:00:00-05:00    LLY            Eli Lilly and Company  363.464089\n",
      "2023-01-04 00:00:00-05:00    MRK                Merck & Co., Inc.  111.544501\n"
     ]
    }
   ],
   "source": [
    "#Healthcare Sector\n",
    "#request etflist ticker data from yfinance dated 1-3-2023\n",
    "tickers = ['JNJ', 'UNH', 'NVO', 'LLY', 'MRK']\n",
    "\n",
    "data = {}\n",
    "\n",
    "for ticker in tickers:\n",
    "    try:\n",
    "        stock = yf.Ticker(ticker)\n",
    "        hist19 = stock.history(period='4y')\n",
    "        data[ticker] = pd.DataFrame({'Symbol': [ticker],\n",
    "                                      'Name': [stock.info['longName']],\n",
    "                                      'Open': [hist19.iloc[-72]['Open']]},\n",
    "                                      index=[hist19.index[-72]])\n",
    "    except IndexError:\n",
    "        data[ticker] = pd.DataFrame({'Symbol': [ticker],\n",
    "                                      'Name': [None],\n",
    "                                      'Open': [None]},\n",
    "                                      index=[None])\n",
    "\n",
    "df19 = pd.concat(data.values())\n",
    "print(df19)"
   ]
  },
  {
   "cell_type": "code",
   "execution_count": 25,
   "id": "94dd7e8a",
   "metadata": {},
   "outputs": [
    {
     "name": "stdout",
     "output_type": "stream",
     "text": [
      "                          Symbol                             Name        Open\n",
      "2023-03-02 00:00:00-05:00    JNJ                Johnson & Johnson  151.750000\n",
      "2023-03-02 00:00:00-05:00    UNH  UnitedHealth Group Incorporated  473.523425\n",
      "2023-03-02 00:00:00-05:00    NVO                 Novo Nordisk A/S  140.970465\n",
      "2023-03-02 00:00:00-05:00    LLY            Eli Lilly and Company  311.790009\n",
      "2023-03-02 00:00:00-05:00    MRK                Merck & Co., Inc.  105.893783\n"
     ]
    }
   ],
   "source": [
    "#Healthcare Sector\n",
    "#request etflist ticker data from yfinance dated 3-1-2023\n",
    "tickers = ['JNJ', 'UNH', 'NVO', 'LLY', 'MRK']\n",
    "\n",
    "data = {}\n",
    "\n",
    "for ticker in tickers:\n",
    "    try:\n",
    "        stock = yf.Ticker(ticker)\n",
    "        hist20 = stock.history(period='4y')\n",
    "        data[ticker] = pd.DataFrame({'Symbol': [ticker],\n",
    "                                      'Name': [stock.info['longName']],\n",
    "                                      'Open': [hist20.iloc[-33]['Open']]},\n",
    "                                      index=[hist20.index[-33]])\n",
    "    except IndexError:\n",
    "        data[ticker] = pd.DataFrame({'Symbol': [ticker],\n",
    "                                      'Name': [None],\n",
    "                                      'Open': [None]},\n",
    "                                      index=[None])\n",
    "\n",
    "df20 = pd.concat(data.values())\n",
    "print(df20)"
   ]
  },
  {
   "cell_type": "code",
   "execution_count": 26,
   "id": "7d220f51",
   "metadata": {},
   "outputs": [
    {
     "data": {
      "text/html": [
       "<div>\n",
       "<style scoped>\n",
       "    .dataframe tbody tr th:only-of-type {\n",
       "        vertical-align: middle;\n",
       "    }\n",
       "\n",
       "    .dataframe tbody tr th {\n",
       "        vertical-align: top;\n",
       "    }\n",
       "\n",
       "    .dataframe thead th {\n",
       "        text-align: right;\n",
       "    }\n",
       "</style>\n",
       "<table border=\"1\" class=\"dataframe\">\n",
       "  <thead>\n",
       "    <tr style=\"text-align: right;\">\n",
       "      <th></th>\n",
       "      <th>Date</th>\n",
       "      <th>Symbol</th>\n",
       "      <th>Name</th>\n",
       "      <th>Open</th>\n",
       "    </tr>\n",
       "  </thead>\n",
       "  <tbody>\n",
       "    <tr>\n",
       "      <th>0</th>\n",
       "      <td>2020-01-06 00:00:00-05:00</td>\n",
       "      <td>JNJ</td>\n",
       "      <td>Johnson &amp; Johnson</td>\n",
       "      <td>132.290435</td>\n",
       "    </tr>\n",
       "    <tr>\n",
       "      <th>1</th>\n",
       "      <td>2020-01-06 00:00:00-05:00</td>\n",
       "      <td>UNH</td>\n",
       "      <td>UnitedHealth Group Incorporated</td>\n",
       "      <td>274.896293</td>\n",
       "    </tr>\n",
       "    <tr>\n",
       "      <th>2</th>\n",
       "      <td>2020-01-06 00:00:00-05:00</td>\n",
       "      <td>NVO</td>\n",
       "      <td>Novo Nordisk A/S</td>\n",
       "      <td>54.194439</td>\n",
       "    </tr>\n",
       "    <tr>\n",
       "      <th>3</th>\n",
       "      <td>2020-01-06 00:00:00-05:00</td>\n",
       "      <td>LLY</td>\n",
       "      <td>Eli Lilly and Company</td>\n",
       "      <td>124.798085</td>\n",
       "    </tr>\n",
       "    <tr>\n",
       "      <th>4</th>\n",
       "      <td>2020-01-06 00:00:00-05:00</td>\n",
       "      <td>MRK</td>\n",
       "      <td>Merck &amp; Co., Inc.</td>\n",
       "      <td>78.335732</td>\n",
       "    </tr>\n",
       "    <tr>\n",
       "      <th>...</th>\n",
       "      <td>...</td>\n",
       "      <td>...</td>\n",
       "      <td>...</td>\n",
       "      <td>...</td>\n",
       "    </tr>\n",
       "    <tr>\n",
       "      <th>95</th>\n",
       "      <td>2023-03-02 00:00:00-05:00</td>\n",
       "      <td>JNJ</td>\n",
       "      <td>Johnson &amp; Johnson</td>\n",
       "      <td>151.750000</td>\n",
       "    </tr>\n",
       "    <tr>\n",
       "      <th>96</th>\n",
       "      <td>2023-03-02 00:00:00-05:00</td>\n",
       "      <td>UNH</td>\n",
       "      <td>UnitedHealth Group Incorporated</td>\n",
       "      <td>473.523425</td>\n",
       "    </tr>\n",
       "    <tr>\n",
       "      <th>97</th>\n",
       "      <td>2023-03-02 00:00:00-05:00</td>\n",
       "      <td>NVO</td>\n",
       "      <td>Novo Nordisk A/S</td>\n",
       "      <td>140.970465</td>\n",
       "    </tr>\n",
       "    <tr>\n",
       "      <th>98</th>\n",
       "      <td>2023-03-02 00:00:00-05:00</td>\n",
       "      <td>LLY</td>\n",
       "      <td>Eli Lilly and Company</td>\n",
       "      <td>311.790009</td>\n",
       "    </tr>\n",
       "    <tr>\n",
       "      <th>99</th>\n",
       "      <td>2023-03-02 00:00:00-05:00</td>\n",
       "      <td>MRK</td>\n",
       "      <td>Merck &amp; Co., Inc.</td>\n",
       "      <td>105.893783</td>\n",
       "    </tr>\n",
       "  </tbody>\n",
       "</table>\n",
       "<p>100 rows × 4 columns</p>\n",
       "</div>"
      ],
      "text/plain": [
       "                        Date Symbol                             Name  \\\n",
       "0  2020-01-06 00:00:00-05:00    JNJ                Johnson & Johnson   \n",
       "1  2020-01-06 00:00:00-05:00    UNH  UnitedHealth Group Incorporated   \n",
       "2  2020-01-06 00:00:00-05:00    NVO                 Novo Nordisk A/S   \n",
       "3  2020-01-06 00:00:00-05:00    LLY            Eli Lilly and Company   \n",
       "4  2020-01-06 00:00:00-05:00    MRK                Merck & Co., Inc.   \n",
       "..                       ...    ...                              ...   \n",
       "95 2023-03-02 00:00:00-05:00    JNJ                Johnson & Johnson   \n",
       "96 2023-03-02 00:00:00-05:00    UNH  UnitedHealth Group Incorporated   \n",
       "97 2023-03-02 00:00:00-05:00    NVO                 Novo Nordisk A/S   \n",
       "98 2023-03-02 00:00:00-05:00    LLY            Eli Lilly and Company   \n",
       "99 2023-03-02 00:00:00-05:00    MRK                Merck & Co., Inc.   \n",
       "\n",
       "          Open  \n",
       "0   132.290435  \n",
       "1   274.896293  \n",
       "2    54.194439  \n",
       "3   124.798085  \n",
       "4    78.335732  \n",
       "..         ...  \n",
       "95  151.750000  \n",
       "96  473.523425  \n",
       "97  140.970465  \n",
       "98  311.790009  \n",
       "99  105.893783  \n",
       "\n",
       "[100 rows x 4 columns]"
      ]
     },
     "execution_count": 26,
     "metadata": {},
     "output_type": "execute_result"
    }
   ],
   "source": [
    "Healthcare_Sector_df = pd.concat([df1, df2, df3, df4, df5, df6, df7, df8, df9, df10, df11, df12, df13, df14, df15, df16, df17, df18, df19, df20], axis=0)\n",
    "\n",
    "Healthcare_Sector_df = Healthcare_Sector_df.reset_index()\n",
    "\n",
    "Healthcare_Sector_df = Healthcare_Sector_df.rename(columns={'index': 'Date'})\n",
    "\n",
    "\n",
    "Healthcare_Sector_df.to_csv('healthcare_data.csv', index=False)\n",
    "Healthcare_Sector_df\n",
    "\n"
   ]
  },
  {
   "cell_type": "code",
   "execution_count": 27,
   "id": "0767ca33",
   "metadata": {},
   "outputs": [
    {
     "data": {
      "image/png": "[encoded data removed]",
      "text/plain": [
       "<Figure size 640x480 with 1 Axes>"
      ]
     },
     "metadata": {},
     "output_type": "display_data"
    }
   ],
   "source": [
    "import pandas as pd\n",
    "import seaborn as sns\n",
    "import matplotlib.pyplot as plt\n",
    "\n",
    "sns.set(style='darkgrid')\n",
    "\n",
    "# Plot data by stock\n",
    "sns.lineplot(data=Healthcare_Sector_df, x='Date', y='Open', hue='Symbol')\n",
    "\n",
    "plt.xticks(rotation=45)\n",
    "\n",
    "plt.show()"
   ]
  },
  {
   "cell_type": "code",
   "execution_count": null,
   "id": "de5ddc05",
   "metadata": {},
   "outputs": [],
   "source": []
  },
  {
   "cell_type": "code",
   "execution_count": null,
   "id": "8451c6d0",
   "metadata": {},
   "outputs": [],
   "source": []
  },
  {
   "cell_type": "code",
   "execution_count": null,
   "id": "7015db13",
   "metadata": {},
   "outputs": [],
   "source": []
  },
  {
   "cell_type": "code",
   "execution_count": 212,
   "id": "eac7c412",
   "metadata": {},
   "outputs": [
    {
     "ename": "IndentationError",
     "evalue": "unexpected indent (2895121827.py, line 2)",
     "output_type": "error",
     "traceback": [
      "\u001b[0;36m  File \u001b[0;32m\"/var/folders/3r/fgm41fys63zcjnbbncdplfsm0000gn/T/ipykernel_46716/2895121827.py\"\u001b[0;36m, line \u001b[0;32m2\u001b[0m\n\u001b[0;31m    amt\u001b[0m\n\u001b[0m    ^\u001b[0m\n\u001b[0;31mIndentationError\u001b[0m\u001b[0;31m:\u001b[0m unexpected indent\n"
     ]
    }
   ],
   "source": [
    "\n",
    "pld\n",
    "\tamt\n",
    "\teqix\n",
    "\tcci\n",
    "\tpsa\n"
   ]
  },
  {
   "cell_type": "code",
   "execution_count": 28,
   "id": "8ff4373a",
   "metadata": {},
   "outputs": [
    {
     "name": "stdout",
     "output_type": "stream",
     "text": [
      "                          Symbol                        Name        Open\n",
      "2020-01-06 00:00:00-05:00    PLD              Prologis, Inc.   82.693138\n",
      "2020-01-06 00:00:00-05:00    AMT  American Tower Corporation  212.684344\n",
      "2020-01-06 00:00:00-05:00   EQIX               Equinix, Inc.  554.515490\n",
      "2020-01-06 00:00:00-05:00    CCI           Crown Castle Inc.  127.391263\n",
      "2020-01-06 00:00:00-05:00    PSA              Public Storage  184.872623\n"
     ]
    }
   ],
   "source": [
    "#Real Estate Sector\n",
    "#request etflist ticker data from yfinance dated 1-3,2020\n",
    "tickers = ['PLD', 'AMT', 'EQIX', 'CCI', 'PSA']\n",
    "\n",
    "data = {}\n",
    "\n",
    "for ticker in tickers:\n",
    "    try:\n",
    "        stock = yf.Ticker(ticker)\n",
    "        hist1 = stock.history(period='4y')\n",
    "        data[ticker] = pd.DataFrame({'Symbol': [ticker],\n",
    "                                      'Name': [stock.info['longName']],\n",
    "                                      'Open': [hist1.iloc[-827]['Open']]},\n",
    "                                      index=[hist1.index[-827]])\n",
    "    except IndexError:\n",
    "        data[ticker] = pd.DataFrame({'Symbol': [ticker],\n",
    "                                      'Name': [None],\n",
    "                                      'Open': [None]},\n",
    "                                      index=[None])\n",
    "\n",
    "df21 = pd.concat(data.values())\n",
    "print(df21)"
   ]
  },
  {
   "cell_type": "code",
   "execution_count": 29,
   "id": "bd103af1",
   "metadata": {},
   "outputs": [
    {
     "name": "stdout",
     "output_type": "stream",
     "text": [
      "                          Symbol                        Name        Open\n",
      "2020-03-03 00:00:00-05:00    PLD              Prologis, Inc.   81.944247\n",
      "2020-03-03 00:00:00-05:00    AMT  American Tower Corporation  224.106070\n",
      "2020-03-03 00:00:00-05:00   EQIX               Equinix, Inc.  591.631377\n",
      "2020-03-03 00:00:00-05:00    CCI           Crown Castle Inc.  140.557025\n",
      "2020-03-03 00:00:00-05:00    PSA              Public Storage  189.573555\n"
     ]
    }
   ],
   "source": [
    "#Real Estate Sector\n",
    "#request etflist ticker data from yfinance dated 3-2,2020\n",
    "tickers = ['PLD', 'AMT', 'EQIX', 'CCI', 'PSA']\n",
    "\n",
    "data = {}\n",
    "\n",
    "for ticker in tickers:\n",
    "    try:\n",
    "        stock = yf.Ticker(ticker)\n",
    "        hist2 = stock.history(period='4y')\n",
    "        data[ticker] = pd.DataFrame({'Symbol': [ticker],\n",
    "                                      'Name': [stock.info['longName']],\n",
    "                                      'Open': [hist2.iloc[-788]['Open']]},\n",
    "                                      index=[hist2.index[-788]])\n",
    "    except IndexError:\n",
    "        data[ticker] = pd.DataFrame({'Symbol': [ticker],\n",
    "                                      'Name': [None],\n",
    "                                      'Open': [None]},\n",
    "                                      index=[None])\n",
    "\n",
    "df22 = pd.concat(data.values())\n",
    "print(df22)"
   ]
  },
  {
   "cell_type": "code",
   "execution_count": 30,
   "id": "95dd0b26",
   "metadata": {},
   "outputs": [
    {
     "name": "stdout",
     "output_type": "stream",
     "text": [
      "                          Symbol                        Name        Open\n",
      "2020-05-04 00:00:00-04:00    PLD              Prologis, Inc.   80.035402\n",
      "2020-05-04 00:00:00-04:00    AMT  American Tower Corporation  221.901525\n",
      "2020-05-04 00:00:00-04:00   EQIX               Equinix, Inc.  632.350512\n",
      "2020-05-04 00:00:00-04:00    CCI           Crown Castle Inc.  141.950963\n",
      "2020-05-04 00:00:00-04:00    PSA              Public Storage  161.713258\n"
     ]
    }
   ],
   "source": [
    "#Real Estate Sector\n",
    "#request etflist ticker data from yfinance dated 5-1,2020\n",
    "tickers = ['PLD', 'AMT', 'EQIX', 'CCI', 'PSA']\n",
    "\n",
    "data = {}\n",
    "\n",
    "for ticker in tickers:\n",
    "    try:\n",
    "        stock = yf.Ticker(ticker)\n",
    "        hist3 = stock.history(period='4y')\n",
    "        data[ticker] = pd.DataFrame({'Symbol': [ticker],\n",
    "                                      'Name': [stock.info['longName']],\n",
    "                                      'Open': [hist3.iloc[-745]['Open']]},\n",
    "                                      index=[hist3.index[-745]])\n",
    "    except IndexError:\n",
    "        data[ticker] = pd.DataFrame({'Symbol': [ticker],\n",
    "                                      'Name': [None],\n",
    "                                      'Open': [None]},\n",
    "                                      index=[None])\n",
    "\n",
    "df23 = pd.concat(data.values())\n",
    "print(df23)"
   ]
  },
  {
   "cell_type": "code",
   "execution_count": 31,
   "id": "d872008d",
   "metadata": {},
   "outputs": [
    {
     "name": "stdout",
     "output_type": "stream",
     "text": [
      "                          Symbol                        Name        Open\n",
      "2020-07-02 00:00:00-04:00    PLD              Prologis, Inc.   90.641851\n",
      "2020-07-02 00:00:00-04:00    AMT  American Tower Corporation  251.609619\n",
      "2020-07-02 00:00:00-04:00   EQIX               Equinix, Inc.  700.147187\n",
      "2020-07-02 00:00:00-04:00    CCI           Crown Castle Inc.  158.007528\n",
      "2020-07-02 00:00:00-04:00    PSA              Public Storage  178.233018\n"
     ]
    }
   ],
   "source": [
    "#Real Estate Sector\n",
    "#request etflist ticker data from yfinance dated 7-1,2020\n",
    "tickers = ['PLD', 'AMT', 'EQIX', 'CCI', 'PSA']\n",
    "\n",
    "data = {}\n",
    "\n",
    "for ticker in tickers:\n",
    "    try:\n",
    "        stock = yf.Ticker(ticker)\n",
    "        hist4 = stock.history(period='4y')\n",
    "        data[ticker] = pd.DataFrame({'Symbol': [ticker],\n",
    "                                      'Name': [stock.info['longName']],\n",
    "                                      'Open': [hist4.iloc[-703]['Open']]},\n",
    "                                      index=[hist4.index[-703]])\n",
    "    except IndexError:\n",
    "        data[ticker] = pd.DataFrame({'Symbol': [ticker],\n",
    "                                      'Name': [None],\n",
    "                                      'Open': [None]},\n",
    "                                      index=[None])\n",
    "\n",
    "df24 = pd.concat(data.values())\n",
    "print(df24)"
   ]
  },
  {
   "cell_type": "code",
   "execution_count": 32,
   "id": "2e7bf32b",
   "metadata": {},
   "outputs": [
    {
     "name": "stdout",
     "output_type": "stream",
     "text": [
      "                          Symbol                        Name        Open\n",
      "2020-09-02 00:00:00-04:00    PLD              Prologis, Inc.   95.219423\n",
      "2020-09-02 00:00:00-04:00    AMT  American Tower Corporation  232.517161\n",
      "2020-09-02 00:00:00-04:00   EQIX               Equinix, Inc.  754.531769\n",
      "2020-09-02 00:00:00-04:00    CCI           Crown Castle Inc.  146.583527\n",
      "2020-09-02 00:00:00-04:00    PSA              Public Storage  188.217136\n"
     ]
    }
   ],
   "source": [
    "#Real Estate Sector\n",
    "#request etflist ticker data from yfinance dated 9-1,2020\n",
    "tickers = ['PLD', 'AMT', 'EQIX', 'CCI', 'PSA']\n",
    "\n",
    "data = {}\n",
    "\n",
    "for ticker in tickers:\n",
    "    try:\n",
    "        stock = yf.Ticker(ticker)\n",
    "        hist5 = stock.history(period='4y')\n",
    "        data[ticker] = pd.DataFrame({'Symbol': [ticker],\n",
    "                                      'Name': [stock.info['longName']],\n",
    "                                      'Open': [hist5.iloc[-660]['Open']]},\n",
    "                                      index=[hist5.index[-660]])\n",
    "    except IndexError:\n",
    "        data[ticker] = pd.DataFrame({'Symbol': [ticker],\n",
    "                                      'Name': [None],\n",
    "                                      'Open': [None]},\n",
    "                                      index=[None])\n",
    "\n",
    "df25 = pd.concat(data.values())\n",
    "print(df25)"
   ]
  },
  {
   "cell_type": "code",
   "execution_count": 33,
   "id": "c06085bc",
   "metadata": {},
   "outputs": [
    {
     "name": "stdout",
     "output_type": "stream",
     "text": [
      "                          Symbol                        Name        Open\n",
      "2020-11-03 00:00:00-05:00    PLD              Prologis, Inc.   96.844927\n",
      "2020-11-03 00:00:00-05:00    AMT  American Tower Corporation  222.165913\n",
      "2020-11-03 00:00:00-05:00   EQIX               Equinix, Inc.  711.963385\n",
      "2020-11-03 00:00:00-05:00    CCI           Crown Castle Inc.  147.362044\n",
      "2020-11-03 00:00:00-05:00    PSA              Public Storage  209.463778\n"
     ]
    }
   ],
   "source": [
    "#Real Estate Sector\n",
    "#request etflist ticker data from yfinance dated 11-2,2020\n",
    "tickers = ['PLD', 'AMT', 'EQIX', 'CCI', 'PSA']\n",
    "\n",
    "data = {}\n",
    "\n",
    "for ticker in tickers:\n",
    "    try:\n",
    "        stock = yf.Ticker(ticker)\n",
    "        hist6 = stock.history(period='4y')\n",
    "        data[ticker] = pd.DataFrame({'Symbol': [ticker],\n",
    "                                      'Name': [stock.info['longName']],\n",
    "                                      'Open': [hist6.iloc[-617]['Open']]},\n",
    "                                      index=[hist6.index[-617]])\n",
    "    except IndexError:\n",
    "        data[ticker] = pd.DataFrame({'Symbol': [ticker],\n",
    "                                      'Name': [None],\n",
    "                                      'Open': [None]},\n",
    "                                      index=[None])\n",
    "\n",
    "df26 = pd.concat(data.values())\n",
    "print(df26)"
   ]
  },
  {
   "cell_type": "code",
   "execution_count": 34,
   "id": "4f61dfbc",
   "metadata": {},
   "outputs": [
    {
     "name": "stdout",
     "output_type": "stream",
     "text": [
      "                          Symbol                        Name        Open\n",
      "2021-01-05 00:00:00-05:00    PLD              Prologis, Inc.   91.233628\n",
      "2021-01-05 00:00:00-05:00    AMT  American Tower Corporation  208.783530\n",
      "2021-01-05 00:00:00-05:00   EQIX               Equinix, Inc.  671.569163\n",
      "2021-01-05 00:00:00-05:00    CCI           Crown Castle Inc.  143.458097\n",
      "2021-01-05 00:00:00-05:00    PSA              Public Storage  198.056552\n"
     ]
    }
   ],
   "source": [
    "#Real Estate Sector\n",
    "#request etflist ticker data from yfinance dated 1-4,2021\n",
    "tickers = ['PLD', 'AMT', 'EQIX', 'CCI', 'PSA']\n",
    "\n",
    "data = {}\n",
    "\n",
    "for ticker in tickers:\n",
    "    try:\n",
    "        stock = yf.Ticker(ticker)\n",
    "        hist7 = stock.history(period='4y')\n",
    "        data[ticker] = pd.DataFrame({'Symbol': [ticker],\n",
    "                                      'Name': [stock.info['longName']],\n",
    "                                      'Open': [hist7.iloc[-575]['Open']]},\n",
    "                                      index=[hist7.index[-575]])\n",
    "    except IndexError:\n",
    "        data[ticker] = pd.DataFrame({'Symbol': [ticker],\n",
    "                                      'Name': [None],\n",
    "                                      'Open': [None]},\n",
    "                                      index=[None])\n",
    "\n",
    "df27 = pd.concat(data.values())\n",
    "print(df27)"
   ]
  },
  {
   "cell_type": "code",
   "execution_count": 35,
   "id": "71aaffa0",
   "metadata": {},
   "outputs": [
    {
     "name": "stdout",
     "output_type": "stream",
     "text": [
      "                          Symbol                        Name        Open\n",
      "2021-03-02 00:00:00-05:00    PLD              Prologis, Inc.   94.450287\n",
      "2021-03-02 00:00:00-05:00    AMT  American Tower Corporation  203.481397\n",
      "2021-03-02 00:00:00-05:00   EQIX               Equinix, Inc.  624.841322\n",
      "2021-03-02 00:00:00-05:00    CCI           Crown Castle Inc.  142.173355\n",
      "2021-03-02 00:00:00-05:00    PSA              Public Storage  208.829455\n"
     ]
    }
   ],
   "source": [
    "#Real Estate Sector\n",
    "#request etflist ticker data from yfinance dated 3-2021\n",
    "tickers = ['PLD', 'AMT', 'EQIX', 'CCI', 'PSA']\n",
    "\n",
    "data = {}\n",
    "\n",
    "for ticker in tickers:\n",
    "    try:\n",
    "        stock = yf.Ticker(ticker)\n",
    "        hist8 = stock.history(period='4y')\n",
    "        data[ticker] = pd.DataFrame({'Symbol': [ticker],\n",
    "                                      'Name': [stock.info['longName']],\n",
    "                                      'Open': [hist8.iloc[-537]['Open']]},\n",
    "                                      index=[hist8.index[-537]])\n",
    "    except IndexError:\n",
    "        data[ticker] = pd.DataFrame({'Symbol': [ticker],\n",
    "                                      'Name': [None],\n",
    "                                      'Open': [None]},\n",
    "                                      index=[None])\n",
    "\n",
    "df28 = pd.concat(data.values())\n",
    "print(df28)"
   ]
  },
  {
   "cell_type": "code",
   "execution_count": 36,
   "id": "219b0290",
   "metadata": {},
   "outputs": [
    {
     "name": "stdout",
     "output_type": "stream",
     "text": [
      "                          Symbol                        Name        Open\n",
      "2021-05-04 00:00:00-04:00    PLD              Prologis, Inc.  110.752045\n",
      "2021-05-04 00:00:00-04:00    AMT  American Tower Corporation  241.166760\n",
      "2021-05-04 00:00:00-04:00   EQIX               Equinix, Inc.  687.901378\n",
      "2021-05-04 00:00:00-04:00    CCI           Crown Castle Inc.  173.593394\n",
      "2021-05-04 00:00:00-04:00    PSA              Public Storage  254.539250\n"
     ]
    }
   ],
   "source": [
    "#Real Estate Sector\n",
    "#request etflist ticker data from yfinance dated 5-3-2021\n",
    "tickers = ['PLD', 'AMT', 'EQIX', 'CCI', 'PSA']\n",
    "\n",
    "data = {}\n",
    "\n",
    "for ticker in tickers:\n",
    "    try:\n",
    "        stock = yf.Ticker(ticker)\n",
    "        hist9 = stock.history(period='4y')\n",
    "        data[ticker] = pd.DataFrame({'Symbol': [ticker],\n",
    "                                      'Name': [stock.info['longName']],\n",
    "                                      'Open': [hist9.iloc[-493]['Open']]},\n",
    "                                      index=[hist9.index[-493]])\n",
    "    except IndexError:\n",
    "        data[ticker] = pd.DataFrame({'Symbol': [ticker],\n",
    "                                      'Name': [None],\n",
    "                                      'Open': [None]},\n",
    "                                      index=[None])\n",
    "\n",
    "df29 = pd.concat(data.values())\n",
    "print(df29)"
   ]
  },
  {
   "cell_type": "code",
   "execution_count": 37,
   "id": "5e74e01b",
   "metadata": {},
   "outputs": [
    {
     "name": "stdout",
     "output_type": "stream",
     "text": [
      "                          Symbol                        Name        Open\n",
      "2021-07-02 00:00:00-04:00    PLD              Prologis, Inc.  115.539490\n",
      "2021-07-02 00:00:00-04:00    AMT  American Tower Corporation  259.900290\n",
      "2021-07-02 00:00:00-04:00   EQIX               Equinix, Inc.  776.767676\n",
      "2021-07-02 00:00:00-04:00    CCI           Crown Castle Inc.  183.444404\n",
      "2021-07-02 00:00:00-04:00    PSA              Public Storage  276.081724\n"
     ]
    }
   ],
   "source": [
    "#Real Estate Sector\n",
    "#request etflist ticker data from yfinance dated 7-1-2021\n",
    "tickers = ['PLD', 'AMT', 'EQIX', 'CCI', 'PSA']\n",
    "\n",
    "data = {}\n",
    "\n",
    "for ticker in tickers:\n",
    "    try:\n",
    "        stock = yf.Ticker(ticker)\n",
    "        hist10 = stock.history(period='4y')\n",
    "        data[ticker] = pd.DataFrame({'Symbol': [ticker],\n",
    "                                      'Name': [stock.info['longName']],\n",
    "                                      'Open': [hist10.iloc[-451]['Open']]},\n",
    "                                      index=[hist10.index[-451]])\n",
    "    except IndexError:\n",
    "        data[ticker] = pd.DataFrame({'Symbol': [ticker],\n",
    "                                      'Name': [None],\n",
    "                                      'Open': [None]},\n",
    "                                      index=[None])\n",
    "\n",
    "df30 = pd.concat(data.values())\n",
    "print(df30)"
   ]
  },
  {
   "cell_type": "code",
   "execution_count": 38,
   "id": "120ad288",
   "metadata": {},
   "outputs": [
    {
     "name": "stdout",
     "output_type": "stream",
     "text": [
      "                          Symbol                        Name        Open\n",
      "2021-09-02 00:00:00-04:00    PLD              Prologis, Inc.  132.178110\n",
      "2021-09-02 00:00:00-04:00    AMT  American Tower Corporation  285.574233\n",
      "2021-09-02 00:00:00-04:00   EQIX               Equinix, Inc.  843.167882\n",
      "2021-09-02 00:00:00-04:00    CCI           Crown Castle Inc.  185.856301\n",
      "2021-09-02 00:00:00-04:00    PSA              Public Storage  302.390922\n"
     ]
    }
   ],
   "source": [
    "#Real Estate Sector\n",
    "#request etflist ticker data from yfinance dated 9-1-2021\n",
    "tickers = ['PLD', 'AMT', 'EQIX', 'CCI', 'PSA']\n",
    "\n",
    "data = {}\n",
    "\n",
    "for ticker in tickers:\n",
    "    try:\n",
    "        stock = yf.Ticker(ticker)\n",
    "        hist11 = stock.history(period='4y')\n",
    "        data[ticker] = pd.DataFrame({'Symbol': [ticker],\n",
    "                                      'Name': [stock.info['longName']],\n",
    "                                      'Open': [hist11.iloc[-408]['Open']]},\n",
    "                                      index=[hist11.index[-408]])\n",
    "    except IndexError:\n",
    "        data[ticker] = pd.DataFrame({'Symbol': [ticker],\n",
    "                                      'Name': [None],\n",
    "                                      'Open': [None]},\n",
    "                                      index=[None])\n",
    "\n",
    "df31 = pd.concat(data.values())\n",
    "print(df31)"
   ]
  },
  {
   "cell_type": "code",
   "execution_count": 39,
   "id": "4ba8f311",
   "metadata": {},
   "outputs": [
    {
     "name": "stdout",
     "output_type": "stream",
     "text": [
      "                          Symbol                        Name        Open\n",
      "2021-11-02 00:00:00-04:00    PLD              Prologis, Inc.  139.949855\n",
      "2021-11-02 00:00:00-04:00    AMT  American Tower Corporation  272.190342\n",
      "2021-11-02 00:00:00-04:00   EQIX               Equinix, Inc.  811.185851\n",
      "2021-11-02 00:00:00-04:00    CCI           Crown Castle Inc.  172.008230\n",
      "2021-11-02 00:00:00-04:00    PSA              Public Storage  307.652517\n"
     ]
    }
   ],
   "source": [
    "#Real Estate Sector\n",
    "#request etflist ticker data from yfinance dated 11-1-1021\n",
    "tickers = ['PLD', 'AMT', 'EQIX', 'CCI', 'PSA']\n",
    "\n",
    "data = {}\n",
    "\n",
    "for ticker in tickers:\n",
    "    try:\n",
    "        stock = yf.Ticker(ticker)\n",
    "        hist12 = stock.history(period='4y')\n",
    "        data[ticker] = pd.DataFrame({'Symbol': [ticker],\n",
    "                                      'Name': [stock.info['longName']],\n",
    "                                      'Open': [hist12.iloc[-366]['Open']]},\n",
    "                                      index=[hist12.index[-366]])\n",
    "    except IndexError:\n",
    "        data[ticker] = pd.DataFrame({'Symbol': [ticker],\n",
    "                                      'Name': [None],\n",
    "                                      'Open': [None]},\n",
    "                                      index=[None])\n",
    "\n",
    "df32 = pd.concat(data.values())\n",
    "print(df32)"
   ]
  },
  {
   "cell_type": "code",
   "execution_count": 40,
   "id": "3664d039",
   "metadata": {},
   "outputs": [
    {
     "name": "stdout",
     "output_type": "stream",
     "text": [
      "                          Symbol                        Name        Open\n",
      "2022-01-04 00:00:00-05:00    PLD              Prologis, Inc.  158.906841\n",
      "2022-01-04 00:00:00-05:00    AMT  American Tower Corporation  277.778739\n",
      "2022-01-04 00:00:00-05:00   EQIX               Equinix, Inc.  813.821245\n",
      "2022-01-04 00:00:00-05:00    CCI           Crown Castle Inc.  197.227673\n",
      "2022-01-04 00:00:00-05:00    PSA              Public Storage  338.625305\n"
     ]
    }
   ],
   "source": [
    "#Real Estate Sector\n",
    "#request etflist ticker data from yfinance dated 1-3-2022\n",
    "tickers = ['PLD', 'AMT', 'EQIX', 'CCI', 'PSA']\n",
    "\n",
    "data = {}\n",
    "\n",
    "for ticker in tickers:\n",
    "    try:\n",
    "        stock = yf.Ticker(ticker)\n",
    "        hist13 = stock.history(period='4y')\n",
    "        data[ticker] = pd.DataFrame({'Symbol': [ticker],\n",
    "                                      'Name': [stock.info['longName']],\n",
    "                                      'Open': [hist13.iloc[-323]['Open']]},\n",
    "                                      index=[hist13.index[-323]])\n",
    "    except IndexError:\n",
    "        data[ticker] = pd.DataFrame({'Symbol': [ticker],\n",
    "                                      'Name': [None],\n",
    "                                      'Open': [None]},\n",
    "                                      index=[None])\n",
    "\n",
    "df33 = pd.concat(data.values())\n",
    "print(df33)"
   ]
  },
  {
   "cell_type": "code",
   "execution_count": 41,
   "id": "3b86ac94",
   "metadata": {},
   "outputs": [
    {
     "name": "stdout",
     "output_type": "stream",
     "text": [
      "                          Symbol                        Name        Open\n",
      "2022-03-02 00:00:00-05:00    PLD              Prologis, Inc.  141.571021\n",
      "2022-03-02 00:00:00-05:00    AMT  American Tower Corporation  220.828219\n",
      "2022-03-02 00:00:00-05:00   EQIX               Equinix, Inc.  689.280866\n",
      "2022-03-02 00:00:00-05:00    CCI           Crown Castle Inc.  160.246306\n",
      "2022-03-02 00:00:00-05:00    PSA              Public Storage  333.894190\n"
     ]
    }
   ],
   "source": [
    "#Real Estate Sector\n",
    "#request etflist ticker data from yfinance dated 3-1-2022\n",
    "tickers = ['PLD', 'AMT', 'EQIX', 'CCI', 'PSA']\n",
    "\n",
    "data = {}\n",
    "\n",
    "for ticker in tickers:\n",
    "    try:\n",
    "        stock = yf.Ticker(ticker)\n",
    "        hist14 = stock.history(period='4y')\n",
    "        data[ticker] = pd.DataFrame({'Symbol': [ticker],\n",
    "                                      'Name': [stock.info['longName']],\n",
    "                                      'Open': [hist14.iloc[-284]['Open']]},\n",
    "                                      index=[hist14.index[-284]])\n",
    "    except IndexError:\n",
    "        data[ticker] = pd.DataFrame({'Symbol': [ticker],\n",
    "                                      'Name': [None],\n",
    "                                      'Open': [None]},\n",
    "                                      index=[None])\n",
    "\n",
    "df34 = pd.concat(data.values())\n",
    "print(df34)"
   ]
  },
  {
   "cell_type": "code",
   "execution_count": 42,
   "id": "4602c041",
   "metadata": {},
   "outputs": [
    {
     "name": "stdout",
     "output_type": "stream",
     "text": [
      "                          Symbol                        Name        Open\n",
      "2022-05-03 00:00:00-04:00    PLD              Prologis, Inc.  149.964863\n",
      "2022-05-03 00:00:00-04:00    AMT  American Tower Corporation  230.410137\n",
      "2022-05-03 00:00:00-04:00   EQIX               Equinix, Inc.  694.338480\n",
      "2022-05-03 00:00:00-04:00    CCI           Crown Castle Inc.  174.789575\n",
      "2022-05-03 00:00:00-04:00    PSA              Public Storage  336.803955\n"
     ]
    }
   ],
   "source": [
    "#Real Estate Sector\n",
    "#request etflist ticker data from yfinance dated 5-2-2022\n",
    "tickers = ['PLD', 'AMT', 'EQIX', 'CCI', 'PSA']\n",
    "\n",
    "data = {}\n",
    "\n",
    "for ticker in tickers:\n",
    "    try:\n",
    "        stock = yf.Ticker(ticker)\n",
    "        hist15 = stock.history(period='4y')\n",
    "        data[ticker] = pd.DataFrame({'Symbol': [ticker],\n",
    "                                      'Name': [stock.info['longName']],\n",
    "                                      'Open': [hist15.iloc[-241]['Open']]},\n",
    "                                      index=[hist15.index[-241]])\n",
    "    except IndexError:\n",
    "        data[ticker] = pd.DataFrame({'Symbol': [ticker],\n",
    "                                      'Name': [None],\n",
    "                                      'Open': [None]},\n",
    "                                      index=[None])\n",
    "\n",
    "df35 = pd.concat(data.values())\n",
    "print(df35)"
   ]
  },
  {
   "cell_type": "code",
   "execution_count": 43,
   "id": "52caba40",
   "metadata": {},
   "outputs": [
    {
     "name": "stdout",
     "output_type": "stream",
     "text": [
      "                          Symbol                        Name        Open\n",
      "2022-07-05 00:00:00-04:00    PLD              Prologis, Inc.  116.981517\n",
      "2022-07-05 00:00:00-04:00    AMT  American Tower Corporation  249.918901\n",
      "2022-07-05 00:00:00-04:00   EQIX               Equinix, Inc.  655.797219\n",
      "2022-07-05 00:00:00-04:00    CCI           Crown Castle Inc.  166.071334\n",
      "2022-07-05 00:00:00-04:00    PSA              Public Storage  295.835383\n"
     ]
    }
   ],
   "source": [
    "#Real Estate Sector\n",
    "#request etflist ticker data from yfinance dated 7-1-2022\n",
    "tickers = ['PLD', 'AMT', 'EQIX', 'CCI', 'PSA']\n",
    "\n",
    "data = {}\n",
    "\n",
    "for ticker in tickers:\n",
    "    try:\n",
    "        stock = yf.Ticker(ticker)\n",
    "        hist16 = stock.history(period='4y')\n",
    "        data[ticker] = pd.DataFrame({'Symbol': [ticker],\n",
    "                                      'Name': [stock.info['longName']],\n",
    "                                      'Open': [hist16.iloc[-199]['Open']]},\n",
    "                                      index=[hist16.index[-199]])\n",
    "    except IndexError:\n",
    "        data[ticker] = pd.DataFrame({'Symbol': [ticker],\n",
    "                                      'Name': [None],\n",
    "                                      'Open': [None]},\n",
    "                                      index=[None])\n",
    "\n",
    "df36 = pd.concat(data.values())\n",
    "print(df36)"
   ]
  },
  {
   "cell_type": "code",
   "execution_count": 44,
   "id": "d516d1d8",
   "metadata": {},
   "outputs": [
    {
     "name": "stdout",
     "output_type": "stream",
     "text": [
      "                          Symbol                        Name        Open\n",
      "2022-09-02 00:00:00-04:00    PLD              Prologis, Inc.  123.066761\n",
      "2022-09-02 00:00:00-04:00    AMT  American Tower Corporation  253.880593\n",
      "2022-09-02 00:00:00-04:00   EQIX               Equinix, Inc.  646.383460\n",
      "2022-09-02 00:00:00-04:00    CCI           Crown Castle Inc.  167.757128\n",
      "2022-09-02 00:00:00-04:00    PSA              Public Storage  332.012322\n"
     ]
    }
   ],
   "source": [
    "#Real Estate Sector\n",
    "#request etflist ticker data from yfinance dated 9-1-2022\n",
    "tickers = ['PLD', 'AMT', 'EQIX', 'CCI', 'PSA']\n",
    "\n",
    "data = {}\n",
    "\n",
    "for ticker in tickers:\n",
    "    try:\n",
    "        stock = yf.Ticker(ticker)\n",
    "        hist17 = stock.history(period='4y')\n",
    "        data[ticker] = pd.DataFrame({'Symbol': [ticker],\n",
    "                                      'Name': [stock.info['longName']],\n",
    "                                      'Open': [hist17.iloc[-156]['Open']]},\n",
    "                                      index=[hist17.index[-156]])\n",
    "    except IndexError:\n",
    "        data[ticker] = pd.DataFrame({'Symbol': [ticker],\n",
    "                                      'Name': [None],\n",
    "                                      'Open': [None]},\n",
    "                                      index=[None])\n",
    "\n",
    "df37 = pd.concat(data.values())\n",
    "print(df37)"
   ]
  },
  {
   "cell_type": "code",
   "execution_count": 45,
   "id": "1adc5a2b",
   "metadata": {},
   "outputs": [
    {
     "name": "stdout",
     "output_type": "stream",
     "text": [
      "                          Symbol                        Name        Open\n",
      "2022-11-02 00:00:00-04:00    PLD              Prologis, Inc.  106.206983\n",
      "2022-11-02 00:00:00-04:00    AMT  American Tower Corporation  203.696673\n",
      "2022-11-02 00:00:00-04:00   EQIX               Equinix, Inc.  546.706014\n",
      "2022-11-02 00:00:00-04:00    CCI           Crown Castle Inc.  128.619131\n",
      "2022-11-02 00:00:00-04:00    PSA              Public Storage  302.069161\n"
     ]
    }
   ],
   "source": [
    "#Real Estate Sector\n",
    "#request etflist ticker data from yfinance dated 9-1-2022\n",
    "tickers = ['PLD', 'AMT', 'EQIX', 'CCI', 'PSA']\n",
    "\n",
    "data = {}\n",
    "\n",
    "for ticker in tickers:\n",
    "    try:\n",
    "        stock = yf.Ticker(ticker)\n",
    "        hist18 = stock.history(period='4y')\n",
    "        data[ticker] = pd.DataFrame({'Symbol': [ticker],\n",
    "                                      'Name': [stock.info['longName']],\n",
    "                                      'Open': [hist18.iloc[-114]['Open']]},\n",
    "                                      index=[hist18.index[-114]])\n",
    "    except IndexError:\n",
    "        data[ticker] = pd.DataFrame({'Symbol': [ticker],\n",
    "                                      'Name': [None],\n",
    "                                      'Open': [None]},\n",
    "                                      index=[None])\n",
    "\n",
    "df38 = pd.concat(data.values())\n",
    "print(df38)"
   ]
  },
  {
   "cell_type": "code",
   "execution_count": 46,
   "id": "5574c468",
   "metadata": {},
   "outputs": [
    {
     "name": "stdout",
     "output_type": "stream",
     "text": [
      "                          Symbol                        Name        Open\n",
      "2023-01-04 00:00:00-05:00    PLD              Prologis, Inc.  113.798996\n",
      "2023-01-04 00:00:00-05:00    AMT  American Tower Corporation  215.804603\n",
      "2023-01-04 00:00:00-05:00   EQIX               Equinix, Inc.  665.487322\n",
      "2023-01-04 00:00:00-05:00    CCI           Crown Castle Inc.  137.630494\n",
      "2023-01-04 00:00:00-05:00    PSA              Public Storage  273.497041\n"
     ]
    }
   ],
   "source": [
    "#Real Estate Sector\n",
    "#request etflist ticker data from yfinance dated 1-3-2023\n",
    "tickers = ['PLD', 'AMT', 'EQIX', 'CCI', 'PSA']\n",
    "\n",
    "data = {}\n",
    "\n",
    "for ticker in tickers:\n",
    "    try:\n",
    "        stock = yf.Ticker(ticker)\n",
    "        hist19 = stock.history(period='4y')\n",
    "        data[ticker] = pd.DataFrame({'Symbol': [ticker],\n",
    "                                      'Name': [stock.info['longName']],\n",
    "                                      'Open': [hist19.iloc[-72]['Open']]},\n",
    "                                      index=[hist19.index[-72]])\n",
    "    except IndexError:\n",
    "        data[ticker] = pd.DataFrame({'Symbol': [ticker],\n",
    "                                      'Name': [None],\n",
    "                                      'Open': [None]},\n",
    "                                      index=[None])\n",
    "\n",
    "df39 = pd.concat(data.values())\n",
    "print(df39)"
   ]
  },
  {
   "cell_type": "code",
   "execution_count": 47,
   "id": "e8e88856",
   "metadata": {},
   "outputs": [
    {
     "name": "stdout",
     "output_type": "stream",
     "text": [
      "                          Symbol                        Name        Open\n",
      "2023-03-02 00:00:00-05:00    PLD              Prologis, Inc.  119.408042\n",
      "2023-03-02 00:00:00-05:00    AMT  American Tower Corporation  191.892492\n",
      "2023-03-02 00:00:00-05:00   EQIX               Equinix, Inc.  662.511806\n",
      "2023-03-02 00:00:00-05:00    CCI           Crown Castle Inc.  126.703048\n",
      "2023-03-02 00:00:00-05:00    PSA              Public Storage  291.142358\n"
     ]
    }
   ],
   "source": [
    "#Real Estate Sector\n",
    "#request etflist ticker data from yfinance dated 3-1-2023\n",
    "tickers = ['PLD', 'AMT', 'EQIX', 'CCI', 'PSA']\n",
    "\n",
    "data = {}\n",
    "\n",
    "for ticker in tickers:\n",
    "    try:\n",
    "        stock = yf.Ticker(ticker)\n",
    "        hist20 = stock.history(period='4y')\n",
    "        data[ticker] = pd.DataFrame({'Symbol': [ticker],\n",
    "                                      'Name': [stock.info['longName']],\n",
    "                                      'Open': [hist20.iloc[-33]['Open']]},\n",
    "                                      index=[hist20.index[-33]])\n",
    "    except IndexError:\n",
    "        data[ticker] = pd.DataFrame({'Symbol': [ticker],\n",
    "                                      'Name': [None],\n",
    "                                      'Open': [None]},\n",
    "                                      index=[None])\n",
    "\n",
    "df40 = pd.concat(data.values())\n",
    "print(df40)"
   ]
  },
  {
   "cell_type": "code",
   "execution_count": 48,
   "id": "dc641594",
   "metadata": {},
   "outputs": [
    {
     "data": {
      "text/html": [
       "<div>\n",
       "<style scoped>\n",
       "    .dataframe tbody tr th:only-of-type {\n",
       "        vertical-align: middle;\n",
       "    }\n",
       "\n",
       "    .dataframe tbody tr th {\n",
       "        vertical-align: top;\n",
       "    }\n",
       "\n",
       "    .dataframe thead th {\n",
       "        text-align: right;\n",
       "    }\n",
       "</style>\n",
       "<table border=\"1\" class=\"dataframe\">\n",
       "  <thead>\n",
       "    <tr style=\"text-align: right;\">\n",
       "      <th></th>\n",
       "      <th>Date</th>\n",
       "      <th>Symbol</th>\n",
       "      <th>Name</th>\n",
       "      <th>Open</th>\n",
       "    </tr>\n",
       "  </thead>\n",
       "  <tbody>\n",
       "    <tr>\n",
       "      <th>0</th>\n",
       "      <td>2020-01-06 00:00:00-05:00</td>\n",
       "      <td>PLD</td>\n",
       "      <td>Prologis, Inc.</td>\n",
       "      <td>82.693138</td>\n",
       "    </tr>\n",
       "    <tr>\n",
       "      <th>1</th>\n",
       "      <td>2020-01-06 00:00:00-05:00</td>\n",
       "      <td>AMT</td>\n",
       "      <td>American Tower Corporation</td>\n",
       "      <td>212.684344</td>\n",
       "    </tr>\n",
       "    <tr>\n",
       "      <th>2</th>\n",
       "      <td>2020-01-06 00:00:00-05:00</td>\n",
       "      <td>EQIX</td>\n",
       "      <td>Equinix, Inc.</td>\n",
       "      <td>554.515490</td>\n",
       "    </tr>\n",
       "    <tr>\n",
       "      <th>3</th>\n",
       "      <td>2020-01-06 00:00:00-05:00</td>\n",
       "      <td>CCI</td>\n",
       "      <td>Crown Castle Inc.</td>\n",
       "      <td>127.391263</td>\n",
       "    </tr>\n",
       "    <tr>\n",
       "      <th>4</th>\n",
       "      <td>2020-01-06 00:00:00-05:00</td>\n",
       "      <td>PSA</td>\n",
       "      <td>Public Storage</td>\n",
       "      <td>184.872623</td>\n",
       "    </tr>\n",
       "    <tr>\n",
       "      <th>...</th>\n",
       "      <td>...</td>\n",
       "      <td>...</td>\n",
       "      <td>...</td>\n",
       "      <td>...</td>\n",
       "    </tr>\n",
       "    <tr>\n",
       "      <th>95</th>\n",
       "      <td>2023-03-02 00:00:00-05:00</td>\n",
       "      <td>PLD</td>\n",
       "      <td>Prologis, Inc.</td>\n",
       "      <td>119.408042</td>\n",
       "    </tr>\n",
       "    <tr>\n",
       "      <th>96</th>\n",
       "      <td>2023-03-02 00:00:00-05:00</td>\n",
       "      <td>AMT</td>\n",
       "      <td>American Tower Corporation</td>\n",
       "      <td>191.892492</td>\n",
       "    </tr>\n",
       "    <tr>\n",
       "      <th>97</th>\n",
       "      <td>2023-03-02 00:00:00-05:00</td>\n",
       "      <td>EQIX</td>\n",
       "      <td>Equinix, Inc.</td>\n",
       "      <td>662.511806</td>\n",
       "    </tr>\n",
       "    <tr>\n",
       "      <th>98</th>\n",
       "      <td>2023-03-02 00:00:00-05:00</td>\n",
       "      <td>CCI</td>\n",
       "      <td>Crown Castle Inc.</td>\n",
       "      <td>126.703048</td>\n",
       "    </tr>\n",
       "    <tr>\n",
       "      <th>99</th>\n",
       "      <td>2023-03-02 00:00:00-05:00</td>\n",
       "      <td>PSA</td>\n",
       "      <td>Public Storage</td>\n",
       "      <td>291.142358</td>\n",
       "    </tr>\n",
       "  </tbody>\n",
       "</table>\n",
       "<p>100 rows × 4 columns</p>\n",
       "</div>"
      ],
      "text/plain": [
       "                        Date Symbol                        Name        Open\n",
       "0  2020-01-06 00:00:00-05:00    PLD              Prologis, Inc.   82.693138\n",
       "1  2020-01-06 00:00:00-05:00    AMT  American Tower Corporation  212.684344\n",
       "2  2020-01-06 00:00:00-05:00   EQIX               Equinix, Inc.  554.515490\n",
       "3  2020-01-06 00:00:00-05:00    CCI           Crown Castle Inc.  127.391263\n",
       "4  2020-01-06 00:00:00-05:00    PSA              Public Storage  184.872623\n",
       "..                       ...    ...                         ...         ...\n",
       "95 2023-03-02 00:00:00-05:00    PLD              Prologis, Inc.  119.408042\n",
       "96 2023-03-02 00:00:00-05:00    AMT  American Tower Corporation  191.892492\n",
       "97 2023-03-02 00:00:00-05:00   EQIX               Equinix, Inc.  662.511806\n",
       "98 2023-03-02 00:00:00-05:00    CCI           Crown Castle Inc.  126.703048\n",
       "99 2023-03-02 00:00:00-05:00    PSA              Public Storage  291.142358\n",
       "\n",
       "[100 rows x 4 columns]"
      ]
     },
     "execution_count": 48,
     "metadata": {},
     "output_type": "execute_result"
    }
   ],
   "source": [
    "Estate_Sector_df = pd.concat([df21, df22, df23, df24, df25, df26, df27, df28, df29, df30, df31, df32, df33, df34, df35, df36, df37, df38, df39, df40], axis=0)\n",
    "\n",
    "Estate_Sector_df = Estate_Sector_df.reset_index()\n",
    "\n",
    "Estate_Sector_df = Estate_Sector_df.rename(columns={'index': 'Date'})\n",
    "\n",
    "\n",
    "Estate_Sector_df.to_csv('Estate_Sector.csv', index=False)\n",
    "Estate_Sector_df\n"
   ]
  },
  {
   "cell_type": "code",
   "execution_count": 49,
   "id": "17888c1c",
   "metadata": {},
   "outputs": [
    {
     "data": {
      "image/png": "[encoded data removed]",
      "text/plain": [
       "<Figure size 640x480 with 1 Axes>"
      ]
     },
     "metadata": {},
     "output_type": "display_data"
    }
   ],
   "source": [
    "import pandas as pd\n",
    "import seaborn as sns\n",
    "import matplotlib.pyplot as plt\n",
    "\n",
    "sns.set(style='darkgrid')\n",
    "\n",
    "# Plot data by stock\n",
    "sns.lineplot(data=Estate_Sector_df, x='Date', y='Open', hue='Symbol')\n",
    "\n",
    "plt.xticks(rotation=45)\n",
    "\n",
    "plt.show()"
   ]
  },
  {
   "cell_type": "code",
   "execution_count": null,
   "id": "238f0534",
   "metadata": {},
   "outputs": [],
   "source": []
  },
  {
   "cell_type": "code",
   "execution_count": null,
   "id": "eedd916a",
   "metadata": {},
   "outputs": [],
   "source": [
    "#Information Technology Sector\n",
    "aapl\n",
    "\tmfst\n",
    "\tnvda\n",
    "\ttsm\n",
    "\tavgo"
   ]
  },
  {
   "cell_type": "code",
   "execution_count": 50,
   "id": "e127b1e5",
   "metadata": {},
   "outputs": [
    {
     "name": "stdout",
     "output_type": "stream",
     "text": [
      "                          Symbol  \\\n",
      "2020-01-06 00:00:00-05:00   AAPL   \n",
      "2020-01-06 00:00:00-05:00   MSFT   \n",
      "2020-01-06 00:00:00-05:00   NVDA   \n",
      "2020-01-06 00:00:00-05:00    TSM   \n",
      "2020-01-06 00:00:00-05:00   AVGO   \n",
      "\n",
      "                                                                        Name  \\\n",
      "2020-01-06 00:00:00-05:00                                         Apple Inc.   \n",
      "2020-01-06 00:00:00-05:00                              Microsoft Corporation   \n",
      "2020-01-06 00:00:00-05:00                                 NVIDIA Corporation   \n",
      "2020-01-06 00:00:00-05:00  Taiwan Semiconductor Manufacturing Company Lim...   \n",
      "2020-01-06 00:00:00-05:00                                      Broadcom Inc.   \n",
      "\n",
      "                                 Open  \n",
      "2020-01-06 00:00:00-05:00   71.845172  \n",
      "2020-01-06 00:00:00-05:00  152.328893  \n",
      "2020-01-06 00:00:00-05:00   57.869768  \n",
      "2020-01-06 00:00:00-05:00   53.780271  \n",
      "2020-01-06 00:00:00-05:00  277.704250  \n"
     ]
    }
   ],
   "source": [
    "#Information Technology Sector\n",
    "#request etflist ticker data from yfinance dated 1-3,2020\n",
    "tickers = ['AAPL', 'MSFT', 'NVDA', 'TSM', 'AVGO']\n",
    "\n",
    "data = {}\n",
    "\n",
    "for ticker in tickers:\n",
    "    try:\n",
    "        stock = yf.Ticker(ticker)\n",
    "        hist1 = stock.history(period='4y')\n",
    "        data[ticker] = pd.DataFrame({'Symbol': [ticker],\n",
    "                                      'Name': [stock.info['longName']],\n",
    "                                      'Open': [hist1.iloc[-827]['Open']]},\n",
    "                                      index=[hist1.index[-827]])\n",
    "    except IndexError:\n",
    "        data[ticker] = pd.DataFrame({'Symbol': [ticker],\n",
    "                                      'Name': [None],\n",
    "                                      'Open': [None]},\n",
    "                                      index=[None])\n",
    "\n",
    "df41 = pd.concat(data.values())\n",
    "print(df41)"
   ]
  },
  {
   "cell_type": "code",
   "execution_count": null,
   "id": "aedf0e97",
   "metadata": {},
   "outputs": [],
   "source": []
  },
  {
   "cell_type": "code",
   "execution_count": 51,
   "id": "ca3822ff",
   "metadata": {},
   "outputs": [
    {
     "name": "stdout",
     "output_type": "stream",
     "text": [
      "                          Symbol  \\\n",
      "2020-03-03 00:00:00-05:00   AAPL   \n",
      "2020-03-03 00:00:00-05:00   MSFT   \n",
      "2020-03-03 00:00:00-05:00   NVDA   \n",
      "2020-03-03 00:00:00-05:00    TSM   \n",
      "2020-03-03 00:00:00-05:00   AVGO   \n",
      "\n",
      "                                                                        Name  \\\n",
      "2020-03-03 00:00:00-05:00                                         Apple Inc.   \n",
      "2020-03-03 00:00:00-05:00                              Microsoft Corporation   \n",
      "2020-03-03 00:00:00-05:00                                 NVIDIA Corporation   \n",
      "2020-03-03 00:00:00-05:00  Taiwan Semiconductor Manufacturing Company Lim...   \n",
      "2020-03-03 00:00:00-05:00                                      Broadcom Inc.   \n",
      "\n",
      "                                 Open  \n",
      "2020-03-03 00:00:00-05:00   74.437533  \n",
      "2020-03-03 00:00:00-05:00  169.003520  \n",
      "2020-03-03 00:00:00-05:00   69.456846  \n",
      "2020-03-03 00:00:00-05:00   52.566478  \n",
      "2020-03-03 00:00:00-05:00  254.297914  \n"
     ]
    }
   ],
   "source": [
    "#Information Technology Sector\n",
    "#request etflist ticker data from yfinance dated 3-2,2020\n",
    "tickers = ['AAPL', 'MSFT', 'NVDA', 'TSM', 'AVGO']\n",
    "\n",
    "data = {}\n",
    "\n",
    "for ticker in tickers:\n",
    "    try:\n",
    "        stock = yf.Ticker(ticker)\n",
    "        hist2 = stock.history(period='4y')\n",
    "        data[ticker] = pd.DataFrame({'Symbol': [ticker],\n",
    "                                      'Name': [stock.info['longName']],\n",
    "                                      'Open': [hist2.iloc[-788]['Open']]},\n",
    "                                      index=[hist2.index[-788]])\n",
    "    except IndexError:\n",
    "        data[ticker] = pd.DataFrame({'Symbol': [ticker],\n",
    "                                      'Name': [None],\n",
    "                                      'Open': [None]},\n",
    "                                      index=[None])\n",
    "\n",
    "df42 = pd.concat(data.values())\n",
    "print(df42)"
   ]
  },
  {
   "cell_type": "code",
   "execution_count": 52,
   "id": "d032d104",
   "metadata": {},
   "outputs": [
    {
     "name": "stdout",
     "output_type": "stream",
     "text": [
      "                          Symbol  \\\n",
      "2020-05-04 00:00:00-04:00   AAPL   \n",
      "2020-05-04 00:00:00-04:00   MSFT   \n",
      "2020-05-04 00:00:00-04:00   NVDA   \n",
      "2020-05-04 00:00:00-04:00    TSM   \n",
      "2020-05-04 00:00:00-04:00   AVGO   \n",
      "\n",
      "                                                                        Name  \\\n",
      "2020-05-04 00:00:00-04:00                                         Apple Inc.   \n",
      "2020-05-04 00:00:00-04:00                              Microsoft Corporation   \n",
      "2020-05-04 00:00:00-04:00                                 NVIDIA Corporation   \n",
      "2020-05-04 00:00:00-04:00  Taiwan Semiconductor Manufacturing Company Lim...   \n",
      "2020-05-04 00:00:00-04:00                                      Broadcom Inc.   \n",
      "\n",
      "                                 Open  \n",
      "2020-05-04 00:00:00-04:00   70.883207  \n",
      "2020-05-04 00:00:00-04:00  169.674493  \n",
      "2020-05-04 00:00:00-04:00   70.007671  \n",
      "2020-05-04 00:00:00-04:00   48.814325  \n",
      "2020-05-04 00:00:00-04:00  235.506751  \n"
     ]
    }
   ],
   "source": [
    "#Information Technology Sector\n",
    "#request etflist ticker data from yfinance dated 5-1,2020\n",
    "tickers = ['AAPL', 'MSFT', 'NVDA', 'TSM', 'AVGO']\n",
    "\n",
    "data = {}\n",
    "\n",
    "for ticker in tickers:\n",
    "    try:\n",
    "        stock = yf.Ticker(ticker)\n",
    "        hist3 = stock.history(period='4y')\n",
    "        data[ticker] = pd.DataFrame({'Symbol': [ticker],\n",
    "                                      'Name': [stock.info['longName']],\n",
    "                                      'Open': [hist3.iloc[-745]['Open']]},\n",
    "                                      index=[hist3.index[-745]])\n",
    "    except IndexError:\n",
    "        data[ticker] = pd.DataFrame({'Symbol': [ticker],\n",
    "                                      'Name': [None],\n",
    "                                      'Open': [None]},\n",
    "                                      index=[None])\n",
    "\n",
    "df43 = pd.concat(data.values())\n",
    "print(df43)"
   ]
  },
  {
   "cell_type": "code",
   "execution_count": 53,
   "id": "1b39e0e0",
   "metadata": {},
   "outputs": [
    {
     "name": "stdout",
     "output_type": "stream",
     "text": [
      "                          Symbol  \\\n",
      "2020-07-02 00:00:00-04:00   AAPL   \n",
      "2020-07-02 00:00:00-04:00   MSFT   \n",
      "2020-07-02 00:00:00-04:00   NVDA   \n",
      "2020-07-02 00:00:00-04:00    TSM   \n",
      "2020-07-02 00:00:00-04:00   AVGO   \n",
      "\n",
      "                                                                        Name  \\\n",
      "2020-07-02 00:00:00-04:00                                         Apple Inc.   \n",
      "2020-07-02 00:00:00-04:00                              Microsoft Corporation   \n",
      "2020-07-02 00:00:00-04:00                                 NVIDIA Corporation   \n",
      "2020-07-02 00:00:00-04:00  Taiwan Semiconductor Manufacturing Company Lim...   \n",
      "2020-07-02 00:00:00-04:00                                      Broadcom Inc.   \n",
      "\n",
      "                                 Open  \n",
      "2020-07-02 00:00:00-04:00   90.413827  \n",
      "2020-07-02 00:00:00-04:00  200.560731  \n",
      "2020-07-02 00:00:00-04:00   96.142395  \n",
      "2020-07-02 00:00:00-04:00   55.028739  \n",
      "2020-07-02 00:00:00-04:00  291.667891  \n"
     ]
    }
   ],
   "source": [
    "#Information Technology Sector\n",
    "#request etflist ticker data from yfinance dated 7-1,2020\n",
    "tickers = ['AAPL', 'MSFT', 'NVDA', 'TSM', 'AVGO']\n",
    "\n",
    "data = {}\n",
    "\n",
    "for ticker in tickers:\n",
    "    try:\n",
    "        stock = yf.Ticker(ticker)\n",
    "        hist4 = stock.history(period='4y')\n",
    "        data[ticker] = pd.DataFrame({'Symbol': [ticker],\n",
    "                                      'Name': [stock.info['longName']],\n",
    "                                      'Open': [hist4.iloc[-703]['Open']]},\n",
    "                                      index=[hist4.index[-703]])\n",
    "    except IndexError:\n",
    "        data[ticker] = pd.DataFrame({'Symbol': [ticker],\n",
    "                                      'Name': [None],\n",
    "                                      'Open': [None]},\n",
    "                                      index=[None])\n",
    "\n",
    "df44 = pd.concat(data.values())\n",
    "print(df44)"
   ]
  },
  {
   "cell_type": "code",
   "execution_count": 54,
   "id": "7ac69a45",
   "metadata": {},
   "outputs": [
    {
     "name": "stdout",
     "output_type": "stream",
     "text": [
      "                          Symbol  \\\n",
      "2020-09-02 00:00:00-04:00   AAPL   \n",
      "2020-09-02 00:00:00-04:00   MSFT   \n",
      "2020-09-02 00:00:00-04:00   NVDA   \n",
      "2020-09-02 00:00:00-04:00    TSM   \n",
      "2020-09-02 00:00:00-04:00   AVGO   \n",
      "\n",
      "                                                                        Name  \\\n",
      "2020-09-02 00:00:00-04:00                                         Apple Inc.   \n",
      "2020-09-02 00:00:00-04:00                              Microsoft Corporation   \n",
      "2020-09-02 00:00:00-04:00                                 NVIDIA Corporation   \n",
      "2020-09-02 00:00:00-04:00  Taiwan Semiconductor Manufacturing Company Lim...   \n",
      "2020-09-02 00:00:00-04:00                                      Broadcom Inc.   \n",
      "\n",
      "                                 Open  \n",
      "2020-09-02 00:00:00-04:00  135.516823  \n",
      "2020-09-02 00:00:00-04:00  222.833285  \n",
      "2020-09-02 00:00:00-04:00  146.703697  \n",
      "2020-09-02 00:00:00-04:00   77.249123  \n",
      "2020-09-02 00:00:00-04:00  335.828857  \n"
     ]
    }
   ],
   "source": [
    "#Information Technology Sector\n",
    "#request etflist ticker data from yfinance dated 9-1,2020\n",
    "tickers = ['AAPL', 'MSFT', 'NVDA', 'TSM', 'AVGO']\n",
    "\n",
    "data = {}\n",
    "\n",
    "for ticker in tickers:\n",
    "    try:\n",
    "        stock = yf.Ticker(ticker)\n",
    "        hist5 = stock.history(period='4y')\n",
    "        data[ticker] = pd.DataFrame({'Symbol': [ticker],\n",
    "                                      'Name': [stock.info['longName']],\n",
    "                                      'Open': [hist5.iloc[-660]['Open']]},\n",
    "                                      index=[hist5.index[-660]])\n",
    "    except IndexError:\n",
    "        data[ticker] = pd.DataFrame({'Symbol': [ticker],\n",
    "                                      'Name': [None],\n",
    "                                      'Open': [None]},\n",
    "                                      index=[None])\n",
    "\n",
    "df45 = pd.concat(data.values())\n",
    "print(df45)"
   ]
  },
  {
   "cell_type": "code",
   "execution_count": 55,
   "id": "3ea07ea2",
   "metadata": {},
   "outputs": [
    {
     "name": "stdout",
     "output_type": "stream",
     "text": [
      "                          Symbol  \\\n",
      "2020-11-03 00:00:00-05:00   AAPL   \n",
      "2020-11-03 00:00:00-05:00   MSFT   \n",
      "2020-11-03 00:00:00-05:00   NVDA   \n",
      "2020-11-03 00:00:00-05:00    TSM   \n",
      "2020-11-03 00:00:00-05:00   AVGO   \n",
      "\n",
      "                                                                        Name  \\\n",
      "2020-11-03 00:00:00-05:00                                         Apple Inc.   \n",
      "2020-11-03 00:00:00-05:00                              Microsoft Corporation   \n",
      "2020-11-03 00:00:00-05:00                                 NVIDIA Corporation   \n",
      "2020-11-03 00:00:00-05:00  Taiwan Semiconductor Manufacturing Company Lim...   \n",
      "2020-11-03 00:00:00-05:00                                      Broadcom Inc.   \n",
      "\n",
      "                                 Open  \n",
      "2020-11-03 00:00:00-05:00  108.007686  \n",
      "2020-11-03 00:00:00-05:00  199.295879  \n",
      "2020-11-03 00:00:00-05:00  126.796482  \n",
      "2020-11-03 00:00:00-05:00   82.267724  \n",
      "2020-11-03 00:00:00-05:00  329.711122  \n"
     ]
    }
   ],
   "source": [
    "#Information Technology Sector\n",
    "#request etflist ticker data from yfinance dated 11-2,2020\n",
    "tickers = tickers = ['AAPL', 'MSFT', 'NVDA', 'TSM', 'AVGO']\n",
    "\n",
    "data = {}\n",
    "\n",
    "for ticker in tickers:\n",
    "    try:\n",
    "        stock = yf.Ticker(ticker)\n",
    "        hist6 = stock.history(period='4y')\n",
    "        data[ticker] = pd.DataFrame({'Symbol': [ticker],\n",
    "                                      'Name': [stock.info['longName']],\n",
    "                                      'Open': [hist6.iloc[-617]['Open']]},\n",
    "                                      index=[hist6.index[-617]])\n",
    "    except IndexError:\n",
    "        data[ticker] = pd.DataFrame({'Symbol': [ticker],\n",
    "                                      'Name': [None],\n",
    "                                      'Open': [None]},\n",
    "                                      index=[None])\n",
    "\n",
    "df46 = pd.concat(data.values())\n",
    "print(df46)"
   ]
  },
  {
   "cell_type": "code",
   "execution_count": 56,
   "id": "57412c99",
   "metadata": {},
   "outputs": [
    {
     "name": "stdout",
     "output_type": "stream",
     "text": [
      "                          Symbol  \\\n",
      "2021-01-05 00:00:00-05:00   AAPL   \n",
      "2021-01-05 00:00:00-05:00   MSFT   \n",
      "2021-01-05 00:00:00-05:00   NVDA   \n",
      "2021-01-05 00:00:00-05:00    TSM   \n",
      "2021-01-05 00:00:00-05:00   AVGO   \n",
      "\n",
      "                                                                        Name  \\\n",
      "2021-01-05 00:00:00-05:00                                         Apple Inc.   \n",
      "2021-01-05 00:00:00-05:00                              Microsoft Corporation   \n",
      "2021-01-05 00:00:00-05:00                                 NVIDIA Corporation   \n",
      "2021-01-05 00:00:00-05:00  Taiwan Semiconductor Manufacturing Company Lim...   \n",
      "2021-01-05 00:00:00-05:00                                      Broadcom Inc.   \n",
      "\n",
      "                                 Open  \n",
      "2021-01-05 00:00:00-05:00  127.166952  \n",
      "2021-01-05 00:00:00-05:00  212.920589  \n",
      "2021-01-05 00:00:00-05:00  130.738722  \n",
      "2021-01-05 00:00:00-05:00  107.747217  \n",
      "2021-01-05 00:00:00-05:00  397.072098  \n"
     ]
    }
   ],
   "source": [
    "#Information Technology Sector\n",
    "#request etflist ticker data from yfinance dated 1-4,2021\n",
    "tickers = ['AAPL', 'MSFT', 'NVDA', 'TSM', 'AVGO']\n",
    "\n",
    "data = {}\n",
    "\n",
    "for ticker in tickers:\n",
    "    try:\n",
    "        stock = yf.Ticker(ticker)\n",
    "        hist7 = stock.history(period='4y')\n",
    "        data[ticker] = pd.DataFrame({'Symbol': [ticker],\n",
    "                                      'Name': [stock.info['longName']],\n",
    "                                      'Open': [hist7.iloc[-575]['Open']]},\n",
    "                                      index=[hist7.index[-575]])\n",
    "    except IndexError:\n",
    "        data[ticker] = pd.DataFrame({'Symbol': [ticker],\n",
    "                                      'Name': [None],\n",
    "                                      'Open': [None]},\n",
    "                                      index=[None])\n",
    "\n",
    "df47 = pd.concat(data.values())\n",
    "print(df47)"
   ]
  },
  {
   "cell_type": "code",
   "execution_count": 57,
   "id": "e6b419ff",
   "metadata": {},
   "outputs": [
    {
     "name": "stdout",
     "output_type": "stream",
     "text": [
      "                          Symbol  \\\n",
      "2021-03-02 00:00:00-05:00   AAPL   \n",
      "2021-03-02 00:00:00-05:00   MSFT   \n",
      "2021-03-02 00:00:00-05:00   NVDA   \n",
      "2021-03-02 00:00:00-05:00    TSM   \n",
      "2021-03-02 00:00:00-05:00   AVGO   \n",
      "\n",
      "                                                                        Name  \\\n",
      "2021-03-02 00:00:00-05:00                                         Apple Inc.   \n",
      "2021-03-02 00:00:00-05:00                              Microsoft Corporation   \n",
      "2021-03-02 00:00:00-05:00                                 NVIDIA Corporation   \n",
      "2021-03-02 00:00:00-05:00  Taiwan Semiconductor Manufacturing Company Lim...   \n",
      "2021-03-02 00:00:00-05:00                                      Broadcom Inc.   \n",
      "\n",
      "                                 Open  \n",
      "2021-03-02 00:00:00-05:00  126.882690  \n",
      "2021-03-02 00:00:00-05:00  232.811086  \n",
      "2021-03-02 00:00:00-05:00  138.725383  \n",
      "2021-03-02 00:00:00-05:00  123.102710  \n",
      "2021-03-02 00:00:00-05:00  458.092598  \n"
     ]
    }
   ],
   "source": [
    "#Information Technology Sector\n",
    "#request etflist ticker data from yfinance dated 3-2021\n",
    "tickers = ['AAPL', 'MSFT', 'NVDA', 'TSM', 'AVGO']\n",
    "\n",
    "data = {}\n",
    "\n",
    "for ticker in tickers:\n",
    "    try:\n",
    "        stock = yf.Ticker(ticker)\n",
    "        hist8 = stock.history(period='4y')\n",
    "        data[ticker] = pd.DataFrame({'Symbol': [ticker],\n",
    "                                      'Name': [stock.info['longName']],\n",
    "                                      'Open': [hist8.iloc[-537]['Open']]},\n",
    "                                      index=[hist8.index[-537]])\n",
    "    except IndexError:\n",
    "        data[ticker] = pd.DataFrame({'Symbol': [ticker],\n",
    "                                      'Name': [None],\n",
    "                                      'Open': [None]},\n",
    "                                      index=[None])\n",
    "\n",
    "df48 = pd.concat(data.values())\n",
    "print(df48)"
   ]
  },
  {
   "cell_type": "code",
   "execution_count": 58,
   "id": "5220747c",
   "metadata": {},
   "outputs": [
    {
     "name": "stdout",
     "output_type": "stream",
     "text": [
      "                          Symbol  \\\n",
      "2021-05-04 00:00:00-04:00   AAPL   \n",
      "2021-05-04 00:00:00-04:00   MSFT   \n",
      "2021-05-04 00:00:00-04:00   NVDA   \n",
      "2021-05-04 00:00:00-04:00    TSM   \n",
      "2021-05-04 00:00:00-04:00   AVGO   \n",
      "\n",
      "                                                                        Name  \\\n",
      "2021-05-04 00:00:00-04:00                                         Apple Inc.   \n",
      "2021-05-04 00:00:00-04:00                              Microsoft Corporation   \n",
      "2021-05-04 00:00:00-04:00                                 NVIDIA Corporation   \n",
      "2021-05-04 00:00:00-04:00  Taiwan Semiconductor Manufacturing Company Lim...   \n",
      "2021-05-04 00:00:00-04:00                                      Broadcom Inc.   \n",
      "\n",
      "                                 Open  \n",
      "2021-05-04 00:00:00-04:00  129.629624  \n",
      "2021-05-04 00:00:00-04:00  246.523771  \n",
      "2021-05-04 00:00:00-04:00  146.133747  \n",
      "2021-05-04 00:00:00-04:00  110.645110  \n",
      "2021-05-04 00:00:00-04:00  421.048488  \n"
     ]
    }
   ],
   "source": [
    "#Information Technology Sector\n",
    "#request etflist ticker data from yfinance dated 5-3-2021\n",
    "tickers = ['AAPL', 'MSFT', 'NVDA', 'TSM', 'AVGO']\n",
    "\n",
    "data = {}\n",
    "\n",
    "for ticker in tickers:\n",
    "    try:\n",
    "        stock = yf.Ticker(ticker)\n",
    "        hist9 = stock.history(period='4y')\n",
    "        data[ticker] = pd.DataFrame({'Symbol': [ticker],\n",
    "                                      'Name': [stock.info['longName']],\n",
    "                                      'Open': [hist9.iloc[-493]['Open']]},\n",
    "                                      index=[hist9.index[-493]])\n",
    "    except IndexError:\n",
    "        data[ticker] = pd.DataFrame({'Symbol': [ticker],\n",
    "                                      'Name': [None],\n",
    "                                      'Open': [None]},\n",
    "                                      index=[None])\n",
    "\n",
    "df49 = pd.concat(data.values())\n",
    "print(df49)"
   ]
  },
  {
   "cell_type": "code",
   "execution_count": 59,
   "id": "8e537965",
   "metadata": {},
   "outputs": [
    {
     "name": "stdout",
     "output_type": "stream",
     "text": [
      "                          Symbol  \\\n",
      "2021-07-02 00:00:00-04:00   AAPL   \n",
      "2021-07-02 00:00:00-04:00   MSFT   \n",
      "2021-07-02 00:00:00-04:00   NVDA   \n",
      "2021-07-02 00:00:00-04:00    TSM   \n",
      "2021-07-02 00:00:00-04:00   AVGO   \n",
      "\n",
      "                                                                        Name  \\\n",
      "2021-07-02 00:00:00-04:00                                         Apple Inc.   \n",
      "2021-07-02 00:00:00-04:00                              Microsoft Corporation   \n",
      "2021-07-02 00:00:00-04:00                                 NVIDIA Corporation   \n",
      "2021-07-02 00:00:00-04:00  Taiwan Semiconductor Manufacturing Company Lim...   \n",
      "2021-07-02 00:00:00-04:00                                      Broadcom Inc.   \n",
      "\n",
      "                                 Open  \n",
      "2021-07-02 00:00:00-04:00  136.491244  \n",
      "2021-07-02 00:00:00-04:00  268.605467  \n",
      "2021-07-02 00:00:00-04:00  204.115875  \n",
      "2021-07-02 00:00:00-04:00  114.691382  \n",
      "2021-07-02 00:00:00-04:00  452.382890  \n"
     ]
    }
   ],
   "source": [
    "#Information Technology Sector\n",
    "#request etflist ticker data from yfinance dated 7-1-2021\n",
    "tickers = ['AAPL', 'MSFT', 'NVDA', 'TSM', 'AVGO']\n",
    "\n",
    "data = {}\n",
    "\n",
    "for ticker in tickers:\n",
    "    try:\n",
    "        stock = yf.Ticker(ticker)\n",
    "        hist10 = stock.history(period='4y')\n",
    "        data[ticker] = pd.DataFrame({'Symbol': [ticker],\n",
    "                                      'Name': [stock.info['longName']],\n",
    "                                      'Open': [hist10.iloc[-451]['Open']]},\n",
    "                                      index=[hist10.index[-451]])\n",
    "    except IndexError:\n",
    "        data[ticker] = pd.DataFrame({'Symbol': [ticker],\n",
    "                                      'Name': [None],\n",
    "                                      'Open': [None]},\n",
    "                                      index=[None])\n",
    "\n",
    "df50 = pd.concat(data.values())\n",
    "print(df50)"
   ]
  },
  {
   "cell_type": "code",
   "execution_count": 60,
   "id": "35721896",
   "metadata": {},
   "outputs": [
    {
     "name": "stdout",
     "output_type": "stream",
     "text": [
      "                          Symbol  \\\n",
      "2021-09-02 00:00:00-04:00   AAPL   \n",
      "2021-09-02 00:00:00-04:00   MSFT   \n",
      "2021-09-02 00:00:00-04:00   NVDA   \n",
      "2021-09-02 00:00:00-04:00    TSM   \n",
      "2021-09-02 00:00:00-04:00   AVGO   \n",
      "\n",
      "                                                                        Name  \\\n",
      "2021-09-02 00:00:00-04:00                                         Apple Inc.   \n",
      "2021-09-02 00:00:00-04:00                              Microsoft Corporation   \n",
      "2021-09-02 00:00:00-04:00                                 NVIDIA Corporation   \n",
      "2021-09-02 00:00:00-04:00  Taiwan Semiconductor Manufacturing Company Lim...   \n",
      "2021-09-02 00:00:00-04:00                                      Broadcom Inc.   \n",
      "\n",
      "                                 Open  \n",
      "2021-09-02 00:00:00-04:00  152.526292  \n",
      "2021-09-02 00:00:00-04:00  298.101237  \n",
      "2021-09-02 00:00:00-04:00  224.903884  \n",
      "2021-09-02 00:00:00-04:00  116.806534  \n",
      "2021-09-02 00:00:00-04:00  470.429990  \n"
     ]
    }
   ],
   "source": [
    "#Information Technology Sector\n",
    "#request etflist ticker data from yfinance dated 9-1-2021\n",
    "tickers = ['AAPL', 'MSFT', 'NVDA', 'TSM', 'AVGO']\n",
    "\n",
    "data = {}\n",
    "\n",
    "for ticker in tickers:\n",
    "    try:\n",
    "        stock = yf.Ticker(ticker)\n",
    "        hist11 = stock.history(period='4y')\n",
    "        data[ticker] = pd.DataFrame({'Symbol': [ticker],\n",
    "                                      'Name': [stock.info['longName']],\n",
    "                                      'Open': [hist11.iloc[-408]['Open']]},\n",
    "                                      index=[hist11.index[-408]])\n",
    "    except IndexError:\n",
    "        data[ticker] = pd.DataFrame({'Symbol': [ticker],\n",
    "                                      'Name': [None],\n",
    "                                      'Open': [None]},\n",
    "                                      index=[None])\n",
    "\n",
    "df51 = pd.concat(data.values())\n",
    "print(df51)"
   ]
  },
  {
   "cell_type": "code",
   "execution_count": 61,
   "id": "fbc517dc",
   "metadata": {},
   "outputs": [
    {
     "name": "stdout",
     "output_type": "stream",
     "text": [
      "                          Symbol  \\\n",
      "2021-11-02 00:00:00-04:00   AAPL   \n",
      "2021-11-02 00:00:00-04:00   MSFT   \n",
      "2021-11-02 00:00:00-04:00   NVDA   \n",
      "2021-11-02 00:00:00-04:00    TSM   \n",
      "2021-11-02 00:00:00-04:00   AVGO   \n",
      "\n",
      "                                                                        Name  \\\n",
      "2021-11-02 00:00:00-04:00                                         Apple Inc.   \n",
      "2021-11-02 00:00:00-04:00                              Microsoft Corporation   \n",
      "2021-11-02 00:00:00-04:00                                 NVIDIA Corporation   \n",
      "2021-11-02 00:00:00-04:00  Taiwan Semiconductor Manufacturing Company Lim...   \n",
      "2021-11-02 00:00:00-04:00                                      Broadcom Inc.   \n",
      "\n",
      "                                 Open  \n",
      "2021-11-02 00:00:00-04:00  147.361806  \n",
      "2021-11-02 00:00:00-04:00  325.829935  \n",
      "2021-11-02 00:00:00-04:00  257.903370  \n",
      "2021-11-02 00:00:00-04:00  110.158341  \n",
      "2021-11-02 00:00:00-04:00  504.138310  \n"
     ]
    }
   ],
   "source": [
    "#Information Technology Sector\n",
    "#request etflist ticker data from yfinance dated 11-1-1021\n",
    "tickers = ['AAPL', 'MSFT', 'NVDA', 'TSM', 'AVGO']\n",
    "\n",
    "data = {}\n",
    "\n",
    "for ticker in tickers:\n",
    "    try:\n",
    "        stock = yf.Ticker(ticker)\n",
    "        hist12 = stock.history(period='4y')\n",
    "        data[ticker] = pd.DataFrame({'Symbol': [ticker],\n",
    "                                      'Name': [stock.info['longName']],\n",
    "                                      'Open': [hist12.iloc[-366]['Open']]},\n",
    "                                      index=[hist12.index[-366]])\n",
    "    except IndexError:\n",
    "        data[ticker] = pd.DataFrame({'Symbol': [ticker],\n",
    "                                      'Name': [None],\n",
    "                                      'Open': [None]},\n",
    "                                      index=[None])\n",
    "\n",
    "df52 = pd.concat(data.values())\n",
    "print(df52)"
   ]
  },
  {
   "cell_type": "code",
   "execution_count": 62,
   "id": "2a27e751",
   "metadata": {},
   "outputs": [
    {
     "name": "stdout",
     "output_type": "stream",
     "text": [
      "                          Symbol  \\\n",
      "2022-01-04 00:00:00-05:00   AAPL   \n",
      "2022-01-04 00:00:00-05:00   MSFT   \n",
      "2022-01-04 00:00:00-05:00   NVDA   \n",
      "2022-01-04 00:00:00-05:00    TSM   \n",
      "2022-01-04 00:00:00-05:00   AVGO   \n",
      "\n",
      "                                                                        Name  \\\n",
      "2022-01-04 00:00:00-05:00                                         Apple Inc.   \n",
      "2022-01-04 00:00:00-05:00                              Microsoft Corporation   \n",
      "2022-01-04 00:00:00-05:00                                 NVIDIA Corporation   \n",
      "2022-01-04 00:00:00-05:00  Taiwan Semiconductor Manufacturing Company Lim...   \n",
      "2022-01-04 00:00:00-05:00                                      Broadcom Inc.   \n",
      "\n",
      "                                 Open  \n",
      "2022-01-04 00:00:00-05:00  181.299361  \n",
      "2022-01-04 00:00:00-05:00  330.892931  \n",
      "2022-01-04 00:00:00-05:00  302.435791  \n",
      "2022-01-04 00:00:00-05:00  127.441299  \n",
      "2022-01-04 00:00:00-05:00  637.635834  \n"
     ]
    }
   ],
   "source": [
    "#Information Technology Sector\n",
    "#request etflist ticker data from yfinance dated 1-3-2022\n",
    "tickers = ['AAPL', 'MSFT', 'NVDA', 'TSM', 'AVGO']\n",
    "\n",
    "data = {}\n",
    "\n",
    "for ticker in tickers:\n",
    "    try:\n",
    "        stock = yf.Ticker(ticker)\n",
    "        hist13 = stock.history(period='4y')\n",
    "        data[ticker] = pd.DataFrame({'Symbol': [ticker],\n",
    "                                      'Name': [stock.info['longName']],\n",
    "                                      'Open': [hist13.iloc[-323]['Open']]},\n",
    "                                      index=[hist13.index[-323]])\n",
    "    except IndexError:\n",
    "        data[ticker] = pd.DataFrame({'Symbol': [ticker],\n",
    "                                      'Name': [None],\n",
    "                                      'Open': [None]},\n",
    "                                      index=[None])\n",
    "\n",
    "df53 = pd.concat(data.values())\n",
    "print(df53)"
   ]
  },
  {
   "cell_type": "code",
   "execution_count": 63,
   "id": "7bc169fe",
   "metadata": {},
   "outputs": [
    {
     "name": "stdout",
     "output_type": "stream",
     "text": [
      "                          Symbol  \\\n",
      "2022-03-02 00:00:00-05:00   AAPL   \n",
      "2022-03-02 00:00:00-05:00   MSFT   \n",
      "2022-03-02 00:00:00-05:00   NVDA   \n",
      "2022-03-02 00:00:00-05:00    TSM   \n",
      "2022-03-02 00:00:00-05:00   AVGO   \n",
      "\n",
      "                                                                        Name  \\\n",
      "2022-03-02 00:00:00-05:00                                         Apple Inc.   \n",
      "2022-03-02 00:00:00-05:00                              Microsoft Corporation   \n",
      "2022-03-02 00:00:00-05:00                                 NVIDIA Corporation   \n",
      "2022-03-02 00:00:00-05:00  Taiwan Semiconductor Manufacturing Company Lim...   \n",
      "2022-03-02 00:00:00-05:00                                      Broadcom Inc.   \n",
      "\n",
      "                                 Open  \n",
      "2022-03-02 00:00:00-05:00  163.400166  \n",
      "2022-03-02 00:00:00-05:00  292.490558  \n",
      "2022-03-02 00:00:00-05:00  237.338195  \n",
      "2022-03-02 00:00:00-05:00  105.559999  \n",
      "2022-03-02 00:00:00-05:00  552.640786  \n"
     ]
    }
   ],
   "source": [
    "#Information Technology Sector\n",
    "#request etflist ticker data from yfinance dated 3-1-2022\n",
    "tickers = ['AAPL', 'MSFT', 'NVDA', 'TSM', 'AVGO']\n",
    "\n",
    "data = {}\n",
    "\n",
    "for ticker in tickers:\n",
    "    try:\n",
    "        stock = yf.Ticker(ticker)\n",
    "        hist14 = stock.history(period='4y')\n",
    "        data[ticker] = pd.DataFrame({'Symbol': [ticker],\n",
    "                                      'Name': [stock.info['longName']],\n",
    "                                      'Open': [hist14.iloc[-284]['Open']]},\n",
    "                                      index=[hist14.index[-284]])\n",
    "    except IndexError:\n",
    "        data[ticker] = pd.DataFrame({'Symbol': [ticker],\n",
    "                                      'Name': [None],\n",
    "                                      'Open': [None]},\n",
    "                                      index=[None])\n",
    "\n",
    "df54 = pd.concat(data.values())\n",
    "print(df54)"
   ]
  },
  {
   "cell_type": "code",
   "execution_count": 64,
   "id": "7de59e9e",
   "metadata": {},
   "outputs": [
    {
     "name": "stdout",
     "output_type": "stream",
     "text": [
      "                          Symbol  \\\n",
      "2022-05-03 00:00:00-04:00   AAPL   \n",
      "2022-05-03 00:00:00-04:00   MSFT   \n",
      "2022-05-03 00:00:00-04:00   NVDA   \n",
      "2022-05-03 00:00:00-04:00    TSM   \n",
      "2022-05-03 00:00:00-04:00   AVGO   \n",
      "\n",
      "                                                                        Name  \\\n",
      "2022-05-03 00:00:00-04:00                                         Apple Inc.   \n",
      "2022-05-03 00:00:00-04:00                              Microsoft Corporation   \n",
      "2022-05-03 00:00:00-04:00                                 NVIDIA Corporation   \n",
      "2022-05-03 00:00:00-04:00  Taiwan Semiconductor Manufacturing Company Lim...   \n",
      "2022-05-03 00:00:00-04:00                                      Broadcom Inc.   \n",
      "\n",
      "                                 Open  \n",
      "2022-05-03 00:00:00-04:00  157.197751  \n",
      "2022-05-03 00:00:00-04:00  281.201294  \n",
      "2022-05-03 00:00:00-04:00  193.818872  \n",
      "2022-05-03 00:00:00-04:00   90.784963  \n",
      "2022-05-03 00:00:00-04:00  557.820778  \n"
     ]
    }
   ],
   "source": [
    "#Information Technology Sector\n",
    "#request etflist ticker data from yfinance dated 5-2-2022\n",
    "tickers = ['AAPL', 'MSFT', 'NVDA', 'TSM', 'AVGO']\n",
    "\n",
    "data = {}\n",
    "\n",
    "for ticker in tickers:\n",
    "    try:\n",
    "        stock = yf.Ticker(ticker)\n",
    "        hist15 = stock.history(period='4y')\n",
    "        data[ticker] = pd.DataFrame({'Symbol': [ticker],\n",
    "                                      'Name': [stock.info['longName']],\n",
    "                                      'Open': [hist15.iloc[-241]['Open']]},\n",
    "                                      index=[hist15.index[-241]])\n",
    "    except IndexError:\n",
    "        data[ticker] = pd.DataFrame({'Symbol': [ticker],\n",
    "                                      'Name': [None],\n",
    "                                      'Open': [None]},\n",
    "                                      index=[None])\n",
    "\n",
    "df55 = pd.concat(data.values())\n",
    "print(df55)"
   ]
  },
  {
   "cell_type": "code",
   "execution_count": 65,
   "id": "99764895",
   "metadata": {},
   "outputs": [
    {
     "name": "stdout",
     "output_type": "stream",
     "text": [
      "                          Symbol  \\\n",
      "2022-07-05 00:00:00-04:00   AAPL   \n",
      "2022-07-05 00:00:00-04:00   MSFT   \n",
      "2022-07-05 00:00:00-04:00   NVDA   \n",
      "2022-07-05 00:00:00-04:00    TSM   \n",
      "2022-07-05 00:00:00-04:00   AVGO   \n",
      "\n",
      "                                                                        Name  \\\n",
      "2022-07-05 00:00:00-04:00                                         Apple Inc.   \n",
      "2022-07-05 00:00:00-04:00                              Microsoft Corporation   \n",
      "2022-07-05 00:00:00-04:00                                 NVIDIA Corporation   \n",
      "2022-07-05 00:00:00-04:00  Taiwan Semiconductor Manufacturing Company Lim...   \n",
      "2022-07-05 00:00:00-04:00                                      Broadcom Inc.   \n",
      "\n",
      "                                 Open  \n",
      "2022-07-05 00:00:00-04:00  137.141660  \n",
      "2022-07-05 00:00:00-04:00  254.262210  \n",
      "2022-07-05 00:00:00-04:00  141.647592  \n",
      "2022-07-05 00:00:00-04:00   73.331199  \n",
      "2022-07-05 00:00:00-04:00  460.884709  \n"
     ]
    }
   ],
   "source": [
    "#Information Technology Sector\n",
    "#request etflist ticker data from yfinance dated 7-1-2022\n",
    "tickers = ['AAPL', 'MSFT', 'NVDA', 'TSM', 'AVGO']\n",
    "\n",
    "data = {}\n",
    "\n",
    "for ticker in tickers:\n",
    "    try:\n",
    "        stock = yf.Ticker(ticker)\n",
    "        hist16 = stock.history(period='4y')\n",
    "        data[ticker] = pd.DataFrame({'Symbol': [ticker],\n",
    "                                      'Name': [stock.info['longName']],\n",
    "                                      'Open': [hist16.iloc[-199]['Open']]},\n",
    "                                      index=[hist16.index[-199]])\n",
    "    except IndexError:\n",
    "        data[ticker] = pd.DataFrame({'Symbol': [ticker],\n",
    "                                      'Name': [None],\n",
    "                                      'Open': [None]},\n",
    "                                      index=[None])\n",
    "\n",
    "df56 = pd.concat(data.values())\n",
    "print(df56)"
   ]
  },
  {
   "cell_type": "code",
   "execution_count": 66,
   "id": "de009ea9",
   "metadata": {},
   "outputs": [
    {
     "name": "stdout",
     "output_type": "stream",
     "text": [
      "                          Symbol  \\\n",
      "2022-09-02 00:00:00-04:00   AAPL   \n",
      "2022-09-02 00:00:00-04:00   MSFT   \n",
      "2022-09-02 00:00:00-04:00   NVDA   \n",
      "2022-09-02 00:00:00-04:00    TSM   \n",
      "2022-09-02 00:00:00-04:00   AVGO   \n",
      "\n",
      "                                                                        Name  \\\n",
      "2022-09-02 00:00:00-04:00                                         Apple Inc.   \n",
      "2022-09-02 00:00:00-04:00                              Microsoft Corporation   \n",
      "2022-09-02 00:00:00-04:00                                 NVIDIA Corporation   \n",
      "2022-09-02 00:00:00-04:00  Taiwan Semiconductor Manufacturing Company Lim...   \n",
      "2022-09-02 00:00:00-04:00                                      Broadcom Inc.   \n",
      "\n",
      "                                 Open  \n",
      "2022-09-02 00:00:00-04:00  159.242300  \n",
      "2022-09-02 00:00:00-04:00  260.312567  \n",
      "2022-09-02 00:00:00-04:00  140.898125  \n",
      "2022-09-02 00:00:00-04:00   80.216752  \n",
      "2022-09-02 00:00:00-04:00  505.801447  \n"
     ]
    }
   ],
   "source": [
    "#Information Technology Sector\n",
    "#request etflist ticker data from yfinance dated 9-1-2022\n",
    "tickers = ['AAPL', 'MSFT', 'NVDA', 'TSM', 'AVGO']\n",
    "\n",
    "data = {}\n",
    "\n",
    "for ticker in tickers:\n",
    "    try:\n",
    "        stock = yf.Ticker(ticker)\n",
    "        hist17 = stock.history(period='4y')\n",
    "        data[ticker] = pd.DataFrame({'Symbol': [ticker],\n",
    "                                      'Name': [stock.info['longName']],\n",
    "                                      'Open': [hist17.iloc[-156]['Open']]},\n",
    "                                      index=[hist17.index[-156]])\n",
    "    except IndexError:\n",
    "        data[ticker] = pd.DataFrame({'Symbol': [ticker],\n",
    "                                      'Name': [None],\n",
    "                                      'Open': [None]},\n",
    "                                      index=[None])\n",
    "\n",
    "df57= pd.concat(data.values())\n",
    "print(df57)"
   ]
  },
  {
   "cell_type": "code",
   "execution_count": 67,
   "id": "7851156f",
   "metadata": {},
   "outputs": [
    {
     "name": "stdout",
     "output_type": "stream",
     "text": [
      "                          Symbol  \\\n",
      "2022-11-02 00:00:00-04:00   AAPL   \n",
      "2022-11-02 00:00:00-04:00   MSFT   \n",
      "2022-11-02 00:00:00-04:00   NVDA   \n",
      "2022-11-02 00:00:00-04:00    TSM   \n",
      "2022-11-02 00:00:00-04:00   AVGO   \n",
      "\n",
      "                                                                        Name  \\\n",
      "2022-11-02 00:00:00-04:00                                         Apple Inc.   \n",
      "2022-11-02 00:00:00-04:00                              Microsoft Corporation   \n",
      "2022-11-02 00:00:00-04:00                                 NVIDIA Corporation   \n",
      "2022-11-02 00:00:00-04:00  Taiwan Semiconductor Manufacturing Company Lim...   \n",
      "2022-11-02 00:00:00-04:00                                      Broadcom Inc.   \n",
      "\n",
      "                                 Open  \n",
      "2022-11-02 00:00:00-04:00  148.476616  \n",
      "2022-11-02 00:00:00-04:00  228.243482  \n",
      "2022-11-02 00:00:00-04:00  138.441055  \n",
      "2022-11-02 00:00:00-04:00   61.825896  \n",
      "2022-11-02 00:00:00-04:00  463.055724  \n"
     ]
    }
   ],
   "source": [
    "#Information Technology Sector\n",
    "#request etflist ticker data from yfinance dated 11-1-2022\n",
    "tickers = ['AAPL', 'MSFT', 'NVDA', 'TSM', 'AVGO']\n",
    "\n",
    "data = {}\n",
    "\n",
    "for ticker in tickers:\n",
    "    try:\n",
    "        stock = yf.Ticker(ticker)\n",
    "        hist18 = stock.history(period='4y')\n",
    "        data[ticker] = pd.DataFrame({'Symbol': [ticker],\n",
    "                                      'Name': [stock.info['longName']],\n",
    "                                      'Open': [hist18.iloc[-114]['Open']]},\n",
    "                                      index=[hist18.index[-114]])\n",
    "    except IndexError:\n",
    "        data[ticker] = pd.DataFrame({'Symbol': [ticker],\n",
    "                                      'Name': [None],\n",
    "                                      'Open': [None]},\n",
    "                                      index=[None])\n",
    "\n",
    "df58 = pd.concat(data.values())\n",
    "print(df58)"
   ]
  },
  {
   "cell_type": "code",
   "execution_count": 68,
   "id": "b2f6a7c9",
   "metadata": {},
   "outputs": [
    {
     "name": "stdout",
     "output_type": "stream",
     "text": [
      "                          Symbol  \\\n",
      "2023-01-04 00:00:00-05:00   AAPL   \n",
      "2023-01-04 00:00:00-05:00   MSFT   \n",
      "2023-01-04 00:00:00-05:00   NVDA   \n",
      "2023-01-04 00:00:00-05:00    TSM   \n",
      "2023-01-04 00:00:00-05:00   AVGO   \n",
      "\n",
      "                                                                        Name  \\\n",
      "2023-01-04 00:00:00-05:00                                         Apple Inc.   \n",
      "2023-01-04 00:00:00-05:00                              Microsoft Corporation   \n",
      "2023-01-04 00:00:00-05:00                                 NVIDIA Corporation   \n",
      "2023-01-04 00:00:00-05:00  Taiwan Semiconductor Manufacturing Company Lim...   \n",
      "2023-01-04 00:00:00-05:00                                      Broadcom Inc.   \n",
      "\n",
      "                                 Open  \n",
      "2023-01-04 00:00:00-05:00  126.696557  \n",
      "2023-01-04 00:00:00-05:00  231.699666  \n",
      "2023-01-04 00:00:00-05:00  145.645267  \n",
      "2023-01-04 00:00:00-05:00   74.601645  \n",
      "2023-01-04 00:00:00-05:00  558.966860  \n"
     ]
    }
   ],
   "source": [
    "#Information Technology Sector\n",
    "#request etflist ticker data from yfinance dated 1-3-2023\n",
    "tickers = ['AAPL', 'MSFT', 'NVDA', 'TSM', 'AVGO']\n",
    "\n",
    "data = {}\n",
    "\n",
    "for ticker in tickers:\n",
    "    try:\n",
    "        stock = yf.Ticker(ticker)\n",
    "        hist19 = stock.history(period='4y')\n",
    "        data[ticker] = pd.DataFrame({'Symbol': [ticker],\n",
    "                                      'Name': [stock.info['longName']],\n",
    "                                      'Open': [hist19.iloc[-72]['Open']]},\n",
    "                                      index=[hist19.index[-72]])\n",
    "    except IndexError:\n",
    "        data[ticker] = pd.DataFrame({'Symbol': [ticker],\n",
    "                                      'Name': [None],\n",
    "                                      'Open': [None]},\n",
    "                                      index=[None])\n",
    "\n",
    "df59 = pd.concat(data.values())\n",
    "print(df59)"
   ]
  },
  {
   "cell_type": "code",
   "execution_count": 69,
   "id": "e160003c",
   "metadata": {},
   "outputs": [
    {
     "name": "stdout",
     "output_type": "stream",
     "text": [
      "                          Symbol  \\\n",
      "2023-03-02 00:00:00-05:00   AAPL   \n",
      "2023-03-02 00:00:00-05:00   MSFT   \n",
      "2023-03-02 00:00:00-05:00   NVDA   \n",
      "2023-03-02 00:00:00-05:00    TSM   \n",
      "2023-03-02 00:00:00-05:00   AVGO   \n",
      "\n",
      "                                                                        Name  \\\n",
      "2023-03-02 00:00:00-05:00                                         Apple Inc.   \n",
      "2023-03-02 00:00:00-05:00                              Microsoft Corporation   \n",
      "2023-03-02 00:00:00-05:00                                 NVIDIA Corporation   \n",
      "2023-03-02 00:00:00-05:00  Taiwan Semiconductor Manufacturing Company Lim...   \n",
      "2023-03-02 00:00:00-05:00                                      Broadcom Inc.   \n",
      "\n",
      "                                 Open  \n",
      "2023-03-02 00:00:00-05:00  144.380005  \n",
      "2023-03-02 00:00:00-05:00  246.550003  \n",
      "2023-03-02 00:00:00-05:00  224.841811  \n",
      "2023-03-02 00:00:00-05:00   87.186131  \n",
      "2023-03-02 00:00:00-05:00  585.178173  \n"
     ]
    }
   ],
   "source": [
    "#Information Technology Sector\n",
    "#request etflist ticker data from yfinance dated 3-1-2023\n",
    "tickers = ['AAPL', 'MSFT', 'NVDA', 'TSM', 'AVGO']\n",
    "\n",
    "data = {}\n",
    "\n",
    "for ticker in tickers:\n",
    "    try:\n",
    "        stock = yf.Ticker(ticker)\n",
    "        hist20 = stock.history(period='4y')\n",
    "        data[ticker] = pd.DataFrame({'Symbol': [ticker],\n",
    "                                      'Name': [stock.info['longName']],\n",
    "                                      'Open': [hist20.iloc[-33]['Open']]},\n",
    "                                      index=[hist20.index[-33]])\n",
    "    except IndexError:\n",
    "        data[ticker] = pd.DataFrame({'Symbol': [ticker],\n",
    "                                      'Name': [None],\n",
    "                                      'Open': [None]},\n",
    "                                      index=[None])\n",
    "\n",
    "df60 = pd.concat(data.values())\n",
    "print(df60)"
   ]
  },
  {
   "cell_type": "code",
   "execution_count": 70,
   "id": "92a04d8d",
   "metadata": {},
   "outputs": [
    {
     "data": {
      "text/html": [
       "<div>\n",
       "<style scoped>\n",
       "    .dataframe tbody tr th:only-of-type {\n",
       "        vertical-align: middle;\n",
       "    }\n",
       "\n",
       "    .dataframe tbody tr th {\n",
       "        vertical-align: top;\n",
       "    }\n",
       "\n",
       "    .dataframe thead th {\n",
       "        text-align: right;\n",
       "    }\n",
       "</style>\n",
       "<table border=\"1\" class=\"dataframe\">\n",
       "  <thead>\n",
       "    <tr style=\"text-align: right;\">\n",
       "      <th></th>\n",
       "      <th>Date</th>\n",
       "      <th>Symbol</th>\n",
       "      <th>Name</th>\n",
       "      <th>Open</th>\n",
       "    </tr>\n",
       "  </thead>\n",
       "  <tbody>\n",
       "    <tr>\n",
       "      <th>0</th>\n",
       "      <td>2020-01-06 00:00:00-05:00</td>\n",
       "      <td>AAPL</td>\n",
       "      <td>Apple Inc.</td>\n",
       "      <td>71.845172</td>\n",
       "    </tr>\n",
       "    <tr>\n",
       "      <th>1</th>\n",
       "      <td>2020-01-06 00:00:00-05:00</td>\n",
       "      <td>MSFT</td>\n",
       "      <td>Microsoft Corporation</td>\n",
       "      <td>152.328893</td>\n",
       "    </tr>\n",
       "    <tr>\n",
       "      <th>2</th>\n",
       "      <td>2020-01-06 00:00:00-05:00</td>\n",
       "      <td>NVDA</td>\n",
       "      <td>NVIDIA Corporation</td>\n",
       "      <td>57.869768</td>\n",
       "    </tr>\n",
       "    <tr>\n",
       "      <th>3</th>\n",
       "      <td>2020-01-06 00:00:00-05:00</td>\n",
       "      <td>TSM</td>\n",
       "      <td>Taiwan Semiconductor Manufacturing Company Lim...</td>\n",
       "      <td>53.780271</td>\n",
       "    </tr>\n",
       "    <tr>\n",
       "      <th>4</th>\n",
       "      <td>2020-01-06 00:00:00-05:00</td>\n",
       "      <td>AVGO</td>\n",
       "      <td>Broadcom Inc.</td>\n",
       "      <td>277.704250</td>\n",
       "    </tr>\n",
       "    <tr>\n",
       "      <th>...</th>\n",
       "      <td>...</td>\n",
       "      <td>...</td>\n",
       "      <td>...</td>\n",
       "      <td>...</td>\n",
       "    </tr>\n",
       "    <tr>\n",
       "      <th>95</th>\n",
       "      <td>2023-03-02 00:00:00-05:00</td>\n",
       "      <td>AAPL</td>\n",
       "      <td>Apple Inc.</td>\n",
       "      <td>144.380005</td>\n",
       "    </tr>\n",
       "    <tr>\n",
       "      <th>96</th>\n",
       "      <td>2023-03-02 00:00:00-05:00</td>\n",
       "      <td>MSFT</td>\n",
       "      <td>Microsoft Corporation</td>\n",
       "      <td>246.550003</td>\n",
       "    </tr>\n",
       "    <tr>\n",
       "      <th>97</th>\n",
       "      <td>2023-03-02 00:00:00-05:00</td>\n",
       "      <td>NVDA</td>\n",
       "      <td>NVIDIA Corporation</td>\n",
       "      <td>224.841811</td>\n",
       "    </tr>\n",
       "    <tr>\n",
       "      <th>98</th>\n",
       "      <td>2023-03-02 00:00:00-05:00</td>\n",
       "      <td>TSM</td>\n",
       "      <td>Taiwan Semiconductor Manufacturing Company Lim...</td>\n",
       "      <td>87.186131</td>\n",
       "    </tr>\n",
       "    <tr>\n",
       "      <th>99</th>\n",
       "      <td>2023-03-02 00:00:00-05:00</td>\n",
       "      <td>AVGO</td>\n",
       "      <td>Broadcom Inc.</td>\n",
       "      <td>585.178173</td>\n",
       "    </tr>\n",
       "  </tbody>\n",
       "</table>\n",
       "<p>100 rows × 4 columns</p>\n",
       "</div>"
      ],
      "text/plain": [
       "                        Date Symbol  \\\n",
       "0  2020-01-06 00:00:00-05:00   AAPL   \n",
       "1  2020-01-06 00:00:00-05:00   MSFT   \n",
       "2  2020-01-06 00:00:00-05:00   NVDA   \n",
       "3  2020-01-06 00:00:00-05:00    TSM   \n",
       "4  2020-01-06 00:00:00-05:00   AVGO   \n",
       "..                       ...    ...   \n",
       "95 2023-03-02 00:00:00-05:00   AAPL   \n",
       "96 2023-03-02 00:00:00-05:00   MSFT   \n",
       "97 2023-03-02 00:00:00-05:00   NVDA   \n",
       "98 2023-03-02 00:00:00-05:00    TSM   \n",
       "99 2023-03-02 00:00:00-05:00   AVGO   \n",
       "\n",
       "                                                 Name        Open  \n",
       "0                                          Apple Inc.   71.845172  \n",
       "1                               Microsoft Corporation  152.328893  \n",
       "2                                  NVIDIA Corporation   57.869768  \n",
       "3   Taiwan Semiconductor Manufacturing Company Lim...   53.780271  \n",
       "4                                       Broadcom Inc.  277.704250  \n",
       "..                                                ...         ...  \n",
       "95                                         Apple Inc.  144.380005  \n",
       "96                              Microsoft Corporation  246.550003  \n",
       "97                                 NVIDIA Corporation  224.841811  \n",
       "98  Taiwan Semiconductor Manufacturing Company Lim...   87.186131  \n",
       "99                                      Broadcom Inc.  585.178173  \n",
       "\n",
       "[100 rows x 4 columns]"
      ]
     },
     "execution_count": 70,
     "metadata": {},
     "output_type": "execute_result"
    }
   ],
   "source": [
    "Technology_Sector_df = pd.concat([df41, df42, df43, df44, df45, df46, df47, df48, df49, df50, df51, df52, df53, df54, df55, df56, df57, df58, df59, df60], axis=0)\n",
    "\n",
    "Technology_Sector_df = Technology_Sector_df.reset_index()\n",
    "\n",
    "Technology_Sector_df = Technology_Sector_df.rename(columns={'index': 'Date'})\n",
    "\n",
    "\n",
    "Technology_Sector_df.to_csv('Technology_Sector.csv', index=False)\n",
    "Technology_Sector_df"
   ]
  },
  {
   "cell_type": "code",
   "execution_count": 71,
   "id": "89c88f06",
   "metadata": {},
   "outputs": [
    {
     "data": {
      "image/png": "[encoded data removed]",
      "text/plain": [
       "<Figure size 640x480 with 1 Axes>"
      ]
     },
     "metadata": {},
     "output_type": "display_data"
    }
   ],
   "source": [
    "import pandas as pd\n",
    "import seaborn as sns\n",
    "import matplotlib.pyplot as plt\n",
    "\n",
    "sns.set(style='darkgrid')\n",
    "\n",
    "# Plot data by stock\n",
    "sns.lineplot(data=Technology_Sector_df, x='Date', y='Open', hue='Symbol')\n",
    "\n",
    "plt.xticks(rotation=45)\n",
    "\n",
    "plt.show()"
   ]
  },
  {
   "cell_type": "code",
   "execution_count": null,
   "id": "e2f7a080",
   "metadata": {},
   "outputs": [],
   "source": []
  },
  {
   "cell_type": "code",
   "execution_count": null,
   "id": "8f795fee",
   "metadata": {},
   "outputs": [],
   "source": []
  },
  {
   "cell_type": "code",
   "execution_count": 95,
   "id": "51906442",
   "metadata": {},
   "outputs": [
    {
     "ename": "IndentationError",
     "evalue": "unexpected indent (154872875.py, line 3)",
     "output_type": "error",
     "traceback": [
      "\u001b[0;36m  File \u001b[0;32m\"/var/folders/3r/fgm41fys63zcjnbbncdplfsm0000gn/T/ipykernel_46716/154872875.py\"\u001b[0;36m, line \u001b[0;32m3\u001b[0m\n\u001b[0;31m    brk-a\u001b[0m\n\u001b[0m    ^\u001b[0m\n\u001b[0;31mIndentationError\u001b[0m\u001b[0;31m:\u001b[0m unexpected indent\n"
     ]
    }
   ],
   "source": [
    "#Financial Sector\n",
    "brk-b\n",
    "\tbrk-a\n",
    "\tv\n",
    "\tjpm\n",
    "\tma\n"
   ]
  },
  {
   "cell_type": "code",
   "execution_count": 72,
   "id": "66192bf3",
   "metadata": {},
   "outputs": [
    {
     "name": "stdout",
     "output_type": "stream",
     "text": [
      "                           Symbol                     Name        Open\n",
      "2020-01-06 00:00:00-05:00   BRK-B  Berkshire Hathaway Inc.  224.990005\n",
      "2020-01-06 00:00:00-05:00  JPM-PC     JPMorgan Chase & Co.   23.907414\n",
      "2020-01-06 00:00:00-05:00       V                Visa Inc.  183.954577\n",
      "2020-01-06 00:00:00-05:00     JPM     JPMorgan Chase & Co.  123.524350\n",
      "2020-01-06 00:00:00-05:00      MA  Mastercard Incorporated  291.675573\n"
     ]
    }
   ],
   "source": [
    "#Financial Sector\n",
    "#request etflist ticker data from yfinance dated 1-3,2020\n",
    "tickers = ['BRK-B', 'JPM-PC', 'V', 'JPM', 'MA']\n",
    "\n",
    "data = {}\n",
    "\n",
    "for ticker in tickers:\n",
    "    try:\n",
    "        stock = yf.Ticker(ticker)\n",
    "        hist1 = stock.history(period='4y')\n",
    "        data[ticker] = pd.DataFrame({'Symbol': [ticker],\n",
    "                                      'Name': [stock.info['longName']],\n",
    "                                      'Open': [hist1.iloc[-827]['Open']]},\n",
    "                                      index=[hist1.index[-827]])\n",
    "    except IndexError:\n",
    "        data[ticker] = pd.DataFrame({'Symbol': [ticker],\n",
    "                                      'Name': [None],\n",
    "                                      'Open': [None]},\n",
    "                                      index=[None])\n",
    "\n",
    "df61 = pd.concat(data.values())\n",
    "print(df61)"
   ]
  },
  {
   "cell_type": "code",
   "execution_count": 73,
   "id": "2737d498",
   "metadata": {},
   "outputs": [
    {
     "name": "stdout",
     "output_type": "stream",
     "text": [
      "                           Symbol                     Name        Open\n",
      "2020-03-03 00:00:00-05:00   BRK-B  Berkshire Hathaway Inc.  217.389999\n",
      "2020-03-03 00:00:00-05:00  JPM-PC     JPMorgan Chase & Co.   23.200076\n",
      "2020-03-03 00:00:00-05:00       V                Visa Inc.  189.316474\n",
      "2020-03-03 00:00:00-05:00     JPM     JPMorgan Chase & Co.  109.422521\n",
      "2020-03-03 00:00:00-05:00      MA  Mastercard Incorporated  308.987926\n"
     ]
    }
   ],
   "source": [
    "#Financial Sector\n",
    "#request etflist ticker data from yfinance dated 3-2,2020\n",
    "tickers = ['BRK-B', 'JPM-PC', 'V', 'JPM', 'MA']\n",
    "\n",
    "data = {}\n",
    "\n",
    "for ticker in tickers:\n",
    "    try:\n",
    "        stock = yf.Ticker(ticker)\n",
    "        hist2 = stock.history(period='4y')\n",
    "        data[ticker] = pd.DataFrame({'Symbol': [ticker],\n",
    "                                      'Name': [stock.info['longName']],\n",
    "                                      'Open': [hist2.iloc[-788]['Open']]},\n",
    "                                      index=[hist2.index[-788]])\n",
    "    except IndexError:\n",
    "        data[ticker] = pd.DataFrame({'Symbol': [ticker],\n",
    "                                      'Name': [None],\n",
    "                                      'Open': [None]},\n",
    "                                      index=[None])\n",
    "\n",
    "df62 = pd.concat(data.values())\n",
    "print(df62)"
   ]
  },
  {
   "cell_type": "code",
   "execution_count": 74,
   "id": "8228424e",
   "metadata": {},
   "outputs": [
    {
     "name": "stdout",
     "output_type": "stream",
     "text": [
      "                           Symbol                     Name        Open\n",
      "2020-05-04 00:00:00-04:00   BRK-B  Berkshire Hathaway Inc.  179.779999\n",
      "2020-05-04 00:00:00-04:00  JPM-PC     JPMorgan Chase & Co.   22.896705\n",
      "2020-05-04 00:00:00-04:00       V                Visa Inc.  169.473503\n",
      "2020-05-04 00:00:00-04:00     JPM     JPMorgan Chase & Co.   84.100942\n",
      "2020-05-04 00:00:00-04:00      MA  Mastercard Incorporated  261.175291\n"
     ]
    }
   ],
   "source": [
    "#Financial Sector\n",
    "#request etflist ticker data from yfinance dated 5-1,2020\n",
    "tickers = ['BRK-B', 'JPM-PC', 'V', 'JPM', 'MA']\n",
    "\n",
    "data = {}\n",
    "\n",
    "for ticker in tickers:\n",
    "    try:\n",
    "        stock = yf.Ticker(ticker)\n",
    "        hist3 = stock.history(period='4y')\n",
    "        data[ticker] = pd.DataFrame({'Symbol': [ticker],\n",
    "                                      'Name': [stock.info['longName']],\n",
    "                                      'Open': [hist3.iloc[-745]['Open']]},\n",
    "                                      index=[hist3.index[-745]])\n",
    "    except IndexError:\n",
    "        data[ticker] = pd.DataFrame({'Symbol': [ticker],\n",
    "                                      'Name': [None],\n",
    "                                      'Open': [None]},\n",
    "                                      index=[None])\n",
    "\n",
    "df63 = pd.concat(data.values())\n",
    "print(df63)"
   ]
  },
  {
   "cell_type": "code",
   "execution_count": 75,
   "id": "5fdf9bc7",
   "metadata": {},
   "outputs": [
    {
     "name": "stdout",
     "output_type": "stream",
     "text": [
      "                           Symbol                     Name        Open\n",
      "2020-07-02 00:00:00-04:00   BRK-B  Berkshire Hathaway Inc.  180.449997\n",
      "2020-07-02 00:00:00-04:00  JPM-PC     JPMorgan Chase & Co.   23.710352\n",
      "2020-07-02 00:00:00-04:00       V                Visa Inc.  192.381771\n",
      "2020-07-02 00:00:00-04:00     JPM     JPMorgan Chase & Co.   87.430611\n",
      "2020-07-02 00:00:00-04:00      MA  Mastercard Incorporated  299.372850\n"
     ]
    }
   ],
   "source": [
    "#Financial Sector\n",
    "#request etflist ticker data from yfinance dated 7-1,2020\n",
    "tickers = ['BRK-B', 'JPM-PC', 'V', 'JPM', 'MA']\n",
    "\n",
    "data = {}\n",
    "\n",
    "for ticker in tickers:\n",
    "    try:\n",
    "        stock = yf.Ticker(ticker)\n",
    "        hist4 = stock.history(period='4y')\n",
    "        data[ticker] = pd.DataFrame({'Symbol': [ticker],\n",
    "                                      'Name': [stock.info['longName']],\n",
    "                                      'Open': [hist4.iloc[-703]['Open']]},\n",
    "                                      index=[hist4.index[-703]])\n",
    "    except IndexError:\n",
    "        data[ticker] = pd.DataFrame({'Symbol': [ticker],\n",
    "                                      'Name': [None],\n",
    "                                      'Open': [None]},\n",
    "                                      index=[None])\n",
    "\n",
    "df64 = pd.concat(data.values())\n",
    "print(df64)"
   ]
  },
  {
   "cell_type": "code",
   "execution_count": 76,
   "id": "7f8e9c33",
   "metadata": {},
   "outputs": [
    {
     "name": "stdout",
     "output_type": "stream",
     "text": [
      "                           Symbol                     Name        Open\n",
      "2020-09-02 00:00:00-04:00   BRK-B  Berkshire Hathaway Inc.  218.130005\n",
      "2020-09-02 00:00:00-04:00  JPM-PC     JPMorgan Chase & Co.   24.293320\n",
      "2020-09-02 00:00:00-04:00       V                Visa Inc.  210.494850\n",
      "2020-09-02 00:00:00-04:00     JPM     JPMorgan Chase & Co.   92.238649\n",
      "2020-09-02 00:00:00-04:00      MA  Mastercard Incorporated  352.038062\n"
     ]
    }
   ],
   "source": [
    "#Financial Sector\n",
    "#request etflist ticker data from yfinance dated 9-1,2020\n",
    "tickers = ['BRK-B', 'JPM-PC', 'V', 'JPM', 'MA']\n",
    "\n",
    "data = {}\n",
    "\n",
    "for ticker in tickers:\n",
    "    try:\n",
    "        stock = yf.Ticker(ticker)\n",
    "        hist5 = stock.history(period='4y')\n",
    "        data[ticker] = pd.DataFrame({'Symbol': [ticker],\n",
    "                                      'Name': [stock.info['longName']],\n",
    "                                      'Open': [hist5.iloc[-660]['Open']]},\n",
    "                                      index=[hist5.index[-660]])\n",
    "    except IndexError:\n",
    "        data[ticker] = pd.DataFrame({'Symbol': [ticker],\n",
    "                                      'Name': [None],\n",
    "                                      'Open': [None]},\n",
    "                                      index=[None])\n",
    "\n",
    "df65 = pd.concat(data.values())\n",
    "print(df65)"
   ]
  },
  {
   "cell_type": "code",
   "execution_count": 77,
   "id": "ca0d7c3a",
   "metadata": {},
   "outputs": [
    {
     "name": "stdout",
     "output_type": "stream",
     "text": [
      "                           Symbol                     Name        Open\n",
      "2020-11-03 00:00:00-05:00   BRK-B  Berkshire Hathaway Inc.  206.929993\n",
      "2020-11-03 00:00:00-05:00  JPM-PC     JPMorgan Chase & Co.   24.179564\n",
      "2020-11-03 00:00:00-05:00       V                Visa Inc.  183.658309\n",
      "2020-11-03 00:00:00-05:00     JPM     JPMorgan Chase & Co.   95.953981\n",
      "2020-11-03 00:00:00-05:00      MA  Mastercard Incorporated  290.378385\n"
     ]
    }
   ],
   "source": [
    "#Financial Sector\n",
    "#request etflist ticker data from yfinance dated 11-2,2020\n",
    "tickers = ['BRK-B', 'JPM-PC', 'V', 'JPM', 'MA']\n",
    "\n",
    "data = {}\n",
    "\n",
    "for ticker in tickers:\n",
    "    try:\n",
    "        stock = yf.Ticker(ticker)\n",
    "        hist6 = stock.history(period='4y')\n",
    "        data[ticker] = pd.DataFrame({'Symbol': [ticker],\n",
    "                                      'Name': [stock.info['longName']],\n",
    "                                      'Open': [hist6.iloc[-617]['Open']]},\n",
    "                                      index=[hist6.index[-617]])\n",
    "    except IndexError:\n",
    "        data[ticker] = pd.DataFrame({'Symbol': [ticker],\n",
    "                                      'Name': [None],\n",
    "                                      'Open': [None]},\n",
    "                                      index=[None])\n",
    "\n",
    "df66 = pd.concat(data.values())\n",
    "print(df66)"
   ]
  },
  {
   "cell_type": "code",
   "execution_count": 78,
   "id": "363fa10a",
   "metadata": {},
   "outputs": [
    {
     "name": "stdout",
     "output_type": "stream",
     "text": [
      "                           Symbol                     Name        Open\n",
      "2021-01-05 00:00:00-05:00   BRK-B  Berkshire Hathaway Inc.  228.210007\n",
      "2021-01-05 00:00:00-05:00  JPM-PC     JPMorgan Chase & Co.   24.937101\n",
      "2021-01-05 00:00:00-05:00       V                Visa Inc.  212.958223\n",
      "2021-01-05 00:00:00-05:00     JPM     JPMorgan Chase & Co.  117.255502\n",
      "2021-01-05 00:00:00-05:00      MA  Mastercard Incorporated  343.976767\n"
     ]
    }
   ],
   "source": [
    "#Financial Sector\n",
    "#request etflist ticker data from yfinance dated 1-4,2021\n",
    "tickers = ['BRK-B', 'JPM-PC', 'V', 'JPM', 'MA']\n",
    "\n",
    "data = {}\n",
    "\n",
    "for ticker in tickers:\n",
    "    try:\n",
    "        stock = yf.Ticker(ticker)\n",
    "        hist7 = stock.history(period='4y')\n",
    "        data[ticker] = pd.DataFrame({'Symbol': [ticker],\n",
    "                                      'Name': [stock.info['longName']],\n",
    "                                      'Open': [hist7.iloc[-575]['Open']]},\n",
    "                                      index=[hist7.index[-575]])\n",
    "    except IndexError:\n",
    "        data[ticker] = pd.DataFrame({'Symbol': [ticker],\n",
    "                                      'Name': [None],\n",
    "                                      'Open': [None]},\n",
    "                                      index=[None])\n",
    "\n",
    "df67 = pd.concat(data.values())\n",
    "print(df67)"
   ]
  },
  {
   "cell_type": "code",
   "execution_count": 79,
   "id": "656cf453",
   "metadata": {},
   "outputs": [
    {
     "name": "stdout",
     "output_type": "stream",
     "text": [
      "                           Symbol                     Name        Open\n",
      "2021-03-02 00:00:00-05:00   BRK-B  Berkshire Hathaway Inc.  249.119995\n",
      "2021-03-02 00:00:00-05:00  JPM-PC     JPMorgan Chase & Co.   24.350063\n",
      "2021-03-02 00:00:00-05:00       V                Visa Inc.  213.929760\n",
      "2021-03-02 00:00:00-05:00     JPM     JPMorgan Chase & Co.  140.792909\n",
      "2021-03-02 00:00:00-05:00      MA  Mastercard Incorporated  357.446807\n"
     ]
    }
   ],
   "source": [
    "#Financial Sector\n",
    "#request etflist ticker data from yfinance dated 3-2021\n",
    "tickers = ['BRK-B', 'JPM-PC', 'V', 'JPM', 'MA']\n",
    "\n",
    "data = {}\n",
    "\n",
    "for ticker in tickers:\n",
    "    try:\n",
    "        stock = yf.Ticker(ticker)\n",
    "        hist8 = stock.history(period='4y')\n",
    "        data[ticker] = pd.DataFrame({'Symbol': [ticker],\n",
    "                                      'Name': [stock.info['longName']],\n",
    "                                      'Open': [hist8.iloc[-537]['Open']]},\n",
    "                                      index=[hist8.index[-537]])\n",
    "    except IndexError:\n",
    "        data[ticker] = pd.DataFrame({'Symbol': [ticker],\n",
    "                                      'Name': [None],\n",
    "                                      'Open': [None]},\n",
    "                                      index=[None])\n",
    "\n",
    "df68 = pd.concat(data.values())\n",
    "print(df68)"
   ]
  },
  {
   "cell_type": "code",
   "execution_count": 80,
   "id": "5b8af495",
   "metadata": {},
   "outputs": [
    {
     "name": "stdout",
     "output_type": "stream",
     "text": [
      "                           Symbol                     Name        Open\n",
      "2021-05-04 00:00:00-04:00   BRK-B  Berkshire Hathaway Inc.  278.540009\n",
      "2021-05-04 00:00:00-04:00  JPM-PC     JPMorgan Chase & Co.   25.103800\n",
      "2021-05-04 00:00:00-04:00       V                Visa Inc.  228.365274\n",
      "2021-05-04 00:00:00-04:00     JPM     JPMorgan Chase & Co.  144.254922\n",
      "2021-05-04 00:00:00-04:00      MA  Mastercard Incorporated  372.769271\n"
     ]
    }
   ],
   "source": [
    "#Financial Sector\n",
    "#request etflist ticker data from yfinance dated 5-3-2021\n",
    "tickers = ['BRK-B', 'JPM-PC', 'V', 'JPM', 'MA']\n",
    "\n",
    "data = {}\n",
    "\n",
    "for ticker in tickers:\n",
    "    try:\n",
    "        stock = yf.Ticker(ticker)\n",
    "        hist9 = stock.history(period='4y')\n",
    "        data[ticker] = pd.DataFrame({'Symbol': [ticker],\n",
    "                                      'Name': [stock.info['longName']],\n",
    "                                      'Open': [hist9.iloc[-493]['Open']]},\n",
    "                                      index=[hist9.index[-493]])\n",
    "    except IndexError:\n",
    "        data[ticker] = pd.DataFrame({'Symbol': [ticker],\n",
    "                                      'Name': [None],\n",
    "                                      'Open': [None]},\n",
    "                                      index=[None])\n",
    "\n",
    "df69 = pd.concat(data.values())\n",
    "print(df69)"
   ]
  },
  {
   "cell_type": "code",
   "execution_count": 81,
   "id": "5da6e488",
   "metadata": {},
   "outputs": [
    {
     "name": "stdout",
     "output_type": "stream",
     "text": [
      "                           Symbol                     Name        Open\n",
      "2021-07-02 00:00:00-04:00   BRK-B  Berkshire Hathaway Inc.  281.410004\n",
      "2021-07-02 00:00:00-04:00  JPM-PC     JPMorgan Chase & Co.   26.072118\n",
      "2021-07-02 00:00:00-04:00       V                Visa Inc.  232.873964\n",
      "2021-07-02 00:00:00-04:00     JPM     JPMorgan Chase & Co.  148.009384\n",
      "2021-07-02 00:00:00-04:00      MA  Mastercard Incorporated  368.439226\n"
     ]
    }
   ],
   "source": [
    "#Financial Sector\n",
    "#request etflist ticker data from yfinance dated 7-1-2021\n",
    "tickers = ['BRK-B', 'JPM-PC', 'V', 'JPM', 'MA']\n",
    "\n",
    "data = {}\n",
    "\n",
    "for ticker in tickers:\n",
    "    try:\n",
    "        stock = yf.Ticker(ticker)\n",
    "        hist10 = stock.history(period='4y')\n",
    "        data[ticker] = pd.DataFrame({'Symbol': [ticker],\n",
    "                                      'Name': [stock.info['longName']],\n",
    "                                      'Open': [hist10.iloc[-451]['Open']]},\n",
    "                                      index=[hist10.index[-451]])\n",
    "    except IndexError:\n",
    "        data[ticker] = pd.DataFrame({'Symbol': [ticker],\n",
    "                                      'Name': [None],\n",
    "                                      'Open': [None]},\n",
    "                                      index=[None])\n",
    "\n",
    "df70 = pd.concat(data.values())\n",
    "print(df70)"
   ]
  },
  {
   "cell_type": "code",
   "execution_count": 82,
   "id": "b706792a",
   "metadata": {},
   "outputs": [
    {
     "name": "stdout",
     "output_type": "stream",
     "text": [
      "                           Symbol                     Name        Open\n",
      "2021-09-02 00:00:00-04:00   BRK-B  Berkshire Hathaway Inc.  285.350006\n",
      "2021-09-02 00:00:00-04:00  JPM-PC     JPMorgan Chase & Co.   25.488963\n",
      "2021-09-02 00:00:00-04:00       V                Visa Inc.  227.851809\n",
      "2021-09-02 00:00:00-04:00     JPM     JPMorgan Chase & Co.  151.872151\n",
      "2021-09-02 00:00:00-04:00      MA  Mastercard Incorporated  346.920429\n"
     ]
    }
   ],
   "source": [
    "#Financial Sector\n",
    "#request etflist ticker data from yfinance dated 9-1-2021\n",
    "tickers = ['BRK-B', 'JPM-PC', 'V', 'JPM', 'MA']\n",
    "\n",
    "data = {}\n",
    "\n",
    "for ticker in tickers:\n",
    "    try:\n",
    "        stock = yf.Ticker(ticker)\n",
    "        hist11 = stock.history(period='4y')\n",
    "        data[ticker] = pd.DataFrame({'Symbol': [ticker],\n",
    "                                      'Name': [stock.info['longName']],\n",
    "                                      'Open': [hist11.iloc[-408]['Open']]},\n",
    "                                      index=[hist11.index[-408]])\n",
    "    except IndexError:\n",
    "        data[ticker] = pd.DataFrame({'Symbol': [ticker],\n",
    "                                      'Name': [None],\n",
    "                                      'Open': [None]},\n",
    "                                      index=[None])\n",
    "\n",
    "df71 = pd.concat(data.values())\n",
    "print(df71)"
   ]
  },
  {
   "cell_type": "code",
   "execution_count": 83,
   "id": "32b3ca91",
   "metadata": {},
   "outputs": [
    {
     "name": "stdout",
     "output_type": "stream",
     "text": [
      "                           Symbol                     Name        Open\n",
      "2021-11-02 00:00:00-04:00   BRK-B  Berkshire Hathaway Inc.  286.609985\n",
      "2021-11-02 00:00:00-04:00  JPM-PC     JPMorgan Chase & Co.   25.778812\n",
      "2021-11-02 00:00:00-04:00       V                Visa Inc.  210.775060\n",
      "2021-11-02 00:00:00-04:00     JPM     JPMorgan Chase & Co.  162.125254\n",
      "2021-11-02 00:00:00-04:00      MA  Mastercard Incorporated  332.117032\n"
     ]
    }
   ],
   "source": [
    "#Financial Sector\n",
    "#request etflist ticker data from yfinance dated 11-1-1021\n",
    "tickers = ['BRK-B', 'JPM-PC', 'V', 'JPM', 'MA']\n",
    "\n",
    "data = {}\n",
    "\n",
    "for ticker in tickers:\n",
    "    try:\n",
    "        stock = yf.Ticker(ticker)\n",
    "        hist12 = stock.history(period='4y')\n",
    "        data[ticker] = pd.DataFrame({'Symbol': [ticker],\n",
    "                                      'Name': [stock.info['longName']],\n",
    "                                      'Open': [hist12.iloc[-366]['Open']]},\n",
    "                                      index=[hist12.index[-366]])\n",
    "    except IndexError:\n",
    "        data[ticker] = pd.DataFrame({'Symbol': [ticker],\n",
    "                                      'Name': [None],\n",
    "                                      'Open': [None]},\n",
    "                                      index=[None])\n",
    "\n",
    "df72 = pd.concat(data.values())\n",
    "print(df72)"
   ]
  },
  {
   "cell_type": "code",
   "execution_count": 84,
   "id": "5eed24c6",
   "metadata": {},
   "outputs": [
    {
     "name": "stdout",
     "output_type": "stream",
     "text": [
      "                           Symbol                     Name        Open\n",
      "2022-01-04 00:00:00-05:00   BRK-B  Berkshire Hathaway Inc.  301.649994\n",
      "2022-01-04 00:00:00-05:00  JPM-PC     JPMorgan Chase & Co.   25.248920\n",
      "2022-01-04 00:00:00-05:00       V                Visa Inc.  219.902585\n",
      "2022-01-04 00:00:00-05:00     JPM     JPMorgan Chase & Co.  156.883404\n",
      "2022-01-04 00:00:00-05:00      MA  Mastercard Incorporated  368.645589\n"
     ]
    }
   ],
   "source": [
    "#Financial Sector\n",
    "#request etflist ticker data from yfinance dated 1-3-2022\n",
    "tickers = ['BRK-B', 'JPM-PC', 'V', 'JPM', 'MA']\n",
    "\n",
    "data = {}\n",
    "\n",
    "for ticker in tickers:\n",
    "    try:\n",
    "        stock = yf.Ticker(ticker)\n",
    "        hist13 = stock.history(period='4y')\n",
    "        data[ticker] = pd.DataFrame({'Symbol': [ticker],\n",
    "                                      'Name': [stock.info['longName']],\n",
    "                                      'Open': [hist13.iloc[-323]['Open']]},\n",
    "                                      index=[hist13.index[-323]])\n",
    "    except IndexError:\n",
    "        data[ticker] = pd.DataFrame({'Symbol': [ticker],\n",
    "                                      'Name': [None],\n",
    "                                      'Open': [None]},\n",
    "                                      index=[None])\n",
    "\n",
    "df73 = pd.concat(data.values())\n",
    "print(df73)"
   ]
  },
  {
   "cell_type": "code",
   "execution_count": 85,
   "id": "ba40f33e",
   "metadata": {},
   "outputs": [
    {
     "name": "stdout",
     "output_type": "stream",
     "text": [
      "                           Symbol                     Name        Open\n",
      "2022-03-02 00:00:00-05:00   BRK-B  Berkshire Hathaway Inc.  319.480011\n",
      "2022-03-02 00:00:00-05:00  JPM-PC     JPMorgan Chase & Co.   25.080448\n",
      "2022-03-02 00:00:00-05:00       V                Visa Inc.  205.278693\n",
      "2022-03-02 00:00:00-05:00     JPM     JPMorgan Chase & Co.  131.870396\n",
      "2022-03-02 00:00:00-05:00      MA  Mastercard Incorporated  340.322594\n"
     ]
    }
   ],
   "source": [
    "#Financial Sector\n",
    "#request etflist ticker data from yfinance dated 3-1-2022\n",
    "tickers = ['BRK-B', 'JPM-PC', 'V', 'JPM', 'MA']\n",
    "\n",
    "data = {}\n",
    "\n",
    "for ticker in tickers:\n",
    "    try:\n",
    "        stock = yf.Ticker(ticker)\n",
    "        hist14 = stock.history(period='4y')\n",
    "        data[ticker] = pd.DataFrame({'Symbol': [ticker],\n",
    "                                      'Name': [stock.info['longName']],\n",
    "                                      'Open': [hist14.iloc[-284]['Open']]},\n",
    "                                      index=[hist14.index[-284]])\n",
    "    except IndexError:\n",
    "        data[ticker] = pd.DataFrame({'Symbol': [ticker],\n",
    "                                      'Name': [None],\n",
    "                                      'Open': [None]},\n",
    "                                      index=[None])\n",
    "\n",
    "df74 = pd.concat(data.values())\n",
    "print(df74)"
   ]
  },
  {
   "cell_type": "code",
   "execution_count": 86,
   "id": "727d8785",
   "metadata": {},
   "outputs": [
    {
     "name": "stdout",
     "output_type": "stream",
     "text": [
      "                           Symbol                     Name        Open\n",
      "2022-05-03 00:00:00-04:00   BRK-B  Berkshire Hathaway Inc.  319.420013\n",
      "2022-05-03 00:00:00-04:00  JPM-PC     JPMorgan Chase & Co.   23.633839\n",
      "2022-05-03 00:00:00-04:00       V                Visa Inc.  211.936120\n",
      "2022-05-03 00:00:00-04:00     JPM     JPMorgan Chase & Co.  117.597804\n",
      "2022-05-03 00:00:00-04:00      MA  Mastercard Incorporated  359.307341\n"
     ]
    }
   ],
   "source": [
    "#Financial Sector\n",
    "#request etflist ticker data from yfinance dated 5-2-2022\n",
    "tickers = ['BRK-B', 'JPM-PC', 'V', 'JPM', 'MA']\n",
    "\n",
    "data = {}\n",
    "\n",
    "for ticker in tickers:\n",
    "    try:\n",
    "        stock = yf.Ticker(ticker)\n",
    "        hist15 = stock.history(period='4y')\n",
    "        data[ticker] = pd.DataFrame({'Symbol': [ticker],\n",
    "                                      'Name': [stock.info['longName']],\n",
    "                                      'Open': [hist15.iloc[-241]['Open']]},\n",
    "                                      index=[hist15.index[-241]])\n",
    "    except IndexError:\n",
    "        data[ticker] = pd.DataFrame({'Symbol': [ticker],\n",
    "                                      'Name': [None],\n",
    "                                      'Open': [None]},\n",
    "                                      index=[None])\n",
    "\n",
    "df75 = pd.concat(data.values())\n",
    "print(df75)"
   ]
  },
  {
   "cell_type": "code",
   "execution_count": 87,
   "id": "73650688",
   "metadata": {},
   "outputs": [
    {
     "name": "stdout",
     "output_type": "stream",
     "text": [
      "                           Symbol                     Name        Open\n",
      "2022-07-05 00:00:00-04:00   BRK-B  Berkshire Hathaway Inc.  274.200012\n",
      "2022-07-05 00:00:00-04:00  JPM-PC     JPMorgan Chase & Co.   24.695926\n",
      "2022-07-05 00:00:00-04:00       V                Visa Inc.  195.064135\n",
      "2022-07-05 00:00:00-04:00     JPM     JPMorgan Chase & Co.  108.134073\n",
      "2022-07-05 00:00:00-04:00      MA  Mastercard Incorporated  311.103528\n"
     ]
    }
   ],
   "source": [
    "#Financial Sector\n",
    "#request etflist ticker data from yfinance dated 7-1-2022\n",
    "tickers = ['BRK-B', 'JPM-PC', 'V', 'JPM', 'MA']\n",
    "\n",
    "data = {}\n",
    "\n",
    "for ticker in tickers:\n",
    "    try:\n",
    "        stock = yf.Ticker(ticker)\n",
    "        hist16 = stock.history(period='4y')\n",
    "        data[ticker] = pd.DataFrame({'Symbol': [ticker],\n",
    "                                      'Name': [stock.info['longName']],\n",
    "                                      'Open': [hist16.iloc[-199]['Open']]},\n",
    "                                      index=[hist16.index[-199]])\n",
    "    except IndexError:\n",
    "        data[ticker] = pd.DataFrame({'Symbol': [ticker],\n",
    "                                      'Name': [None],\n",
    "                                      'Open': [None]},\n",
    "                                      index=[None])\n",
    "\n",
    "df76 = pd.concat(data.values())\n",
    "print(df76)"
   ]
  },
  {
   "cell_type": "code",
   "execution_count": 88,
   "id": "61ebecc6",
   "metadata": {},
   "outputs": [
    {
     "name": "stdout",
     "output_type": "stream",
     "text": [
      "                           Symbol                     Name        Open\n",
      "2022-09-02 00:00:00-04:00   BRK-B  Berkshire Hathaway Inc.  284.839996\n",
      "2022-09-02 00:00:00-04:00  JPM-PC     JPMorgan Chase & Co.   24.593580\n",
      "2022-09-02 00:00:00-04:00       V                Visa Inc.  201.593686\n",
      "2022-09-02 00:00:00-04:00     JPM     JPMorgan Chase & Co.  113.112723\n",
      "2022-09-02 00:00:00-04:00      MA  Mastercard Incorporated  327.832211\n"
     ]
    }
   ],
   "source": [
    "#Financial Sector\n",
    "#request etflist ticker data from yfinance dated 9-1-2022\n",
    "tickers = ['BRK-B', 'JPM-PC', 'V', 'JPM', 'MA']\n",
    "\n",
    "data = {}\n",
    "\n",
    "for ticker in tickers:\n",
    "    try:\n",
    "        stock = yf.Ticker(ticker)\n",
    "        hist17 = stock.history(period='4y')\n",
    "        data[ticker] = pd.DataFrame({'Symbol': [ticker],\n",
    "                                      'Name': [stock.info['longName']],\n",
    "                                      'Open': [hist17.iloc[-156]['Open']]},\n",
    "                                      index=[hist17.index[-156]])\n",
    "    except IndexError:\n",
    "        data[ticker] = pd.DataFrame({'Symbol': [ticker],\n",
    "                                      'Name': [None],\n",
    "                                      'Open': [None]},\n",
    "                                      index=[None])\n",
    "\n",
    "df77= pd.concat(data.values())\n",
    "print(df77)"
   ]
  },
  {
   "cell_type": "code",
   "execution_count": 89,
   "id": "f5c3f129",
   "metadata": {},
   "outputs": [
    {
     "name": "stdout",
     "output_type": "stream",
     "text": [
      "                           Symbol                     Name        Open\n",
      "2022-11-02 00:00:00-04:00   BRK-B  Berkshire Hathaway Inc.  293.040009\n",
      "2022-11-02 00:00:00-04:00  JPM-PC     JPMorgan Chase & Co.   24.004690\n",
      "2022-11-02 00:00:00-04:00       V                Visa Inc.  204.899798\n",
      "2022-11-02 00:00:00-04:00     JPM     JPMorgan Chase & Co.  125.727299\n",
      "2022-11-02 00:00:00-04:00      MA  Mastercard Incorporated  330.364705\n"
     ]
    }
   ],
   "source": [
    "#Financial Sector\n",
    "#request etflist ticker data from yfinance dated 11-1-2022\n",
    "tickers = ['BRK-B', 'JPM-PC', 'V', 'JPM', 'MA']\n",
    "\n",
    "data = {}\n",
    "\n",
    "for ticker in tickers:\n",
    "    try:\n",
    "        stock = yf.Ticker(ticker)\n",
    "        hist18 = stock.history(period='4y')\n",
    "        data[ticker] = pd.DataFrame({'Symbol': [ticker],\n",
    "                                      'Name': [stock.info['longName']],\n",
    "                                      'Open': [hist18.iloc[-114]['Open']]},\n",
    "                                      index=[hist18.index[-114]])\n",
    "    except IndexError:\n",
    "        data[ticker] = pd.DataFrame({'Symbol': [ticker],\n",
    "                                      'Name': [None],\n",
    "                                      'Open': [None]},\n",
    "                                      index=[None])\n",
    "\n",
    "df78 = pd.concat(data.values())\n",
    "print(df78)"
   ]
  },
  {
   "cell_type": "code",
   "execution_count": 90,
   "id": "76f54743",
   "metadata": {},
   "outputs": [
    {
     "name": "stdout",
     "output_type": "stream",
     "text": [
      "                           Symbol                     Name        Open\n",
      "2023-01-04 00:00:00-05:00   BRK-B  Berkshire Hathaway Inc.  312.000000\n",
      "2023-01-04 00:00:00-05:00  JPM-PC     JPMorgan Chase & Co.   24.783167\n",
      "2023-01-04 00:00:00-05:00       V                Visa Inc.  209.210236\n",
      "2023-01-04 00:00:00-05:00     JPM     JPMorgan Chase & Co.  133.941681\n",
      "2023-01-04 00:00:00-05:00      MA  Mastercard Incorporated  350.271128\n"
     ]
    }
   ],
   "source": [
    "#Financial Sector\n",
    "#request etflist ticker data from yfinance dated 1-3-2023\n",
    "tickers = ['BRK-B', 'JPM-PC', 'V', 'JPM', 'MA']\n",
    "\n",
    "data = {}\n",
    "\n",
    "for ticker in tickers:\n",
    "    try:\n",
    "        stock = yf.Ticker(ticker)\n",
    "        hist19 = stock.history(period='4y')\n",
    "        data[ticker] = pd.DataFrame({'Symbol': [ticker],\n",
    "                                      'Name': [stock.info['longName']],\n",
    "                                      'Open': [hist19.iloc[-72]['Open']]},\n",
    "                                      index=[hist19.index[-72]])\n",
    "    except IndexError:\n",
    "        data[ticker] = pd.DataFrame({'Symbol': [ticker],\n",
    "                                      'Name': [None],\n",
    "                                      'Open': [None]},\n",
    "                                      index=[None])\n",
    "\n",
    "df79 = pd.concat(data.values())\n",
    "print(df79)"
   ]
  },
  {
   "cell_type": "code",
   "execution_count": 91,
   "id": "e77cbc50",
   "metadata": {},
   "outputs": [
    {
     "name": "stdout",
     "output_type": "stream",
     "text": [
      "                           Symbol                     Name        Open\n",
      "2023-03-02 00:00:00-05:00   BRK-B  Berkshire Hathaway Inc.  303.660004\n",
      "2023-03-02 00:00:00-05:00  JPM-PC     JPMorgan Chase & Co.   25.240000\n",
      "2023-03-02 00:00:00-05:00       V                Visa Inc.  217.889999\n",
      "2023-03-02 00:00:00-05:00     JPM     JPMorgan Chase & Co.  141.132399\n",
      "2023-03-02 00:00:00-05:00      MA  Mastercard Incorporated  353.076098\n"
     ]
    }
   ],
   "source": [
    "#Financial Sector\n",
    "#request etflist ticker data from yfinance dated 3-1-2023\n",
    "tickers = ['BRK-B', 'JPM-PC', 'V', 'JPM', 'MA']\n",
    "\n",
    "data = {}\n",
    "\n",
    "for ticker in tickers:\n",
    "    try:\n",
    "        stock = yf.Ticker(ticker)\n",
    "        hist20 = stock.history(period='4y')\n",
    "        data[ticker] = pd.DataFrame({'Symbol': [ticker],\n",
    "                                      'Name': [stock.info['longName']],\n",
    "                                      'Open': [hist20.iloc[-33]['Open']]},\n",
    "                                      index=[hist20.index[-33]])\n",
    "    except IndexError:\n",
    "        data[ticker] = pd.DataFrame({'Symbol': [ticker],\n",
    "                                      'Name': [None],\n",
    "                                      'Open': [None]},\n",
    "                                      index=[None])\n",
    "\n",
    "df80 = pd.concat(data.values())\n",
    "print(df80)"
   ]
  },
  {
   "cell_type": "code",
   "execution_count": 92,
   "id": "d2865d63",
   "metadata": {},
   "outputs": [
    {
     "data": {
      "text/html": [
       "<div>\n",
       "<style scoped>\n",
       "    .dataframe tbody tr th:only-of-type {\n",
       "        vertical-align: middle;\n",
       "    }\n",
       "\n",
       "    .dataframe tbody tr th {\n",
       "        vertical-align: top;\n",
       "    }\n",
       "\n",
       "    .dataframe thead th {\n",
       "        text-align: right;\n",
       "    }\n",
       "</style>\n",
       "<table border=\"1\" class=\"dataframe\">\n",
       "  <thead>\n",
       "    <tr style=\"text-align: right;\">\n",
       "      <th></th>\n",
       "      <th>Date</th>\n",
       "      <th>Symbol</th>\n",
       "      <th>Name</th>\n",
       "      <th>Open</th>\n",
       "    </tr>\n",
       "  </thead>\n",
       "  <tbody>\n",
       "    <tr>\n",
       "      <th>0</th>\n",
       "      <td>2020-01-06 00:00:00-05:00</td>\n",
       "      <td>BRK-B</td>\n",
       "      <td>Berkshire Hathaway Inc.</td>\n",
       "      <td>224.990005</td>\n",
       "    </tr>\n",
       "    <tr>\n",
       "      <th>1</th>\n",
       "      <td>2020-01-06 00:00:00-05:00</td>\n",
       "      <td>JPM-PC</td>\n",
       "      <td>JPMorgan Chase &amp; Co.</td>\n",
       "      <td>23.907414</td>\n",
       "    </tr>\n",
       "    <tr>\n",
       "      <th>2</th>\n",
       "      <td>2020-01-06 00:00:00-05:00</td>\n",
       "      <td>V</td>\n",
       "      <td>Visa Inc.</td>\n",
       "      <td>183.954577</td>\n",
       "    </tr>\n",
       "    <tr>\n",
       "      <th>3</th>\n",
       "      <td>2020-01-06 00:00:00-05:00</td>\n",
       "      <td>JPM</td>\n",
       "      <td>JPMorgan Chase &amp; Co.</td>\n",
       "      <td>123.524350</td>\n",
       "    </tr>\n",
       "    <tr>\n",
       "      <th>4</th>\n",
       "      <td>2020-01-06 00:00:00-05:00</td>\n",
       "      <td>MA</td>\n",
       "      <td>Mastercard Incorporated</td>\n",
       "      <td>291.675573</td>\n",
       "    </tr>\n",
       "    <tr>\n",
       "      <th>...</th>\n",
       "      <td>...</td>\n",
       "      <td>...</td>\n",
       "      <td>...</td>\n",
       "      <td>...</td>\n",
       "    </tr>\n",
       "    <tr>\n",
       "      <th>95</th>\n",
       "      <td>2023-03-02 00:00:00-05:00</td>\n",
       "      <td>BRK-B</td>\n",
       "      <td>Berkshire Hathaway Inc.</td>\n",
       "      <td>303.660004</td>\n",
       "    </tr>\n",
       "    <tr>\n",
       "      <th>96</th>\n",
       "      <td>2023-03-02 00:00:00-05:00</td>\n",
       "      <td>JPM-PC</td>\n",
       "      <td>JPMorgan Chase &amp; Co.</td>\n",
       "      <td>25.240000</td>\n",
       "    </tr>\n",
       "    <tr>\n",
       "      <th>97</th>\n",
       "      <td>2023-03-02 00:00:00-05:00</td>\n",
       "      <td>V</td>\n",
       "      <td>Visa Inc.</td>\n",
       "      <td>217.889999</td>\n",
       "    </tr>\n",
       "    <tr>\n",
       "      <th>98</th>\n",
       "      <td>2023-03-02 00:00:00-05:00</td>\n",
       "      <td>JPM</td>\n",
       "      <td>JPMorgan Chase &amp; Co.</td>\n",
       "      <td>141.132399</td>\n",
       "    </tr>\n",
       "    <tr>\n",
       "      <th>99</th>\n",
       "      <td>2023-03-02 00:00:00-05:00</td>\n",
       "      <td>MA</td>\n",
       "      <td>Mastercard Incorporated</td>\n",
       "      <td>353.076098</td>\n",
       "    </tr>\n",
       "  </tbody>\n",
       "</table>\n",
       "<p>100 rows × 4 columns</p>\n",
       "</div>"
      ],
      "text/plain": [
       "                        Date  Symbol                     Name        Open\n",
       "0  2020-01-06 00:00:00-05:00   BRK-B  Berkshire Hathaway Inc.  224.990005\n",
       "1  2020-01-06 00:00:00-05:00  JPM-PC     JPMorgan Chase & Co.   23.907414\n",
       "2  2020-01-06 00:00:00-05:00       V                Visa Inc.  183.954577\n",
       "3  2020-01-06 00:00:00-05:00     JPM     JPMorgan Chase & Co.  123.524350\n",
       "4  2020-01-06 00:00:00-05:00      MA  Mastercard Incorporated  291.675573\n",
       "..                       ...     ...                      ...         ...\n",
       "95 2023-03-02 00:00:00-05:00   BRK-B  Berkshire Hathaway Inc.  303.660004\n",
       "96 2023-03-02 00:00:00-05:00  JPM-PC     JPMorgan Chase & Co.   25.240000\n",
       "97 2023-03-02 00:00:00-05:00       V                Visa Inc.  217.889999\n",
       "98 2023-03-02 00:00:00-05:00     JPM     JPMorgan Chase & Co.  141.132399\n",
       "99 2023-03-02 00:00:00-05:00      MA  Mastercard Incorporated  353.076098\n",
       "\n",
       "[100 rows x 4 columns]"
      ]
     },
     "execution_count": 92,
     "metadata": {},
     "output_type": "execute_result"
    }
   ],
   "source": [
    "Financial_Sector_df = pd.concat([df61, df62, df63, df64, df65, df66, df67, df68, df69, df70, df71, df72, df73, df74, df75, df76, df77, df78, df79, df80], axis=0)\n",
    "\n",
    "Financial_Sector_df = Financial_Sector_df.reset_index()\n",
    "\n",
    "Financial_Sector_df = Financial_Sector_df.rename(columns={'index': 'Date'})\n",
    "\n",
    "\n",
    "Financial_Sector_df.to_csv('Financial_Sector.csv', index=False)\n",
    "Financial_Sector_df"
   ]
  },
  {
   "cell_type": "code",
   "execution_count": 93,
   "id": "8477dd61",
   "metadata": {},
   "outputs": [
    {
     "data": {
      "image/png": "[encoded data removed]",
      "text/plain": [
       "<Figure size 640x480 with 1 Axes>"
      ]
     },
     "metadata": {},
     "output_type": "display_data"
    }
   ],
   "source": [
    "import pandas as pd\n",
    "import seaborn as sns\n",
    "import matplotlib.pyplot as plt\n",
    "\n",
    "sns.set(style='darkgrid')\n",
    "\n",
    "# Plot data by stock\n",
    "sns.lineplot(data=Financial_Sector_df, x='Date', y='Open', hue='Symbol')\n",
    "\n",
    "plt.xticks(rotation=45)\n",
    "\n",
    "plt.show()"
   ]
  },
  {
   "cell_type": "code",
   "execution_count": null,
   "id": "477f335a",
   "metadata": {},
   "outputs": [],
   "source": []
  },
  {
   "cell_type": "code",
   "execution_count": null,
   "id": "6234bac7",
   "metadata": {},
   "outputs": [],
   "source": []
  },
  {
   "cell_type": "code",
   "execution_count": 143,
   "id": "9c8bdb53",
   "metadata": {},
   "outputs": [
    {
     "ename": "IndentationError",
     "evalue": "unexpected indent (3795539563.py, line 3)",
     "output_type": "error",
     "traceback": [
      "\u001b[0;36m  File \u001b[0;32m\"/var/folders/3r/fgm41fys63zcjnbbncdplfsm0000gn/T/ipykernel_46716/3795539563.py\"\u001b[0;36m, line \u001b[0;32m3\u001b[0m\n\u001b[0;31m    cvx\u001b[0m\n\u001b[0m    ^\u001b[0m\n\u001b[0;31mIndentationError\u001b[0m\u001b[0;31m:\u001b[0m unexpected indent\n"
     ]
    }
   ],
   "source": [
    "#Energy Sector\n",
    "xom\n",
    "\tcvx\n",
    "\tshel\n",
    "\ttte\n",
    "\tcop"
   ]
  },
  {
   "cell_type": "code",
   "execution_count": 94,
   "id": "346febd2",
   "metadata": {},
   "outputs": [
    {
     "name": "stdout",
     "output_type": "stream",
     "text": [
      "                          Symbol                     Name        Open\n",
      "2020-01-06 00:00:00-05:00    XOM  Exxon Mobil Corporation   58.555717\n",
      "2020-01-06 00:00:00-05:00    CVX      Chevron Corporation  104.311410\n",
      "2020-01-06 00:00:00-05:00   SHEL                Shell plc   53.844425\n",
      "2020-01-06 00:00:00-05:00    TTE         TotalEnergies SE   45.031610\n",
      "2020-01-06 00:00:00-05:00    COP           ConocoPhillips   58.068157\n"
     ]
    }
   ],
   "source": [
    "#Energy Sector\n",
    "#request etflist ticker data from yfinance dated 1-3,2020\n",
    "tickers = ['XOM', 'CVX', 'SHEL', 'TTE', 'COP']\n",
    "\n",
    "data = {}\n",
    "\n",
    "for ticker in tickers:\n",
    "    try:\n",
    "        stock = yf.Ticker(ticker)\n",
    "        hist1 = stock.history(period='4y')\n",
    "        data[ticker] = pd.DataFrame({'Symbol': [ticker],\n",
    "                                      'Name': [stock.info['longName']],\n",
    "                                      'Open': [hist1.iloc[-827]['Open']]},\n",
    "                                      index=[hist1.index[-827]])\n",
    "    except IndexError:\n",
    "        data[ticker] = pd.DataFrame({'Symbol': [ticker],\n",
    "                                      'Name': [None],\n",
    "                                      'Open': [None]},\n",
    "                                      index=[None])\n",
    "\n",
    "df81 = pd.concat(data.values())\n",
    "print(df81)"
   ]
  },
  {
   "cell_type": "code",
   "execution_count": 95,
   "id": "f308d802",
   "metadata": {},
   "outputs": [
    {
     "name": "stdout",
     "output_type": "stream",
     "text": [
      "                          Symbol                     Name       Open\n",
      "2020-03-03 00:00:00-05:00    XOM  Exxon Mobil Corporation  45.569313\n",
      "2020-03-03 00:00:00-05:00    CVX      Chevron Corporation  84.248657\n",
      "2020-03-03 00:00:00-05:00   SHEL                Shell plc  40.991506\n",
      "2020-03-03 00:00:00-05:00    TTE         TotalEnergies SE  35.133067\n",
      "2020-03-03 00:00:00-05:00    COP           ConocoPhillips  43.700554\n"
     ]
    }
   ],
   "source": [
    "#Energy Sector\n",
    "#request etflist ticker data from yfinance dated 3-2,2020\n",
    "tickers = ['XOM', 'CVX', 'SHEL', 'TTE', 'COP']\n",
    "\n",
    "data = {}\n",
    "\n",
    "for ticker in tickers:\n",
    "    try:\n",
    "        stock = yf.Ticker(ticker)\n",
    "        hist2 = stock.history(period='4y')\n",
    "        data[ticker] = pd.DataFrame({'Symbol': [ticker],\n",
    "                                      'Name': [stock.info['longName']],\n",
    "                                      'Open': [hist2.iloc[-788]['Open']]},\n",
    "                                      index=[hist2.index[-788]])\n",
    "    except IndexError:\n",
    "        data[ticker] = pd.DataFrame({'Symbol': [ticker],\n",
    "                                      'Name': [None],\n",
    "                                      'Open': [None]},\n",
    "                                      index=[None])\n",
    "\n",
    "df82 = pd.concat(data.values())\n",
    "print(df82)"
   ]
  },
  {
   "cell_type": "code",
   "execution_count": 96,
   "id": "25450992",
   "metadata": {},
   "outputs": [
    {
     "name": "stdout",
     "output_type": "stream",
     "text": [
      "                          Symbol                     Name       Open\n",
      "2020-05-04 00:00:00-04:00    XOM  Exxon Mobil Corporation  35.906422\n",
      "2020-05-04 00:00:00-04:00    CVX      Chevron Corporation  77.259128\n",
      "2020-05-04 00:00:00-04:00   SHEL                Shell plc  28.697654\n",
      "2020-05-04 00:00:00-04:00    TTE         TotalEnergies SE  26.936420\n",
      "2020-05-04 00:00:00-04:00    COP           ConocoPhillips  34.074613\n"
     ]
    }
   ],
   "source": [
    "#Energy Sector\n",
    "#request etflist ticker data from yfinance dated 5-1,2020\n",
    "tickers = ['XOM', 'CVX', 'SHEL', 'TTE', 'COP']\n",
    "\n",
    "data = {}\n",
    "\n",
    "for ticker in tickers:\n",
    "    try:\n",
    "        stock = yf.Ticker(ticker)\n",
    "        hist3 = stock.history(period='4y')\n",
    "        data[ticker] = pd.DataFrame({'Symbol': [ticker],\n",
    "                                      'Name': [stock.info['longName']],\n",
    "                                      'Open': [hist3.iloc[-745]['Open']]},\n",
    "                                      index=[hist3.index[-745]])\n",
    "    except IndexError:\n",
    "        data[ticker] = pd.DataFrame({'Symbol': [ticker],\n",
    "                                      'Name': [None],\n",
    "                                      'Open': [None]},\n",
    "                                      index=[None])\n",
    "\n",
    "df83 = pd.concat(data.values())\n",
    "print(df83)"
   ]
  },
  {
   "cell_type": "code",
   "execution_count": 97,
   "id": "65f14b2b",
   "metadata": {},
   "outputs": [
    {
     "name": "stdout",
     "output_type": "stream",
     "text": [
      "                          Symbol                     Name       Open\n",
      "2020-07-02 00:00:00-04:00    XOM  Exxon Mobil Corporation  38.419402\n",
      "2020-07-02 00:00:00-04:00    CVX      Chevron Corporation  78.932113\n",
      "2020-07-02 00:00:00-04:00   SHEL                Shell plc  30.223325\n",
      "2020-07-02 00:00:00-04:00    TTE         TotalEnergies SE  32.307680\n",
      "2020-07-02 00:00:00-04:00    COP           ConocoPhillips  37.266962\n"
     ]
    }
   ],
   "source": [
    "#Energy Sector\n",
    "#request etflist ticker data from yfinance dated 7-1,2020\n",
    "tickers = ['XOM', 'CVX', 'SHEL', 'TTE', 'COP']\n",
    "\n",
    "data = {}\n",
    "\n",
    "for ticker in tickers:\n",
    "    try:\n",
    "        stock = yf.Ticker(ticker)\n",
    "        hist4 = stock.history(period='4y')\n",
    "        data[ticker] = pd.DataFrame({'Symbol': [ticker],\n",
    "                                      'Name': [stock.info['longName']],\n",
    "                                      'Open': [hist4.iloc[-703]['Open']]},\n",
    "                                      index=[hist4.index[-703]])\n",
    "    except IndexError:\n",
    "        data[ticker] = pd.DataFrame({'Symbol': [ticker],\n",
    "                                      'Name': [None],\n",
    "                                      'Open': [None]},\n",
    "                                      index=[None])\n",
    "\n",
    "df84 = pd.concat(data.values())\n",
    "print(df84)"
   ]
  },
  {
   "cell_type": "code",
   "execution_count": 98,
   "id": "a0663fea",
   "metadata": {},
   "outputs": [
    {
     "name": "stdout",
     "output_type": "stream",
     "text": [
      "                          Symbol                     Name       Open\n",
      "2020-09-02 00:00:00-04:00    XOM  Exxon Mobil Corporation  34.444809\n",
      "2020-09-02 00:00:00-04:00    CVX      Chevron Corporation  74.416666\n",
      "2020-09-02 00:00:00-04:00   SHEL                Shell plc  26.804044\n",
      "2020-09-02 00:00:00-04:00    TTE         TotalEnergies SE  32.663342\n",
      "2020-09-02 00:00:00-04:00    COP           ConocoPhillips  33.308097\n"
     ]
    }
   ],
   "source": [
    "#Energy Sector\n",
    "#request etflist ticker data from yfinance dated 9-1,2020\n",
    "tickers = ['XOM', 'CVX', 'SHEL', 'TTE', 'COP']\n",
    "\n",
    "data = {}\n",
    "\n",
    "for ticker in tickers:\n",
    "    try:\n",
    "        stock = yf.Ticker(ticker)\n",
    "        hist5 = stock.history(period='4y')\n",
    "        data[ticker] = pd.DataFrame({'Symbol': [ticker],\n",
    "                                      'Name': [stock.info['longName']],\n",
    "                                      'Open': [hist5.iloc[-660]['Open']]},\n",
    "                                      index=[hist5.index[-660]])\n",
    "    except IndexError:\n",
    "        data[ticker] = pd.DataFrame({'Symbol': [ticker],\n",
    "                                      'Name': [None],\n",
    "                                      'Open': [None]},\n",
    "                                      index=[None])\n",
    "\n",
    "df85 = pd.concat(data.values())\n",
    "print(df85)"
   ]
  },
  {
   "cell_type": "code",
   "execution_count": 99,
   "id": "ba152a2f",
   "metadata": {},
   "outputs": [
    {
     "name": "stdout",
     "output_type": "stream",
     "text": [
      "                          Symbol                     Name       Open\n",
      "2020-11-03 00:00:00-05:00    XOM  Exxon Mobil Corporation  30.282990\n",
      "2020-11-03 00:00:00-05:00    CVX      Chevron Corporation  65.546889\n",
      "2020-11-03 00:00:00-05:00   SHEL                Shell plc  25.005486\n",
      "2020-11-03 00:00:00-05:00    TTE         TotalEnergies SE  27.473021\n",
      "2020-11-03 00:00:00-05:00    COP           ConocoPhillips  27.994772\n"
     ]
    }
   ],
   "source": [
    "#Energy Sector\n",
    "#request etflist ticker data from yfinance dated 11-2,2020\n",
    "tickers = tickers = ['XOM', 'CVX', 'SHEL', 'TTE', 'COP']\n",
    "\n",
    "data = {}\n",
    "\n",
    "for ticker in tickers:\n",
    "    try:\n",
    "        stock = yf.Ticker(ticker)\n",
    "        hist6 = stock.history(period='4y')\n",
    "        data[ticker] = pd.DataFrame({'Symbol': [ticker],\n",
    "                                      'Name': [stock.info['longName']],\n",
    "                                      'Open': [hist6.iloc[-617]['Open']]},\n",
    "                                      index=[hist6.index[-617]])\n",
    "    except IndexError:\n",
    "        data[ticker] = pd.DataFrame({'Symbol': [ticker],\n",
    "                                      'Name': [None],\n",
    "                                      'Open': [None]},\n",
    "                                      index=[None])\n",
    "\n",
    "df86 = pd.concat(data.values())\n",
    "print(df86)"
   ]
  },
  {
   "cell_type": "code",
   "execution_count": 100,
   "id": "32c807bb",
   "metadata": {},
   "outputs": [
    {
     "name": "stdout",
     "output_type": "stream",
     "text": [
      "                          Symbol                     Name       Open\n",
      "2021-01-05 00:00:00-05:00    XOM  Exxon Mobil Corporation  37.622763\n",
      "2021-01-05 00:00:00-05:00    CVX      Chevron Corporation  77.720822\n",
      "2021-01-05 00:00:00-05:00   SHEL                Shell plc  34.492664\n",
      "2021-01-05 00:00:00-05:00    TTE         TotalEnergies SE  36.979160\n",
      "2021-01-05 00:00:00-05:00    COP           ConocoPhillips  36.670233\n"
     ]
    }
   ],
   "source": [
    "#Energy Sector\n",
    "#request etflist ticker data from yfinance dated 1-4,2021\n",
    "tickers = ['XOM', 'CVX', 'SHEL', 'TTE', 'COP']\n",
    "\n",
    "data = {}\n",
    "\n",
    "for ticker in tickers:\n",
    "    try:\n",
    "        stock = yf.Ticker(ticker)\n",
    "        hist7 = stock.history(period='4y')\n",
    "        data[ticker] = pd.DataFrame({'Symbol': [ticker],\n",
    "                                      'Name': [stock.info['longName']],\n",
    "                                      'Open': [hist7.iloc[-575]['Open']]},\n",
    "                                      index=[hist7.index[-575]])\n",
    "    except IndexError:\n",
    "        data[ticker] = pd.DataFrame({'Symbol': [ticker],\n",
    "                                      'Name': [None],\n",
    "                                      'Open': [None]},\n",
    "                                      index=[None])\n",
    "\n",
    "df87 = pd.concat(data.values())\n",
    "print(df87)"
   ]
  },
  {
   "cell_type": "code",
   "execution_count": 101,
   "id": "8647a8a8",
   "metadata": {},
   "outputs": [
    {
     "name": "stdout",
     "output_type": "stream",
     "text": [
      "                          Symbol                     Name       Open\n",
      "2021-03-02 00:00:00-05:00    XOM  Exxon Mobil Corporation  51.805079\n",
      "2021-03-02 00:00:00-05:00    CVX      Chevron Corporation  93.939796\n",
      "2021-03-02 00:00:00-05:00   SHEL                Shell plc  38.481388\n",
      "2021-03-02 00:00:00-05:00    TTE         TotalEnergies SE  40.358929\n",
      "2021-03-02 00:00:00-05:00    COP           ConocoPhillips  48.291214\n"
     ]
    }
   ],
   "source": [
    "#Energy Sector\n",
    "#request etflist ticker data from yfinance dated 3-2021\n",
    "tickers = ['XOM', 'CVX', 'SHEL', 'TTE', 'COP']\n",
    "\n",
    "data = {}\n",
    "\n",
    "for ticker in tickers:\n",
    "    try:\n",
    "        stock = yf.Ticker(ticker)\n",
    "        hist8 = stock.history(period='4y')\n",
    "        data[ticker] = pd.DataFrame({'Symbol': [ticker],\n",
    "                                      'Name': [stock.info['longName']],\n",
    "                                      'Open': [hist8.iloc[-537]['Open']]},\n",
    "                                      index=[hist8.index[-537]])\n",
    "    except IndexError:\n",
    "        data[ticker] = pd.DataFrame({'Symbol': [ticker],\n",
    "                                      'Name': [None],\n",
    "                                      'Open': [None]},\n",
    "                                      index=[None])\n",
    "\n",
    "df88 = pd.concat(data.values())\n",
    "print(df88)"
   ]
  },
  {
   "cell_type": "code",
   "execution_count": 102,
   "id": "44da97a0",
   "metadata": {},
   "outputs": [
    {
     "name": "stdout",
     "output_type": "stream",
     "text": [
      "                          Symbol                     Name       Open\n",
      "2021-05-04 00:00:00-04:00    XOM  Exxon Mobil Corporation  53.954093\n",
      "2021-05-04 00:00:00-04:00    CVX      Chevron Corporation  97.692231\n",
      "2021-05-04 00:00:00-04:00   SHEL                Shell plc  36.508224\n",
      "2021-05-04 00:00:00-04:00    TTE         TotalEnergies SE  39.956843\n",
      "2021-05-04 00:00:00-04:00    COP           ConocoPhillips  47.573877\n"
     ]
    }
   ],
   "source": [
    "#Energy Sector\n",
    "#request etflist ticker data from yfinance dated 5-3-2021\n",
    "tickers = ['XOM', 'CVX', 'SHEL', 'TTE', 'COP']\n",
    "\n",
    "data = {}\n",
    "\n",
    "for ticker in tickers:\n",
    "    try:\n",
    "        stock = yf.Ticker(ticker)\n",
    "        hist9 = stock.history(period='4y')\n",
    "        data[ticker] = pd.DataFrame({'Symbol': [ticker],\n",
    "                                      'Name': [stock.info['longName']],\n",
    "                                      'Open': [hist9.iloc[-493]['Open']]},\n",
    "                                      index=[hist9.index[-493]])\n",
    "    except IndexError:\n",
    "        data[ticker] = pd.DataFrame({'Symbol': [ticker],\n",
    "                                      'Name': [None],\n",
    "                                      'Open': [None]},\n",
    "                                      index=[None])\n",
    "\n",
    "df89 = pd.concat(data.values())\n",
    "print(df89)"
   ]
  },
  {
   "cell_type": "code",
   "execution_count": 103,
   "id": "200ab48b",
   "metadata": {},
   "outputs": [
    {
     "name": "stdout",
     "output_type": "stream",
     "text": [
      "                          Symbol                     Name       Open\n",
      "2021-07-02 00:00:00-04:00    XOM  Exxon Mobil Corporation  58.460573\n",
      "2021-07-02 00:00:00-04:00    CVX      Chevron Corporation  98.645399\n",
      "2021-07-02 00:00:00-04:00   SHEL                Shell plc  38.840436\n",
      "2021-07-02 00:00:00-04:00    TTE         TotalEnergies SE  40.833093\n",
      "2021-07-02 00:00:00-04:00    COP           ConocoPhillips  57.888778\n"
     ]
    }
   ],
   "source": [
    "#Energy Sector\n",
    "#request etflist ticker data from yfinance dated 7-1-2021\n",
    "tickers = ['XOM', 'CVX', 'SHEL', 'TTE', 'COP']\n",
    "\n",
    "data = {}\n",
    "\n",
    "for ticker in tickers:\n",
    "    try:\n",
    "        stock = yf.Ticker(ticker)\n",
    "        hist10 = stock.history(period='4y')\n",
    "        data[ticker] = pd.DataFrame({'Symbol': [ticker],\n",
    "                                      'Name': [stock.info['longName']],\n",
    "                                      'Open': [hist10.iloc[-451]['Open']]},\n",
    "                                      index=[hist10.index[-451]])\n",
    "    except IndexError:\n",
    "        data[ticker] = pd.DataFrame({'Symbol': [ticker],\n",
    "                                      'Name': [None],\n",
    "                                      'Open': [None]},\n",
    "                                      index=[None])\n",
    "\n",
    "df90 = pd.concat(data.values())\n",
    "print(df90)"
   ]
  },
  {
   "cell_type": "code",
   "execution_count": 104,
   "id": "3a3b1551",
   "metadata": {},
   "outputs": [
    {
     "name": "stdout",
     "output_type": "stream",
     "text": [
      "                          Symbol                     Name       Open\n",
      "2021-09-02 00:00:00-04:00    XOM  Exxon Mobil Corporation  51.132558\n",
      "2021-09-02 00:00:00-04:00    CVX      Chevron Corporation  91.406049\n",
      "2021-09-02 00:00:00-04:00   SHEL                Shell plc  38.164835\n",
      "2021-09-02 00:00:00-04:00    TTE         TotalEnergies SE  39.513591\n",
      "2021-09-02 00:00:00-04:00    COP           ConocoPhillips  51.607312\n"
     ]
    }
   ],
   "source": [
    "#Energy Sector\n",
    "#request etflist ticker data from yfinance dated 9-1-2021\n",
    "tickers = ['XOM', 'CVX', 'SHEL', 'TTE', 'COP']\n",
    "\n",
    "data = {}\n",
    "\n",
    "for ticker in tickers:\n",
    "    try:\n",
    "        stock = yf.Ticker(ticker)\n",
    "        hist11 = stock.history(period='4y')\n",
    "        data[ticker] = pd.DataFrame({'Symbol': [ticker],\n",
    "                                      'Name': [stock.info['longName']],\n",
    "                                      'Open': [hist11.iloc[-408]['Open']]},\n",
    "                                      index=[hist11.index[-408]])\n",
    "    except IndexError:\n",
    "        data[ticker] = pd.DataFrame({'Symbol': [ticker],\n",
    "                                      'Name': [None],\n",
    "                                      'Open': [None]},\n",
    "                                      index=[None])\n",
    "\n",
    "df91 = pd.concat(data.values())\n",
    "print(df91)"
   ]
  },
  {
   "cell_type": "code",
   "execution_count": 105,
   "id": "875e2be1",
   "metadata": {},
   "outputs": [
    {
     "name": "stdout",
     "output_type": "stream",
     "text": [
      "                          Symbol                     Name        Open\n",
      "2021-11-02 00:00:00-04:00    XOM  Exxon Mobil Corporation   61.247926\n",
      "2021-11-02 00:00:00-04:00    CVX      Chevron Corporation  107.996112\n",
      "2021-11-02 00:00:00-04:00   SHEL                Shell plc   43.280202\n",
      "2021-11-02 00:00:00-04:00    TTE         TotalEnergies SE   45.628820\n",
      "2021-11-02 00:00:00-04:00    COP           ConocoPhillips   70.031105\n"
     ]
    }
   ],
   "source": [
    "#Energy Sector\n",
    "#request etflist ticker data from yfinance dated 11-1-1021\n",
    "tickers = ['XOM', 'CVX', 'SHEL', 'TTE', 'COP']\n",
    "\n",
    "data = {}\n",
    "\n",
    "for ticker in tickers:\n",
    "    try:\n",
    "        stock = yf.Ticker(ticker)\n",
    "        hist12 = stock.history(period='4y')\n",
    "        data[ticker] = pd.DataFrame({'Symbol': [ticker],\n",
    "                                      'Name': [stock.info['longName']],\n",
    "                                      'Open': [hist12.iloc[-366]['Open']]},\n",
    "                                      index=[hist12.index[-366]])\n",
    "    except IndexError:\n",
    "        data[ticker] = pd.DataFrame({'Symbol': [ticker],\n",
    "                                      'Name': [None],\n",
    "                                      'Open': [None]},\n",
    "                                      index=[None])\n",
    "\n",
    "df92 = pd.concat(data.values())\n",
    "print(df92)"
   ]
  },
  {
   "cell_type": "code",
   "execution_count": 106,
   "id": "ebdb8319",
   "metadata": {},
   "outputs": [
    {
     "name": "stdout",
     "output_type": "stream",
     "text": [
      "                          Symbol                     Name        Open\n",
      "2022-01-04 00:00:00-05:00    XOM  Exxon Mobil Corporation   61.212006\n",
      "2022-01-04 00:00:00-05:00    CVX      Chevron Corporation  114.764859\n",
      "2022-01-04 00:00:00-05:00   SHEL                Shell plc   44.314833\n",
      "2022-01-04 00:00:00-05:00    TTE         TotalEnergies SE   46.998753\n",
      "2022-01-04 00:00:00-05:00    COP           ConocoPhillips   70.244272\n"
     ]
    }
   ],
   "source": [
    "#Energy Sector\n",
    "#request etflist ticker data from yfinance dated 1-3-2022\n",
    "tickers = ['XOM', 'CVX', 'SHEL', 'TTE', 'COP']\n",
    "\n",
    "data = {}\n",
    "\n",
    "for ticker in tickers:\n",
    "    try:\n",
    "        stock = yf.Ticker(ticker)\n",
    "        hist13 = stock.history(period='4y')\n",
    "        data[ticker] = pd.DataFrame({'Symbol': [ticker],\n",
    "                                      'Name': [stock.info['longName']],\n",
    "                                      'Open': [hist13.iloc[-323]['Open']]},\n",
    "                                      index=[hist13.index[-323]])\n",
    "    except IndexError:\n",
    "        data[ticker] = pd.DataFrame({'Symbol': [ticker],\n",
    "                                      'Name': [None],\n",
    "                                      'Open': [None]},\n",
    "                                      index=[None])\n",
    "\n",
    "df93 = pd.concat(data.values())\n",
    "print(df93)"
   ]
  },
  {
   "cell_type": "code",
   "execution_count": 107,
   "id": "c707b0bf",
   "metadata": {},
   "outputs": [
    {
     "name": "stdout",
     "output_type": "stream",
     "text": [
      "                          Symbol                     Name        Open\n",
      "2022-03-02 00:00:00-05:00    XOM  Exxon Mobil Corporation   77.785466\n",
      "2022-03-02 00:00:00-05:00    CVX      Chevron Corporation  145.216020\n",
      "2022-03-02 00:00:00-05:00   SHEL                Shell plc   52.550929\n",
      "2022-03-02 00:00:00-05:00    TTE         TotalEnergies SE   48.075695\n",
      "2022-03-02 00:00:00-05:00    COP           ConocoPhillips   93.142237\n"
     ]
    }
   ],
   "source": [
    "#Energy Sector\n",
    "#request etflist ticker data from yfinance dated 3-1-2022\n",
    "tickers = ['XOM', 'CVX', 'SHEL', 'TTE', 'COP']\n",
    "\n",
    "data = {}\n",
    "\n",
    "for ticker in tickers:\n",
    "    try:\n",
    "        stock = yf.Ticker(ticker)\n",
    "        hist14 = stock.history(period='4y')\n",
    "        data[ticker] = pd.DataFrame({'Symbol': [ticker],\n",
    "                                      'Name': [stock.info['longName']],\n",
    "                                      'Open': [hist14.iloc[-284]['Open']]},\n",
    "                                      index=[hist14.index[-284]])\n",
    "    except IndexError:\n",
    "        data[ticker] = pd.DataFrame({'Symbol': [ticker],\n",
    "                                      'Name': [None],\n",
    "                                      'Open': [None]},\n",
    "                                      index=[None])\n",
    "\n",
    "df94 = pd.concat(data.values())\n",
    "print(df94)"
   ]
  },
  {
   "cell_type": "code",
   "execution_count": 108,
   "id": "163276bd",
   "metadata": {},
   "outputs": [
    {
     "name": "stdout",
     "output_type": "stream",
     "text": [
      "                          Symbol                     Name        Open\n",
      "2022-05-03 00:00:00-04:00    XOM  Exxon Mobil Corporation   83.247830\n",
      "2022-05-03 00:00:00-04:00    CVX      Chevron Corporation  154.275115\n",
      "2022-05-03 00:00:00-04:00   SHEL                Shell plc   52.734167\n",
      "2022-05-03 00:00:00-04:00    TTE         TotalEnergies SE   47.085555\n",
      "2022-05-03 00:00:00-04:00    COP           ConocoPhillips   91.815608\n"
     ]
    }
   ],
   "source": [
    "#Energy Sector\n",
    "#request etflist ticker data from yfinance dated 5-2-2022\n",
    "tickers = ['XOM', 'CVX', 'SHEL', 'TTE', 'COP']\n",
    "\n",
    "data = {}\n",
    "\n",
    "for ticker in tickers:\n",
    "    try:\n",
    "        stock = yf.Ticker(ticker)\n",
    "        hist15 = stock.history(period='4y')\n",
    "        data[ticker] = pd.DataFrame({'Symbol': [ticker],\n",
    "                                      'Name': [stock.info['longName']],\n",
    "                                      'Open': [hist15.iloc[-241]['Open']]},\n",
    "                                      index=[hist15.index[-241]])\n",
    "    except IndexError:\n",
    "        data[ticker] = pd.DataFrame({'Symbol': [ticker],\n",
    "                                      'Name': [None],\n",
    "                                      'Open': [None]},\n",
    "                                      index=[None])\n",
    "\n",
    "df95 = pd.concat(data.values())\n",
    "print(df95)"
   ]
  },
  {
   "cell_type": "code",
   "execution_count": 109,
   "id": "9076eb12",
   "metadata": {},
   "outputs": [
    {
     "name": "stdout",
     "output_type": "stream",
     "text": [
      "                          Symbol                     Name        Open\n",
      "2022-07-05 00:00:00-04:00    XOM  Exxon Mobil Corporation   84.178548\n",
      "2022-07-05 00:00:00-04:00    CVX      Chevron Corporation  140.025912\n",
      "2022-07-05 00:00:00-04:00   SHEL                Shell plc   48.636976\n",
      "2022-07-05 00:00:00-04:00    TTE         TotalEnergies SE   48.621729\n",
      "2022-07-05 00:00:00-04:00    COP           ConocoPhillips   85.896803\n"
     ]
    }
   ],
   "source": [
    "#Energy Sector\n",
    "#request etflist ticker data from yfinance dated 7-1-2022\n",
    "tickers = ['XOM', 'CVX', 'SHEL', 'TTE', 'COP']\n",
    "\n",
    "data = {}\n",
    "\n",
    "for ticker in tickers:\n",
    "    try:\n",
    "        stock = yf.Ticker(ticker)\n",
    "        hist16 = stock.history(period='4y')\n",
    "        data[ticker] = pd.DataFrame({'Symbol': [ticker],\n",
    "                                      'Name': [stock.info['longName']],\n",
    "                                      'Open': [hist16.iloc[-199]['Open']]},\n",
    "                                      index=[hist16.index[-199]])\n",
    "    except IndexError:\n",
    "        data[ticker] = pd.DataFrame({'Symbol': [ticker],\n",
    "                                      'Name': [None],\n",
    "                                      'Open': [None]},\n",
    "                                      index=[None])\n",
    "\n",
    "df96 = pd.concat(data.values())\n",
    "print(df96)"
   ]
  },
  {
   "cell_type": "code",
   "execution_count": 110,
   "id": "beae6049",
   "metadata": {},
   "outputs": [
    {
     "name": "stdout",
     "output_type": "stream",
     "text": [
      "                          Symbol                     Name        Open\n",
      "2022-09-02 00:00:00-04:00    XOM  Exxon Mobil Corporation   94.850692\n",
      "2022-09-02 00:00:00-04:00    CVX      Chevron Corporation  155.649362\n",
      "2022-09-02 00:00:00-04:00   SHEL                Shell plc   52.830565\n",
      "2022-09-02 00:00:00-04:00    TTE         TotalEnergies SE   48.773049\n",
      "2022-09-02 00:00:00-04:00    COP           ConocoPhillips  105.876636\n"
     ]
    }
   ],
   "source": [
    "#Energy Sector\n",
    "#request etflist ticker data from yfinance dated 9-1-2022\n",
    "tickers = ['XOM', 'CVX', 'SHEL', 'TTE', 'COP']\n",
    "\n",
    "data = {}\n",
    "\n",
    "for ticker in tickers:\n",
    "    try:\n",
    "        stock = yf.Ticker(ticker)\n",
    "        hist17 = stock.history(period='4y')\n",
    "        data[ticker] = pd.DataFrame({'Symbol': [ticker],\n",
    "                                      'Name': [stock.info['longName']],\n",
    "                                      'Open': [hist17.iloc[-156]['Open']]},\n",
    "                                      index=[hist17.index[-156]])\n",
    "    except IndexError:\n",
    "        data[ticker] = pd.DataFrame({'Symbol': [ticker],\n",
    "                                      'Name': [None],\n",
    "                                      'Open': [None]},\n",
    "                                      index=[None])\n",
    "\n",
    "df97= pd.concat(data.values())\n",
    "print(df97)"
   ]
  },
  {
   "cell_type": "code",
   "execution_count": 111,
   "id": "4acdf10c",
   "metadata": {},
   "outputs": [
    {
     "name": "stdout",
     "output_type": "stream",
     "text": [
      "                          Symbol                     Name        Open\n",
      "2022-11-02 00:00:00-04:00    XOM  Exxon Mobil Corporation  109.843688\n",
      "2022-11-02 00:00:00-04:00    CVX      Chevron Corporation  177.967877\n",
      "2022-11-02 00:00:00-04:00   SHEL                Shell plc   54.941824\n",
      "2022-11-02 00:00:00-04:00    TTE         TotalEnergies SE   53.794136\n",
      "2022-11-02 00:00:00-04:00    COP           ConocoPhillips  124.482658\n"
     ]
    }
   ],
   "source": [
    "#Energy Sector\n",
    "#request etflist ticker data from yfinance dated 11-1-2022\n",
    "tickers = ['XOM', 'CVX', 'SHEL', 'TTE', 'COP']\n",
    "\n",
    "data = {}\n",
    "\n",
    "for ticker in tickers:\n",
    "    try:\n",
    "        stock = yf.Ticker(ticker)\n",
    "        hist18 = stock.history(period='4y')\n",
    "        data[ticker] = pd.DataFrame({'Symbol': [ticker],\n",
    "                                      'Name': [stock.info['longName']],\n",
    "                                      'Open': [hist18.iloc[-114]['Open']]},\n",
    "                                      index=[hist18.index[-114]])\n",
    "    except IndexError:\n",
    "        data[ticker] = pd.DataFrame({'Symbol': [ticker],\n",
    "                                      'Name': [None],\n",
    "                                      'Open': [None]},\n",
    "                                      index=[None])\n",
    "\n",
    "df98 = pd.concat(data.values())\n",
    "print(df98)"
   ]
  },
  {
   "cell_type": "code",
   "execution_count": 112,
   "id": "6eda8321",
   "metadata": {},
   "outputs": [
    {
     "name": "stdout",
     "output_type": "stream",
     "text": [
      "                          Symbol                     Name        Open\n",
      "2023-01-04 00:00:00-05:00    XOM  Exxon Mobil Corporation  103.999739\n",
      "2023-01-04 00:00:00-05:00    CVX      Chevron Corporation  169.452002\n",
      "2023-01-04 00:00:00-05:00   SHEL                Shell plc   55.296223\n",
      "2023-01-04 00:00:00-05:00    TTE         TotalEnergies SE   60.750802\n",
      "2023-01-04 00:00:00-05:00    COP           ConocoPhillips  110.045475\n"
     ]
    }
   ],
   "source": [
    "#Energy Sector\n",
    "#request etflist ticker data from yfinance dated 1-3-2023\n",
    "tickers = ['XOM', 'CVX', 'SHEL', 'TTE', 'COP']\n",
    "\n",
    "data = {}\n",
    "\n",
    "for ticker in tickers:\n",
    "    try:\n",
    "        stock = yf.Ticker(ticker)\n",
    "        hist19 = stock.history(period='4y')\n",
    "        data[ticker] = pd.DataFrame({'Symbol': [ticker],\n",
    "                                      'Name': [stock.info['longName']],\n",
    "                                      'Open': [hist19.iloc[-72]['Open']]},\n",
    "                                      index=[hist19.index[-72]])\n",
    "    except IndexError:\n",
    "        data[ticker] = pd.DataFrame({'Symbol': [ticker],\n",
    "                                      'Name': [None],\n",
    "                                      'Open': [None]},\n",
    "                                      index=[None])\n",
    "\n",
    "df99 = pd.concat(data.values())\n",
    "print(df99)"
   ]
  },
  {
   "cell_type": "code",
   "execution_count": 113,
   "id": "8201f127",
   "metadata": {},
   "outputs": [
    {
     "name": "stdout",
     "output_type": "stream",
     "text": [
      "                          Symbol                     Name        Open\n",
      "2023-03-02 00:00:00-05:00    XOM  Exxon Mobil Corporation  110.620003\n",
      "2023-03-02 00:00:00-05:00    CVX      Chevron Corporation  161.979996\n",
      "2023-03-02 00:00:00-05:00   SHEL                Shell plc   61.520000\n",
      "2023-03-02 00:00:00-05:00    TTE         TotalEnergies SE   61.313399\n",
      "2023-03-02 00:00:00-05:00    COP           ConocoPhillips  105.417124\n"
     ]
    }
   ],
   "source": [
    "#Energy Sector\n",
    "#request etflist ticker data from yfinance dated 3-1-2023\n",
    "tickers = ['XOM', 'CVX', 'SHEL', 'TTE', 'COP']\n",
    "\n",
    "data = {}\n",
    "\n",
    "for ticker in tickers:\n",
    "    try:\n",
    "        stock = yf.Ticker(ticker)\n",
    "        hist20 = stock.history(period='4y')\n",
    "        data[ticker] = pd.DataFrame({'Symbol': [ticker],\n",
    "                                      'Name': [stock.info['longName']],\n",
    "                                      'Open': [hist20.iloc[-33]['Open']]},\n",
    "                                      index=[hist20.index[-33]])\n",
    "    except IndexError:\n",
    "        data[ticker] = pd.DataFrame({'Symbol': [ticker],\n",
    "                                      'Name': [None],\n",
    "                                      'Open': [None]},\n",
    "                                      index=[None])\n",
    "\n",
    "df100 = pd.concat(data.values())\n",
    "print(df100)"
   ]
  },
  {
   "cell_type": "code",
   "execution_count": 114,
   "id": "f73176d6",
   "metadata": {},
   "outputs": [
    {
     "data": {
      "text/html": [
       "<div>\n",
       "<style scoped>\n",
       "    .dataframe tbody tr th:only-of-type {\n",
       "        vertical-align: middle;\n",
       "    }\n",
       "\n",
       "    .dataframe tbody tr th {\n",
       "        vertical-align: top;\n",
       "    }\n",
       "\n",
       "    .dataframe thead th {\n",
       "        text-align: right;\n",
       "    }\n",
       "</style>\n",
       "<table border=\"1\" class=\"dataframe\">\n",
       "  <thead>\n",
       "    <tr style=\"text-align: right;\">\n",
       "      <th></th>\n",
       "      <th>Date</th>\n",
       "      <th>Symbol</th>\n",
       "      <th>Name</th>\n",
       "      <th>Open</th>\n",
       "    </tr>\n",
       "  </thead>\n",
       "  <tbody>\n",
       "    <tr>\n",
       "      <th>0</th>\n",
       "      <td>2020-01-06 00:00:00-05:00</td>\n",
       "      <td>XOM</td>\n",
       "      <td>Exxon Mobil Corporation</td>\n",
       "      <td>58.555717</td>\n",
       "    </tr>\n",
       "    <tr>\n",
       "      <th>1</th>\n",
       "      <td>2020-01-06 00:00:00-05:00</td>\n",
       "      <td>CVX</td>\n",
       "      <td>Chevron Corporation</td>\n",
       "      <td>104.311410</td>\n",
       "    </tr>\n",
       "    <tr>\n",
       "      <th>2</th>\n",
       "      <td>2020-01-06 00:00:00-05:00</td>\n",
       "      <td>SHEL</td>\n",
       "      <td>Shell plc</td>\n",
       "      <td>53.844425</td>\n",
       "    </tr>\n",
       "    <tr>\n",
       "      <th>3</th>\n",
       "      <td>2020-01-06 00:00:00-05:00</td>\n",
       "      <td>TTE</td>\n",
       "      <td>TotalEnergies SE</td>\n",
       "      <td>45.031610</td>\n",
       "    </tr>\n",
       "    <tr>\n",
       "      <th>4</th>\n",
       "      <td>2020-01-06 00:00:00-05:00</td>\n",
       "      <td>COP</td>\n",
       "      <td>ConocoPhillips</td>\n",
       "      <td>58.068157</td>\n",
       "    </tr>\n",
       "    <tr>\n",
       "      <th>...</th>\n",
       "      <td>...</td>\n",
       "      <td>...</td>\n",
       "      <td>...</td>\n",
       "      <td>...</td>\n",
       "    </tr>\n",
       "    <tr>\n",
       "      <th>95</th>\n",
       "      <td>2023-03-02 00:00:00-05:00</td>\n",
       "      <td>XOM</td>\n",
       "      <td>Exxon Mobil Corporation</td>\n",
       "      <td>110.620003</td>\n",
       "    </tr>\n",
       "    <tr>\n",
       "      <th>96</th>\n",
       "      <td>2023-03-02 00:00:00-05:00</td>\n",
       "      <td>CVX</td>\n",
       "      <td>Chevron Corporation</td>\n",
       "      <td>161.979996</td>\n",
       "    </tr>\n",
       "    <tr>\n",
       "      <th>97</th>\n",
       "      <td>2023-03-02 00:00:00-05:00</td>\n",
       "      <td>SHEL</td>\n",
       "      <td>Shell plc</td>\n",
       "      <td>61.520000</td>\n",
       "    </tr>\n",
       "    <tr>\n",
       "      <th>98</th>\n",
       "      <td>2023-03-02 00:00:00-05:00</td>\n",
       "      <td>TTE</td>\n",
       "      <td>TotalEnergies SE</td>\n",
       "      <td>61.313399</td>\n",
       "    </tr>\n",
       "    <tr>\n",
       "      <th>99</th>\n",
       "      <td>2023-03-02 00:00:00-05:00</td>\n",
       "      <td>COP</td>\n",
       "      <td>ConocoPhillips</td>\n",
       "      <td>105.417124</td>\n",
       "    </tr>\n",
       "  </tbody>\n",
       "</table>\n",
       "<p>100 rows × 4 columns</p>\n",
       "</div>"
      ],
      "text/plain": [
       "                        Date Symbol                     Name        Open\n",
       "0  2020-01-06 00:00:00-05:00    XOM  Exxon Mobil Corporation   58.555717\n",
       "1  2020-01-06 00:00:00-05:00    CVX      Chevron Corporation  104.311410\n",
       "2  2020-01-06 00:00:00-05:00   SHEL                Shell plc   53.844425\n",
       "3  2020-01-06 00:00:00-05:00    TTE         TotalEnergies SE   45.031610\n",
       "4  2020-01-06 00:00:00-05:00    COP           ConocoPhillips   58.068157\n",
       "..                       ...    ...                      ...         ...\n",
       "95 2023-03-02 00:00:00-05:00    XOM  Exxon Mobil Corporation  110.620003\n",
       "96 2023-03-02 00:00:00-05:00    CVX      Chevron Corporation  161.979996\n",
       "97 2023-03-02 00:00:00-05:00   SHEL                Shell plc   61.520000\n",
       "98 2023-03-02 00:00:00-05:00    TTE         TotalEnergies SE   61.313399\n",
       "99 2023-03-02 00:00:00-05:00    COP           ConocoPhillips  105.417124\n",
       "\n",
       "[100 rows x 4 columns]"
      ]
     },
     "execution_count": 114,
     "metadata": {},
     "output_type": "execute_result"
    }
   ],
   "source": [
    "Energy_Sector_df = pd.concat([df81, df82, df83, df84, df85, df86, df87, df88, df89, df90, df91, df92, df93, df94, df95, df96, df97, df98, df99, df100], axis=0)\n",
    "\n",
    "Energy_Sector_df = Energy_Sector_df.reset_index()\n",
    "\n",
    "Energy_Sector_df = Energy_Sector_df.rename(columns={'index': 'Date'})\n",
    "\n",
    "\n",
    "Energy_Sector_df.to_csv('Energy_Sector.csv', index=False)\n",
    "Energy_Sector_df"
   ]
  },
  {
   "cell_type": "code",
   "execution_count": 115,
   "id": "48eb056e",
   "metadata": {},
   "outputs": [
    {
     "data": {
      "image/png": "[encoded data removed]",
      "text/plain": [
       "<Figure size 640x480 with 1 Axes>"
      ]
     },
     "metadata": {},
     "output_type": "display_data"
    }
   ],
   "source": [
    "import pandas as pd\n",
    "import seaborn as sns\n",
    "import matplotlib.pyplot as plt\n",
    "\n",
    "sns.set(style='darkgrid')\n",
    "\n",
    "# Plot data by stock\n",
    "sns.lineplot(data=Energy_Sector_df, x='Date', y='Open', hue='Symbol')\n",
    "\n",
    "plt.xticks(rotation=45)\n",
    "\n",
    "plt.show()"
   ]
  },
  {
   "cell_type": "code",
   "execution_count": null,
   "id": "e40ebe88",
   "metadata": {},
   "outputs": [],
   "source": []
  },
  {
   "cell_type": "code",
   "execution_count": null,
   "id": "9070dd7b",
   "metadata": {},
   "outputs": [],
   "source": []
  }
 ],
 "metadata": {
  "kernelspec": {
   "display_name": "Python 3 (ipykernel)",
   "language": "python",
   "name": "python3"
  },
  "language_info": {
   "codemirror_mode": {
    "name": "ipython",
    "version": 3
   },
   "file_extension": ".py",
   "mimetype": "text/x-python",
   "name": "python",
   "nbconvert_exporter": "python",
   "pygments_lexer": "ipython3",
   "version": "3.9.13"
  }
 },
 "nbformat": 4,
 "nbformat_minor": 5
}
