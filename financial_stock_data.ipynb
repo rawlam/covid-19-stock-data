{
 "cells": [
  {
   "cell_type": "code",
   "execution_count": 3,
   "id": "0c9c2f1a",
   "metadata": {},
   "outputs": [],
   "source": [
    "#Dependencies\n",
    "import pandas as pd\n",
    "import numpy as np\n",
    "import requests\n",
    "import json\n",
    "import yfinance as yf"
   ]
  },
  {
   "cell_type": "code",
   "execution_count": 4,
   "id": "e33e66ab",
   "metadata": {},
   "outputs": [],
   "source": [
    "tickers = ['JNJ', 'UNH', 'NVO', 'LLY', 'MRK', 'PLD', 'AMT', 'EQIX', 'CCI', 'PSA', 'AAPL', 'MSFT', 'NVDA', 'TSM', 'AVGO', 'BRK-B', 'JPM-PC', 'V', 'JPM', 'MA', 'XOM', 'CVX', 'SHEL', 'TTE', 'COP']\n",
    "\n",
    "data = {}\n",
    "\n",
    "for ticker in tickers:\n",
    "    try:\n",
    "        stock = yf.Ticker(ticker)\n",
    "        data[ticker] = pd.DataFrame({'Symbol': [ticker],\n",
    "                                      'Name': [stock.info['longName']]})\n",
    "    except IndexError:\n",
    "        data[ticker] = pd.DataFrame({'Symbol': [ticker],\n",
    "                                      'Name': [None],\n",
    "                                      'Open': [None]},\n",
    "                                      index=[None])\n",
    "\n",
    "master_df = pd.concat(data.values())"
   ]
  },
  {
   "cell_type": "code",
   "execution_count": 5,
   "id": "66798912",
   "metadata": {},
   "outputs": [
    {
     "data": {
      "text/html": [
       "<div>\n",
       "<style scoped>\n",
       "    .dataframe tbody tr th:only-of-type {\n",
       "        vertical-align: middle;\n",
       "    }\n",
       "\n",
       "    .dataframe tbody tr th {\n",
       "        vertical-align: top;\n",
       "    }\n",
       "\n",
       "    .dataframe thead th {\n",
       "        text-align: right;\n",
       "    }\n",
       "</style>\n",
       "<table border=\"1\" class=\"dataframe\">\n",
       "  <thead>\n",
       "    <tr style=\"text-align: right;\">\n",
       "      <th></th>\n",
       "      <th>Symbol</th>\n",
       "      <th>Name</th>\n",
       "    </tr>\n",
       "  </thead>\n",
       "  <tbody>\n",
       "    <tr>\n",
       "      <th>0</th>\n",
       "      <td>JNJ</td>\n",
       "      <td>Johnson &amp; Johnson</td>\n",
       "    </tr>\n",
       "    <tr>\n",
       "      <th>0</th>\n",
       "      <td>UNH</td>\n",
       "      <td>UnitedHealth Group Incorporated</td>\n",
       "    </tr>\n",
       "    <tr>\n",
       "      <th>0</th>\n",
       "      <td>NVO</td>\n",
       "      <td>Novo Nordisk A/S</td>\n",
       "    </tr>\n",
       "    <tr>\n",
       "      <th>0</th>\n",
       "      <td>LLY</td>\n",
       "      <td>Eli Lilly and Company</td>\n",
       "    </tr>\n",
       "    <tr>\n",
       "      <th>0</th>\n",
       "      <td>MRK</td>\n",
       "      <td>Merck &amp; Co., Inc.</td>\n",
       "    </tr>\n",
       "    <tr>\n",
       "      <th>0</th>\n",
       "      <td>PLD</td>\n",
       "      <td>Prologis, Inc.</td>\n",
       "    </tr>\n",
       "    <tr>\n",
       "      <th>0</th>\n",
       "      <td>AMT</td>\n",
       "      <td>American Tower Corporation</td>\n",
       "    </tr>\n",
       "    <tr>\n",
       "      <th>0</th>\n",
       "      <td>EQIX</td>\n",
       "      <td>Equinix, Inc.</td>\n",
       "    </tr>\n",
       "    <tr>\n",
       "      <th>0</th>\n",
       "      <td>CCI</td>\n",
       "      <td>Crown Castle Inc.</td>\n",
       "    </tr>\n",
       "    <tr>\n",
       "      <th>0</th>\n",
       "      <td>PSA</td>\n",
       "      <td>Public Storage</td>\n",
       "    </tr>\n",
       "    <tr>\n",
       "      <th>0</th>\n",
       "      <td>AAPL</td>\n",
       "      <td>Apple Inc.</td>\n",
       "    </tr>\n",
       "    <tr>\n",
       "      <th>0</th>\n",
       "      <td>MSFT</td>\n",
       "      <td>Microsoft Corporation</td>\n",
       "    </tr>\n",
       "    <tr>\n",
       "      <th>0</th>\n",
       "      <td>NVDA</td>\n",
       "      <td>NVIDIA Corporation</td>\n",
       "    </tr>\n",
       "    <tr>\n",
       "      <th>0</th>\n",
       "      <td>TSM</td>\n",
       "      <td>Taiwan Semiconductor Manufacturing Company Lim...</td>\n",
       "    </tr>\n",
       "    <tr>\n",
       "      <th>0</th>\n",
       "      <td>AVGO</td>\n",
       "      <td>Broadcom Inc.</td>\n",
       "    </tr>\n",
       "    <tr>\n",
       "      <th>0</th>\n",
       "      <td>BRK-B</td>\n",
       "      <td>Berkshire Hathaway Inc.</td>\n",
       "    </tr>\n",
       "    <tr>\n",
       "      <th>0</th>\n",
       "      <td>JPM-PC</td>\n",
       "      <td>JPMorgan Chase &amp; Co.</td>\n",
       "    </tr>\n",
       "    <tr>\n",
       "      <th>0</th>\n",
       "      <td>V</td>\n",
       "      <td>Visa Inc.</td>\n",
       "    </tr>\n",
       "    <tr>\n",
       "      <th>0</th>\n",
       "      <td>JPM</td>\n",
       "      <td>JPMorgan Chase &amp; Co.</td>\n",
       "    </tr>\n",
       "    <tr>\n",
       "      <th>0</th>\n",
       "      <td>MA</td>\n",
       "      <td>Mastercard Incorporated</td>\n",
       "    </tr>\n",
       "    <tr>\n",
       "      <th>0</th>\n",
       "      <td>XOM</td>\n",
       "      <td>Exxon Mobil Corporation</td>\n",
       "    </tr>\n",
       "    <tr>\n",
       "      <th>0</th>\n",
       "      <td>CVX</td>\n",
       "      <td>Chevron Corporation</td>\n",
       "    </tr>\n",
       "    <tr>\n",
       "      <th>0</th>\n",
       "      <td>SHEL</td>\n",
       "      <td>Shell plc</td>\n",
       "    </tr>\n",
       "    <tr>\n",
       "      <th>0</th>\n",
       "      <td>TTE</td>\n",
       "      <td>TotalEnergies SE</td>\n",
       "    </tr>\n",
       "    <tr>\n",
       "      <th>0</th>\n",
       "      <td>COP</td>\n",
       "      <td>ConocoPhillips</td>\n",
       "    </tr>\n",
       "  </tbody>\n",
       "</table>\n",
       "</div>"
      ],
      "text/plain": [
       "   Symbol                                               Name\n",
       "0     JNJ                                  Johnson & Johnson\n",
       "0     UNH                    UnitedHealth Group Incorporated\n",
       "0     NVO                                   Novo Nordisk A/S\n",
       "0     LLY                              Eli Lilly and Company\n",
       "0     MRK                                  Merck & Co., Inc.\n",
       "0     PLD                                     Prologis, Inc.\n",
       "0     AMT                         American Tower Corporation\n",
       "0    EQIX                                      Equinix, Inc.\n",
       "0     CCI                                  Crown Castle Inc.\n",
       "0     PSA                                     Public Storage\n",
       "0    AAPL                                         Apple Inc.\n",
       "0    MSFT                              Microsoft Corporation\n",
       "0    NVDA                                 NVIDIA Corporation\n",
       "0     TSM  Taiwan Semiconductor Manufacturing Company Lim...\n",
       "0    AVGO                                      Broadcom Inc.\n",
       "0   BRK-B                            Berkshire Hathaway Inc.\n",
       "0  JPM-PC                               JPMorgan Chase & Co.\n",
       "0       V                                          Visa Inc.\n",
       "0     JPM                               JPMorgan Chase & Co.\n",
       "0      MA                            Mastercard Incorporated\n",
       "0     XOM                            Exxon Mobil Corporation\n",
       "0     CVX                                Chevron Corporation\n",
       "0    SHEL                                          Shell plc\n",
       "0     TTE                                   TotalEnergies SE\n",
       "0     COP                                     ConocoPhillips"
      ]
     },
     "execution_count": 5,
     "metadata": {},
     "output_type": "execute_result"
    }
   ],
   "source": [
    "master_df.to_csv('Stock_List.csv', index=False)\n",
    "master_df"
   ]
  },
  {
   "cell_type": "code",
   "execution_count": 95,
   "id": "d03f2dc6",
   "metadata": {},
   "outputs": [
    {
     "ename": "IndentationError",
     "evalue": "unexpected indent (154872875.py, line 3)",
     "output_type": "error",
     "traceback": [
      "\u001b[0;36m  File \u001b[0;32m\"/var/folders/3r/fgm41fys63zcjnbbncdplfsm0000gn/T/ipykernel_46716/154872875.py\"\u001b[0;36m, line \u001b[0;32m3\u001b[0m\n\u001b[0;31m    brk-a\u001b[0m\n\u001b[0m    ^\u001b[0m\n\u001b[0;31mIndentationError\u001b[0m\u001b[0;31m:\u001b[0m unexpected indent\n"
     ]
    }
   ],
   "source": [
    "#Financial Sector\n",
    "brk-b\n",
    "\tbrk-a\n",
    "\tv\n",
    "\tjpm\n",
    "\tma\n"
   ]
  },
  {
   "cell_type": "code",
   "execution_count": 72,
   "id": "08673040",
   "metadata": {},
   "outputs": [
    {
     "name": "stdout",
     "output_type": "stream",
     "text": [
      "                           Symbol                     Name        Open\n",
      "2020-01-06 00:00:00-05:00   BRK-B  Berkshire Hathaway Inc.  224.990005\n",
      "2020-01-06 00:00:00-05:00  JPM-PC     JPMorgan Chase & Co.   23.907414\n",
      "2020-01-06 00:00:00-05:00       V                Visa Inc.  183.954577\n",
      "2020-01-06 00:00:00-05:00     JPM     JPMorgan Chase & Co.  123.524350\n",
      "2020-01-06 00:00:00-05:00      MA  Mastercard Incorporated  291.675573\n"
     ]
    }
   ],
   "source": [
    "#Financial Sector\n",
    "#request etflist ticker data from yfinance dated 1-3,2020\n",
    "tickers = ['BRK-B', 'JPM-PC', 'V', 'JPM', 'MA']\n",
    "\n",
    "data = {}\n",
    "\n",
    "for ticker in tickers:\n",
    "    try:\n",
    "        stock = yf.Ticker(ticker)\n",
    "        hist1 = stock.history(period='4y')\n",
    "        data[ticker] = pd.DataFrame({'Symbol': [ticker],\n",
    "                                      'Name': [stock.info['longName']],\n",
    "                                      'Open': [hist1.iloc[-827]['Open']]},\n",
    "                                      index=[hist1.index[-827]])\n",
    "    except IndexError:\n",
    "        data[ticker] = pd.DataFrame({'Symbol': [ticker],\n",
    "                                      'Name': [None],\n",
    "                                      'Open': [None]},\n",
    "                                      index=[None])\n",
    "\n",
    "df61 = pd.concat(data.values())\n",
    "print(df61)"
   ]
  },
  {
   "cell_type": "code",
   "execution_count": 73,
   "id": "6dbf095c",
   "metadata": {},
   "outputs": [
    {
     "name": "stdout",
     "output_type": "stream",
     "text": [
      "                           Symbol                     Name        Open\n",
      "2020-03-03 00:00:00-05:00   BRK-B  Berkshire Hathaway Inc.  217.389999\n",
      "2020-03-03 00:00:00-05:00  JPM-PC     JPMorgan Chase & Co.   23.200076\n",
      "2020-03-03 00:00:00-05:00       V                Visa Inc.  189.316474\n",
      "2020-03-03 00:00:00-05:00     JPM     JPMorgan Chase & Co.  109.422521\n",
      "2020-03-03 00:00:00-05:00      MA  Mastercard Incorporated  308.987926\n"
     ]
    }
   ],
   "source": [
    "#Financial Sector\n",
    "#request etflist ticker data from yfinance dated 3-2,2020\n",
    "tickers = ['BRK-B', 'JPM-PC', 'V', 'JPM', 'MA']\n",
    "\n",
    "data = {}\n",
    "\n",
    "for ticker in tickers:\n",
    "    try:\n",
    "        stock = yf.Ticker(ticker)\n",
    "        hist2 = stock.history(period='4y')\n",
    "        data[ticker] = pd.DataFrame({'Symbol': [ticker],\n",
    "                                      'Name': [stock.info['longName']],\n",
    "                                      'Open': [hist2.iloc[-788]['Open']]},\n",
    "                                      index=[hist2.index[-788]])\n",
    "    except IndexError:\n",
    "        data[ticker] = pd.DataFrame({'Symbol': [ticker],\n",
    "                                      'Name': [None],\n",
    "                                      'Open': [None]},\n",
    "                                      index=[None])\n",
    "\n",
    "df62 = pd.concat(data.values())\n",
    "print(df62)"
   ]
  },
  {
   "cell_type": "code",
   "execution_count": 74,
   "id": "4800889b",
   "metadata": {},
   "outputs": [
    {
     "name": "stdout",
     "output_type": "stream",
     "text": [
      "                           Symbol                     Name        Open\n",
      "2020-05-04 00:00:00-04:00   BRK-B  Berkshire Hathaway Inc.  179.779999\n",
      "2020-05-04 00:00:00-04:00  JPM-PC     JPMorgan Chase & Co.   22.896705\n",
      "2020-05-04 00:00:00-04:00       V                Visa Inc.  169.473503\n",
      "2020-05-04 00:00:00-04:00     JPM     JPMorgan Chase & Co.   84.100942\n",
      "2020-05-04 00:00:00-04:00      MA  Mastercard Incorporated  261.175291\n"
     ]
    }
   ],
   "source": [
    "#Financial Sector\n",
    "#request etflist ticker data from yfinance dated 5-1,2020\n",
    "tickers = ['BRK-B', 'JPM-PC', 'V', 'JPM', 'MA']\n",
    "\n",
    "data = {}\n",
    "\n",
    "for ticker in tickers:\n",
    "    try:\n",
    "        stock = yf.Ticker(ticker)\n",
    "        hist3 = stock.history(period='4y')\n",
    "        data[ticker] = pd.DataFrame({'Symbol': [ticker],\n",
    "                                      'Name': [stock.info['longName']],\n",
    "                                      'Open': [hist3.iloc[-745]['Open']]},\n",
    "                                      index=[hist3.index[-745]])\n",
    "    except IndexError:\n",
    "        data[ticker] = pd.DataFrame({'Symbol': [ticker],\n",
    "                                      'Name': [None],\n",
    "                                      'Open': [None]},\n",
    "                                      index=[None])\n",
    "\n",
    "df63 = pd.concat(data.values())\n",
    "print(df63)"
   ]
  },
  {
   "cell_type": "code",
   "execution_count": 75,
   "id": "a8886176",
   "metadata": {},
   "outputs": [
    {
     "name": "stdout",
     "output_type": "stream",
     "text": [
      "                           Symbol                     Name        Open\n",
      "2020-07-02 00:00:00-04:00   BRK-B  Berkshire Hathaway Inc.  180.449997\n",
      "2020-07-02 00:00:00-04:00  JPM-PC     JPMorgan Chase & Co.   23.710352\n",
      "2020-07-02 00:00:00-04:00       V                Visa Inc.  192.381771\n",
      "2020-07-02 00:00:00-04:00     JPM     JPMorgan Chase & Co.   87.430611\n",
      "2020-07-02 00:00:00-04:00      MA  Mastercard Incorporated  299.372850\n"
     ]
    }
   ],
   "source": [
    "#Financial Sector\n",
    "#request etflist ticker data from yfinance dated 7-1,2020\n",
    "tickers = ['BRK-B', 'JPM-PC', 'V', 'JPM', 'MA']\n",
    "\n",
    "data = {}\n",
    "\n",
    "for ticker in tickers:\n",
    "    try:\n",
    "        stock = yf.Ticker(ticker)\n",
    "        hist4 = stock.history(period='4y')\n",
    "        data[ticker] = pd.DataFrame({'Symbol': [ticker],\n",
    "                                      'Name': [stock.info['longName']],\n",
    "                                      'Open': [hist4.iloc[-703]['Open']]},\n",
    "                                      index=[hist4.index[-703]])\n",
    "    except IndexError:\n",
    "        data[ticker] = pd.DataFrame({'Symbol': [ticker],\n",
    "                                      'Name': [None],\n",
    "                                      'Open': [None]},\n",
    "                                      index=[None])\n",
    "\n",
    "df64 = pd.concat(data.values())\n",
    "print(df64)"
   ]
  },
  {
   "cell_type": "code",
   "execution_count": 76,
   "id": "de2045a0",
   "metadata": {},
   "outputs": [
    {
     "name": "stdout",
     "output_type": "stream",
     "text": [
      "                           Symbol                     Name        Open\n",
      "2020-09-02 00:00:00-04:00   BRK-B  Berkshire Hathaway Inc.  218.130005\n",
      "2020-09-02 00:00:00-04:00  JPM-PC     JPMorgan Chase & Co.   24.293320\n",
      "2020-09-02 00:00:00-04:00       V                Visa Inc.  210.494850\n",
      "2020-09-02 00:00:00-04:00     JPM     JPMorgan Chase & Co.   92.238649\n",
      "2020-09-02 00:00:00-04:00      MA  Mastercard Incorporated  352.038062\n"
     ]
    }
   ],
   "source": [
    "#Financial Sector\n",
    "#request etflist ticker data from yfinance dated 9-1,2020\n",
    "tickers = ['BRK-B', 'JPM-PC', 'V', 'JPM', 'MA']\n",
    "\n",
    "data = {}\n",
    "\n",
    "for ticker in tickers:\n",
    "    try:\n",
    "        stock = yf.Ticker(ticker)\n",
    "        hist5 = stock.history(period='4y')\n",
    "        data[ticker] = pd.DataFrame({'Symbol': [ticker],\n",
    "                                      'Name': [stock.info['longName']],\n",
    "                                      'Open': [hist5.iloc[-660]['Open']]},\n",
    "                                      index=[hist5.index[-660]])\n",
    "    except IndexError:\n",
    "        data[ticker] = pd.DataFrame({'Symbol': [ticker],\n",
    "                                      'Name': [None],\n",
    "                                      'Open': [None]},\n",
    "                                      index=[None])\n",
    "\n",
    "df65 = pd.concat(data.values())\n",
    "print(df65)"
   ]
  },
  {
   "cell_type": "code",
   "execution_count": 77,
   "id": "94c25092",
   "metadata": {},
   "outputs": [
    {
     "name": "stdout",
     "output_type": "stream",
     "text": [
      "                           Symbol                     Name        Open\n",
      "2020-11-03 00:00:00-05:00   BRK-B  Berkshire Hathaway Inc.  206.929993\n",
      "2020-11-03 00:00:00-05:00  JPM-PC     JPMorgan Chase & Co.   24.179564\n",
      "2020-11-03 00:00:00-05:00       V                Visa Inc.  183.658309\n",
      "2020-11-03 00:00:00-05:00     JPM     JPMorgan Chase & Co.   95.953981\n",
      "2020-11-03 00:00:00-05:00      MA  Mastercard Incorporated  290.378385\n"
     ]
    }
   ],
   "source": [
    "#Financial Sector\n",
    "#request etflist ticker data from yfinance dated 11-2,2020\n",
    "tickers = ['BRK-B', 'JPM-PC', 'V', 'JPM', 'MA']\n",
    "\n",
    "data = {}\n",
    "\n",
    "for ticker in tickers:\n",
    "    try:\n",
    "        stock = yf.Ticker(ticker)\n",
    "        hist6 = stock.history(period='4y')\n",
    "        data[ticker] = pd.DataFrame({'Symbol': [ticker],\n",
    "                                      'Name': [stock.info['longName']],\n",
    "                                      'Open': [hist6.iloc[-617]['Open']]},\n",
    "                                      index=[hist6.index[-617]])\n",
    "    except IndexError:\n",
    "        data[ticker] = pd.DataFrame({'Symbol': [ticker],\n",
    "                                      'Name': [None],\n",
    "                                      'Open': [None]},\n",
    "                                      index=[None])\n",
    "\n",
    "df66 = pd.concat(data.values())\n",
    "print(df66)"
   ]
  },
  {
   "cell_type": "code",
   "execution_count": 78,
   "id": "6b55e349",
   "metadata": {},
   "outputs": [
    {
     "name": "stdout",
     "output_type": "stream",
     "text": [
      "                           Symbol                     Name        Open\n",
      "2021-01-05 00:00:00-05:00   BRK-B  Berkshire Hathaway Inc.  228.210007\n",
      "2021-01-05 00:00:00-05:00  JPM-PC     JPMorgan Chase & Co.   24.937101\n",
      "2021-01-05 00:00:00-05:00       V                Visa Inc.  212.958223\n",
      "2021-01-05 00:00:00-05:00     JPM     JPMorgan Chase & Co.  117.255502\n",
      "2021-01-05 00:00:00-05:00      MA  Mastercard Incorporated  343.976767\n"
     ]
    }
   ],
   "source": [
    "#Financial Sector\n",
    "#request etflist ticker data from yfinance dated 1-4,2021\n",
    "tickers = ['BRK-B', 'JPM-PC', 'V', 'JPM', 'MA']\n",
    "\n",
    "data = {}\n",
    "\n",
    "for ticker in tickers:\n",
    "    try:\n",
    "        stock = yf.Ticker(ticker)\n",
    "        hist7 = stock.history(period='4y')\n",
    "        data[ticker] = pd.DataFrame({'Symbol': [ticker],\n",
    "                                      'Name': [stock.info['longName']],\n",
    "                                      'Open': [hist7.iloc[-575]['Open']]},\n",
    "                                      index=[hist7.index[-575]])\n",
    "    except IndexError:\n",
    "        data[ticker] = pd.DataFrame({'Symbol': [ticker],\n",
    "                                      'Name': [None],\n",
    "                                      'Open': [None]},\n",
    "                                      index=[None])\n",
    "\n",
    "df67 = pd.concat(data.values())\n",
    "print(df67)"
   ]
  },
  {
   "cell_type": "code",
   "execution_count": 79,
   "id": "d204e884",
   "metadata": {},
   "outputs": [
    {
     "name": "stdout",
     "output_type": "stream",
     "text": [
      "                           Symbol                     Name        Open\n",
      "2021-03-02 00:00:00-05:00   BRK-B  Berkshire Hathaway Inc.  249.119995\n",
      "2021-03-02 00:00:00-05:00  JPM-PC     JPMorgan Chase & Co.   24.350063\n",
      "2021-03-02 00:00:00-05:00       V                Visa Inc.  213.929760\n",
      "2021-03-02 00:00:00-05:00     JPM     JPMorgan Chase & Co.  140.792909\n",
      "2021-03-02 00:00:00-05:00      MA  Mastercard Incorporated  357.446807\n"
     ]
    }
   ],
   "source": [
    "#Financial Sector\n",
    "#request etflist ticker data from yfinance dated 3-2021\n",
    "tickers = ['BRK-B', 'JPM-PC', 'V', 'JPM', 'MA']\n",
    "\n",
    "data = {}\n",
    "\n",
    "for ticker in tickers:\n",
    "    try:\n",
    "        stock = yf.Ticker(ticker)\n",
    "        hist8 = stock.history(period='4y')\n",
    "        data[ticker] = pd.DataFrame({'Symbol': [ticker],\n",
    "                                      'Name': [stock.info['longName']],\n",
    "                                      'Open': [hist8.iloc[-537]['Open']]},\n",
    "                                      index=[hist8.index[-537]])\n",
    "    except IndexError:\n",
    "        data[ticker] = pd.DataFrame({'Symbol': [ticker],\n",
    "                                      'Name': [None],\n",
    "                                      'Open': [None]},\n",
    "                                      index=[None])\n",
    "\n",
    "df68 = pd.concat(data.values())\n",
    "print(df68)"
   ]
  },
  {
   "cell_type": "code",
   "execution_count": 80,
   "id": "970e9bce",
   "metadata": {},
   "outputs": [
    {
     "name": "stdout",
     "output_type": "stream",
     "text": [
      "                           Symbol                     Name        Open\n",
      "2021-05-04 00:00:00-04:00   BRK-B  Berkshire Hathaway Inc.  278.540009\n",
      "2021-05-04 00:00:00-04:00  JPM-PC     JPMorgan Chase & Co.   25.103800\n",
      "2021-05-04 00:00:00-04:00       V                Visa Inc.  228.365274\n",
      "2021-05-04 00:00:00-04:00     JPM     JPMorgan Chase & Co.  144.254922\n",
      "2021-05-04 00:00:00-04:00      MA  Mastercard Incorporated  372.769271\n"
     ]
    }
   ],
   "source": [
    "#Financial Sector\n",
    "#request etflist ticker data from yfinance dated 5-3-2021\n",
    "tickers = ['BRK-B', 'JPM-PC', 'V', 'JPM', 'MA']\n",
    "\n",
    "data = {}\n",
    "\n",
    "for ticker in tickers:\n",
    "    try:\n",
    "        stock = yf.Ticker(ticker)\n",
    "        hist9 = stock.history(period='4y')\n",
    "        data[ticker] = pd.DataFrame({'Symbol': [ticker],\n",
    "                                      'Name': [stock.info['longName']],\n",
    "                                      'Open': [hist9.iloc[-493]['Open']]},\n",
    "                                      index=[hist9.index[-493]])\n",
    "    except IndexError:\n",
    "        data[ticker] = pd.DataFrame({'Symbol': [ticker],\n",
    "                                      'Name': [None],\n",
    "                                      'Open': [None]},\n",
    "                                      index=[None])\n",
    "\n",
    "df69 = pd.concat(data.values())\n",
    "print(df69)"
   ]
  },
  {
   "cell_type": "code",
   "execution_count": 81,
   "id": "180e599e",
   "metadata": {},
   "outputs": [
    {
     "name": "stdout",
     "output_type": "stream",
     "text": [
      "                           Symbol                     Name        Open\n",
      "2021-07-02 00:00:00-04:00   BRK-B  Berkshire Hathaway Inc.  281.410004\n",
      "2021-07-02 00:00:00-04:00  JPM-PC     JPMorgan Chase & Co.   26.072118\n",
      "2021-07-02 00:00:00-04:00       V                Visa Inc.  232.873964\n",
      "2021-07-02 00:00:00-04:00     JPM     JPMorgan Chase & Co.  148.009384\n",
      "2021-07-02 00:00:00-04:00      MA  Mastercard Incorporated  368.439226\n"
     ]
    }
   ],
   "source": [
    "#Financial Sector\n",
    "#request etflist ticker data from yfinance dated 7-1-2021\n",
    "tickers = ['BRK-B', 'JPM-PC', 'V', 'JPM', 'MA']\n",
    "\n",
    "data = {}\n",
    "\n",
    "for ticker in tickers:\n",
    "    try:\n",
    "        stock = yf.Ticker(ticker)\n",
    "        hist10 = stock.history(period='4y')\n",
    "        data[ticker] = pd.DataFrame({'Symbol': [ticker],\n",
    "                                      'Name': [stock.info['longName']],\n",
    "                                      'Open': [hist10.iloc[-451]['Open']]},\n",
    "                                      index=[hist10.index[-451]])\n",
    "    except IndexError:\n",
    "        data[ticker] = pd.DataFrame({'Symbol': [ticker],\n",
    "                                      'Name': [None],\n",
    "                                      'Open': [None]},\n",
    "                                      index=[None])\n",
    "\n",
    "df70 = pd.concat(data.values())\n",
    "print(df70)"
   ]
  },
  {
   "cell_type": "code",
   "execution_count": 82,
   "id": "2dc2d9a5",
   "metadata": {},
   "outputs": [
    {
     "name": "stdout",
     "output_type": "stream",
     "text": [
      "                           Symbol                     Name        Open\n",
      "2021-09-02 00:00:00-04:00   BRK-B  Berkshire Hathaway Inc.  285.350006\n",
      "2021-09-02 00:00:00-04:00  JPM-PC     JPMorgan Chase & Co.   25.488963\n",
      "2021-09-02 00:00:00-04:00       V                Visa Inc.  227.851809\n",
      "2021-09-02 00:00:00-04:00     JPM     JPMorgan Chase & Co.  151.872151\n",
      "2021-09-02 00:00:00-04:00      MA  Mastercard Incorporated  346.920429\n"
     ]
    }
   ],
   "source": [
    "#Financial Sector\n",
    "#request etflist ticker data from yfinance dated 9-1-2021\n",
    "tickers = ['BRK-B', 'JPM-PC', 'V', 'JPM', 'MA']\n",
    "\n",
    "data = {}\n",
    "\n",
    "for ticker in tickers:\n",
    "    try:\n",
    "        stock = yf.Ticker(ticker)\n",
    "        hist11 = stock.history(period='4y')\n",
    "        data[ticker] = pd.DataFrame({'Symbol': [ticker],\n",
    "                                      'Name': [stock.info['longName']],\n",
    "                                      'Open': [hist11.iloc[-408]['Open']]},\n",
    "                                      index=[hist11.index[-408]])\n",
    "    except IndexError:\n",
    "        data[ticker] = pd.DataFrame({'Symbol': [ticker],\n",
    "                                      'Name': [None],\n",
    "                                      'Open': [None]},\n",
    "                                      index=[None])\n",
    "\n",
    "df71 = pd.concat(data.values())\n",
    "print(df71)"
   ]
  },
  {
   "cell_type": "code",
   "execution_count": 83,
   "id": "2cbd60ea",
   "metadata": {},
   "outputs": [
    {
     "name": "stdout",
     "output_type": "stream",
     "text": [
      "                           Symbol                     Name        Open\n",
      "2021-11-02 00:00:00-04:00   BRK-B  Berkshire Hathaway Inc.  286.609985\n",
      "2021-11-02 00:00:00-04:00  JPM-PC     JPMorgan Chase & Co.   25.778812\n",
      "2021-11-02 00:00:00-04:00       V                Visa Inc.  210.775060\n",
      "2021-11-02 00:00:00-04:00     JPM     JPMorgan Chase & Co.  162.125254\n",
      "2021-11-02 00:00:00-04:00      MA  Mastercard Incorporated  332.117032\n"
     ]
    }
   ],
   "source": [
    "#Financial Sector\n",
    "#request etflist ticker data from yfinance dated 11-1-1021\n",
    "tickers = ['BRK-B', 'JPM-PC', 'V', 'JPM', 'MA']\n",
    "\n",
    "data = {}\n",
    "\n",
    "for ticker in tickers:\n",
    "    try:\n",
    "        stock = yf.Ticker(ticker)\n",
    "        hist12 = stock.history(period='4y')\n",
    "        data[ticker] = pd.DataFrame({'Symbol': [ticker],\n",
    "                                      'Name': [stock.info['longName']],\n",
    "                                      'Open': [hist12.iloc[-366]['Open']]},\n",
    "                                      index=[hist12.index[-366]])\n",
    "    except IndexError:\n",
    "        data[ticker] = pd.DataFrame({'Symbol': [ticker],\n",
    "                                      'Name': [None],\n",
    "                                      'Open': [None]},\n",
    "                                      index=[None])\n",
    "\n",
    "df72 = pd.concat(data.values())\n",
    "print(df72)"
   ]
  },
  {
   "cell_type": "code",
   "execution_count": 84,
   "id": "693c9c76",
   "metadata": {},
   "outputs": [
    {
     "name": "stdout",
     "output_type": "stream",
     "text": [
      "                           Symbol                     Name        Open\n",
      "2022-01-04 00:00:00-05:00   BRK-B  Berkshire Hathaway Inc.  301.649994\n",
      "2022-01-04 00:00:00-05:00  JPM-PC     JPMorgan Chase & Co.   25.248920\n",
      "2022-01-04 00:00:00-05:00       V                Visa Inc.  219.902585\n",
      "2022-01-04 00:00:00-05:00     JPM     JPMorgan Chase & Co.  156.883404\n",
      "2022-01-04 00:00:00-05:00      MA  Mastercard Incorporated  368.645589\n"
     ]
    }
   ],
   "source": [
    "#Financial Sector\n",
    "#request etflist ticker data from yfinance dated 1-3-2022\n",
    "tickers = ['BRK-B', 'JPM-PC', 'V', 'JPM', 'MA']\n",
    "\n",
    "data = {}\n",
    "\n",
    "for ticker in tickers:\n",
    "    try:\n",
    "        stock = yf.Ticker(ticker)\n",
    "        hist13 = stock.history(period='4y')\n",
    "        data[ticker] = pd.DataFrame({'Symbol': [ticker],\n",
    "                                      'Name': [stock.info['longName']],\n",
    "                                      'Open': [hist13.iloc[-323]['Open']]},\n",
    "                                      index=[hist13.index[-323]])\n",
    "    except IndexError:\n",
    "        data[ticker] = pd.DataFrame({'Symbol': [ticker],\n",
    "                                      'Name': [None],\n",
    "                                      'Open': [None]},\n",
    "                                      index=[None])\n",
    "\n",
    "df73 = pd.concat(data.values())\n",
    "print(df73)"
   ]
  },
  {
   "cell_type": "code",
   "execution_count": 85,
   "id": "5d76979c",
   "metadata": {},
   "outputs": [
    {
     "name": "stdout",
     "output_type": "stream",
     "text": [
      "                           Symbol                     Name        Open\n",
      "2022-03-02 00:00:00-05:00   BRK-B  Berkshire Hathaway Inc.  319.480011\n",
      "2022-03-02 00:00:00-05:00  JPM-PC     JPMorgan Chase & Co.   25.080448\n",
      "2022-03-02 00:00:00-05:00       V                Visa Inc.  205.278693\n",
      "2022-03-02 00:00:00-05:00     JPM     JPMorgan Chase & Co.  131.870396\n",
      "2022-03-02 00:00:00-05:00      MA  Mastercard Incorporated  340.322594\n"
     ]
    }
   ],
   "source": [
    "#Financial Sector\n",
    "#request etflist ticker data from yfinance dated 3-1-2022\n",
    "tickers = ['BRK-B', 'JPM-PC', 'V', 'JPM', 'MA']\n",
    "\n",
    "data = {}\n",
    "\n",
    "for ticker in tickers:\n",
    "    try:\n",
    "        stock = yf.Ticker(ticker)\n",
    "        hist14 = stock.history(period='4y')\n",
    "        data[ticker] = pd.DataFrame({'Symbol': [ticker],\n",
    "                                      'Name': [stock.info['longName']],\n",
    "                                      'Open': [hist14.iloc[-284]['Open']]},\n",
    "                                      index=[hist14.index[-284]])\n",
    "    except IndexError:\n",
    "        data[ticker] = pd.DataFrame({'Symbol': [ticker],\n",
    "                                      'Name': [None],\n",
    "                                      'Open': [None]},\n",
    "                                      index=[None])\n",
    "\n",
    "df74 = pd.concat(data.values())\n",
    "print(df74)"
   ]
  },
  {
   "cell_type": "code",
   "execution_count": 86,
   "id": "71beebb3",
   "metadata": {},
   "outputs": [
    {
     "name": "stdout",
     "output_type": "stream",
     "text": [
      "                           Symbol                     Name        Open\n",
      "2022-05-03 00:00:00-04:00   BRK-B  Berkshire Hathaway Inc.  319.420013\n",
      "2022-05-03 00:00:00-04:00  JPM-PC     JPMorgan Chase & Co.   23.633839\n",
      "2022-05-03 00:00:00-04:00       V                Visa Inc.  211.936120\n",
      "2022-05-03 00:00:00-04:00     JPM     JPMorgan Chase & Co.  117.597804\n",
      "2022-05-03 00:00:00-04:00      MA  Mastercard Incorporated  359.307341\n"
     ]
    }
   ],
   "source": [
    "#Financial Sector\n",
    "#request etflist ticker data from yfinance dated 5-2-2022\n",
    "tickers = ['BRK-B', 'JPM-PC', 'V', 'JPM', 'MA']\n",
    "\n",
    "data = {}\n",
    "\n",
    "for ticker in tickers:\n",
    "    try:\n",
    "        stock = yf.Ticker(ticker)\n",
    "        hist15 = stock.history(period='4y')\n",
    "        data[ticker] = pd.DataFrame({'Symbol': [ticker],\n",
    "                                      'Name': [stock.info['longName']],\n",
    "                                      'Open': [hist15.iloc[-241]['Open']]},\n",
    "                                      index=[hist15.index[-241]])\n",
    "    except IndexError:\n",
    "        data[ticker] = pd.DataFrame({'Symbol': [ticker],\n",
    "                                      'Name': [None],\n",
    "                                      'Open': [None]},\n",
    "                                      index=[None])\n",
    "\n",
    "df75 = pd.concat(data.values())\n",
    "print(df75)"
   ]
  },
  {
   "cell_type": "code",
   "execution_count": 87,
   "id": "53af0a02",
   "metadata": {},
   "outputs": [
    {
     "name": "stdout",
     "output_type": "stream",
     "text": [
      "                           Symbol                     Name        Open\n",
      "2022-07-05 00:00:00-04:00   BRK-B  Berkshire Hathaway Inc.  274.200012\n",
      "2022-07-05 00:00:00-04:00  JPM-PC     JPMorgan Chase & Co.   24.695926\n",
      "2022-07-05 00:00:00-04:00       V                Visa Inc.  195.064135\n",
      "2022-07-05 00:00:00-04:00     JPM     JPMorgan Chase & Co.  108.134073\n",
      "2022-07-05 00:00:00-04:00      MA  Mastercard Incorporated  311.103528\n"
     ]
    }
   ],
   "source": [
    "#Financial Sector\n",
    "#request etflist ticker data from yfinance dated 7-1-2022\n",
    "tickers = ['BRK-B', 'JPM-PC', 'V', 'JPM', 'MA']\n",
    "\n",
    "data = {}\n",
    "\n",
    "for ticker in tickers:\n",
    "    try:\n",
    "        stock = yf.Ticker(ticker)\n",
    "        hist16 = stock.history(period='4y')\n",
    "        data[ticker] = pd.DataFrame({'Symbol': [ticker],\n",
    "                                      'Name': [stock.info['longName']],\n",
    "                                      'Open': [hist16.iloc[-199]['Open']]},\n",
    "                                      index=[hist16.index[-199]])\n",
    "    except IndexError:\n",
    "        data[ticker] = pd.DataFrame({'Symbol': [ticker],\n",
    "                                      'Name': [None],\n",
    "                                      'Open': [None]},\n",
    "                                      index=[None])\n",
    "\n",
    "df76 = pd.concat(data.values())\n",
    "print(df76)"
   ]
  },
  {
   "cell_type": "code",
   "execution_count": 88,
   "id": "ad70ca81",
   "metadata": {},
   "outputs": [
    {
     "name": "stdout",
     "output_type": "stream",
     "text": [
      "                           Symbol                     Name        Open\n",
      "2022-09-02 00:00:00-04:00   BRK-B  Berkshire Hathaway Inc.  284.839996\n",
      "2022-09-02 00:00:00-04:00  JPM-PC     JPMorgan Chase & Co.   24.593580\n",
      "2022-09-02 00:00:00-04:00       V                Visa Inc.  201.593686\n",
      "2022-09-02 00:00:00-04:00     JPM     JPMorgan Chase & Co.  113.112723\n",
      "2022-09-02 00:00:00-04:00      MA  Mastercard Incorporated  327.832211\n"
     ]
    }
   ],
   "source": [
    "#Financial Sector\n",
    "#request etflist ticker data from yfinance dated 9-1-2022\n",
    "tickers = ['BRK-B', 'JPM-PC', 'V', 'JPM', 'MA']\n",
    "\n",
    "data = {}\n",
    "\n",
    "for ticker in tickers:\n",
    "    try:\n",
    "        stock = yf.Ticker(ticker)\n",
    "        hist17 = stock.history(period='4y')\n",
    "        data[ticker] = pd.DataFrame({'Symbol': [ticker],\n",
    "                                      'Name': [stock.info['longName']],\n",
    "                                      'Open': [hist17.iloc[-156]['Open']]},\n",
    "                                      index=[hist17.index[-156]])\n",
    "    except IndexError:\n",
    "        data[ticker] = pd.DataFrame({'Symbol': [ticker],\n",
    "                                      'Name': [None],\n",
    "                                      'Open': [None]},\n",
    "                                      index=[None])\n",
    "\n",
    "df77= pd.concat(data.values())\n",
    "print(df77)"
   ]
  },
  {
   "cell_type": "code",
   "execution_count": 89,
   "id": "308942a2",
   "metadata": {},
   "outputs": [
    {
     "name": "stdout",
     "output_type": "stream",
     "text": [
      "                           Symbol                     Name        Open\n",
      "2022-11-02 00:00:00-04:00   BRK-B  Berkshire Hathaway Inc.  293.040009\n",
      "2022-11-02 00:00:00-04:00  JPM-PC     JPMorgan Chase & Co.   24.004690\n",
      "2022-11-02 00:00:00-04:00       V                Visa Inc.  204.899798\n",
      "2022-11-02 00:00:00-04:00     JPM     JPMorgan Chase & Co.  125.727299\n",
      "2022-11-02 00:00:00-04:00      MA  Mastercard Incorporated  330.364705\n"
     ]
    }
   ],
   "source": [
    "#Financial Sector\n",
    "#request etflist ticker data from yfinance dated 11-1-2022\n",
    "tickers = ['BRK-B', 'JPM-PC', 'V', 'JPM', 'MA']\n",
    "\n",
    "data = {}\n",
    "\n",
    "for ticker in tickers:\n",
    "    try:\n",
    "        stock = yf.Ticker(ticker)\n",
    "        hist18 = stock.history(period='4y')\n",
    "        data[ticker] = pd.DataFrame({'Symbol': [ticker],\n",
    "                                      'Name': [stock.info['longName']],\n",
    "                                      'Open': [hist18.iloc[-114]['Open']]},\n",
    "                                      index=[hist18.index[-114]])\n",
    "    except IndexError:\n",
    "        data[ticker] = pd.DataFrame({'Symbol': [ticker],\n",
    "                                      'Name': [None],\n",
    "                                      'Open': [None]},\n",
    "                                      index=[None])\n",
    "\n",
    "df78 = pd.concat(data.values())\n",
    "print(df78)"
   ]
  },
  {
   "cell_type": "code",
   "execution_count": 90,
   "id": "e28e29e0",
   "metadata": {},
   "outputs": [
    {
     "name": "stdout",
     "output_type": "stream",
     "text": [
      "                           Symbol                     Name        Open\n",
      "2023-01-04 00:00:00-05:00   BRK-B  Berkshire Hathaway Inc.  312.000000\n",
      "2023-01-04 00:00:00-05:00  JPM-PC     JPMorgan Chase & Co.   24.783167\n",
      "2023-01-04 00:00:00-05:00       V                Visa Inc.  209.210236\n",
      "2023-01-04 00:00:00-05:00     JPM     JPMorgan Chase & Co.  133.941681\n",
      "2023-01-04 00:00:00-05:00      MA  Mastercard Incorporated  350.271128\n"
     ]
    }
   ],
   "source": [
    "#Financial Sector\n",
    "#request etflist ticker data from yfinance dated 1-3-2023\n",
    "tickers = ['BRK-B', 'JPM-PC', 'V', 'JPM', 'MA']\n",
    "\n",
    "data = {}\n",
    "\n",
    "for ticker in tickers:\n",
    "    try:\n",
    "        stock = yf.Ticker(ticker)\n",
    "        hist19 = stock.history(period='4y')\n",
    "        data[ticker] = pd.DataFrame({'Symbol': [ticker],\n",
    "                                      'Name': [stock.info['longName']],\n",
    "                                      'Open': [hist19.iloc[-72]['Open']]},\n",
    "                                      index=[hist19.index[-72]])\n",
    "    except IndexError:\n",
    "        data[ticker] = pd.DataFrame({'Symbol': [ticker],\n",
    "                                      'Name': [None],\n",
    "                                      'Open': [None]},\n",
    "                                      index=[None])\n",
    "\n",
    "df79 = pd.concat(data.values())\n",
    "print(df79)"
   ]
  },
  {
   "cell_type": "code",
   "execution_count": 91,
   "id": "67116732",
   "metadata": {},
   "outputs": [
    {
     "name": "stdout",
     "output_type": "stream",
     "text": [
      "                           Symbol                     Name        Open\n",
      "2023-03-02 00:00:00-05:00   BRK-B  Berkshire Hathaway Inc.  303.660004\n",
      "2023-03-02 00:00:00-05:00  JPM-PC     JPMorgan Chase & Co.   25.240000\n",
      "2023-03-02 00:00:00-05:00       V                Visa Inc.  217.889999\n",
      "2023-03-02 00:00:00-05:00     JPM     JPMorgan Chase & Co.  141.132399\n",
      "2023-03-02 00:00:00-05:00      MA  Mastercard Incorporated  353.076098\n"
     ]
    }
   ],
   "source": [
    "#Financial Sector\n",
    "#request etflist ticker data from yfinance dated 3-1-2023\n",
    "tickers = ['BRK-B', 'JPM-PC', 'V', 'JPM', 'MA']\n",
    "\n",
    "data = {}\n",
    "\n",
    "for ticker in tickers:\n",
    "    try:\n",
    "        stock = yf.Ticker(ticker)\n",
    "        hist20 = stock.history(period='4y')\n",
    "        data[ticker] = pd.DataFrame({'Symbol': [ticker],\n",
    "                                      'Name': [stock.info['longName']],\n",
    "                                      'Open': [hist20.iloc[-33]['Open']]},\n",
    "                                      index=[hist20.index[-33]])\n",
    "    except IndexError:\n",
    "        data[ticker] = pd.DataFrame({'Symbol': [ticker],\n",
    "                                      'Name': [None],\n",
    "                                      'Open': [None]},\n",
    "                                      index=[None])\n",
    "\n",
    "df80 = pd.concat(data.values())\n",
    "print(df80)"
   ]
  },
  {
   "cell_type": "code",
   "execution_count": 92,
   "id": "c49ecabb",
   "metadata": {},
   "outputs": [
    {
     "data": {
      "text/html": [
       "<div>\n",
       "<style scoped>\n",
       "    .dataframe tbody tr th:only-of-type {\n",
       "        vertical-align: middle;\n",
       "    }\n",
       "\n",
       "    .dataframe tbody tr th {\n",
       "        vertical-align: top;\n",
       "    }\n",
       "\n",
       "    .dataframe thead th {\n",
       "        text-align: right;\n",
       "    }\n",
       "</style>\n",
       "<table border=\"1\" class=\"dataframe\">\n",
       "  <thead>\n",
       "    <tr style=\"text-align: right;\">\n",
       "      <th></th>\n",
       "      <th>Date</th>\n",
       "      <th>Symbol</th>\n",
       "      <th>Name</th>\n",
       "      <th>Open</th>\n",
       "    </tr>\n",
       "  </thead>\n",
       "  <tbody>\n",
       "    <tr>\n",
       "      <th>0</th>\n",
       "      <td>2020-01-06 00:00:00-05:00</td>\n",
       "      <td>BRK-B</td>\n",
       "      <td>Berkshire Hathaway Inc.</td>\n",
       "      <td>224.990005</td>\n",
       "    </tr>\n",
       "    <tr>\n",
       "      <th>1</th>\n",
       "      <td>2020-01-06 00:00:00-05:00</td>\n",
       "      <td>JPM-PC</td>\n",
       "      <td>JPMorgan Chase &amp; Co.</td>\n",
       "      <td>23.907414</td>\n",
       "    </tr>\n",
       "    <tr>\n",
       "      <th>2</th>\n",
       "      <td>2020-01-06 00:00:00-05:00</td>\n",
       "      <td>V</td>\n",
       "      <td>Visa Inc.</td>\n",
       "      <td>183.954577</td>\n",
       "    </tr>\n",
       "    <tr>\n",
       "      <th>3</th>\n",
       "      <td>2020-01-06 00:00:00-05:00</td>\n",
       "      <td>JPM</td>\n",
       "      <td>JPMorgan Chase &amp; Co.</td>\n",
       "      <td>123.524350</td>\n",
       "    </tr>\n",
       "    <tr>\n",
       "      <th>4</th>\n",
       "      <td>2020-01-06 00:00:00-05:00</td>\n",
       "      <td>MA</td>\n",
       "      <td>Mastercard Incorporated</td>\n",
       "      <td>291.675573</td>\n",
       "    </tr>\n",
       "    <tr>\n",
       "      <th>...</th>\n",
       "      <td>...</td>\n",
       "      <td>...</td>\n",
       "      <td>...</td>\n",
       "      <td>...</td>\n",
       "    </tr>\n",
       "    <tr>\n",
       "      <th>95</th>\n",
       "      <td>2023-03-02 00:00:00-05:00</td>\n",
       "      <td>BRK-B</td>\n",
       "      <td>Berkshire Hathaway Inc.</td>\n",
       "      <td>303.660004</td>\n",
       "    </tr>\n",
       "    <tr>\n",
       "      <th>96</th>\n",
       "      <td>2023-03-02 00:00:00-05:00</td>\n",
       "      <td>JPM-PC</td>\n",
       "      <td>JPMorgan Chase &amp; Co.</td>\n",
       "      <td>25.240000</td>\n",
       "    </tr>\n",
       "    <tr>\n",
       "      <th>97</th>\n",
       "      <td>2023-03-02 00:00:00-05:00</td>\n",
       "      <td>V</td>\n",
       "      <td>Visa Inc.</td>\n",
       "      <td>217.889999</td>\n",
       "    </tr>\n",
       "    <tr>\n",
       "      <th>98</th>\n",
       "      <td>2023-03-02 00:00:00-05:00</td>\n",
       "      <td>JPM</td>\n",
       "      <td>JPMorgan Chase &amp; Co.</td>\n",
       "      <td>141.132399</td>\n",
       "    </tr>\n",
       "    <tr>\n",
       "      <th>99</th>\n",
       "      <td>2023-03-02 00:00:00-05:00</td>\n",
       "      <td>MA</td>\n",
       "      <td>Mastercard Incorporated</td>\n",
       "      <td>353.076098</td>\n",
       "    </tr>\n",
       "  </tbody>\n",
       "</table>\n",
       "<p>100 rows × 4 columns</p>\n",
       "</div>"
      ],
      "text/plain": [
       "                        Date  Symbol                     Name        Open\n",
       "0  2020-01-06 00:00:00-05:00   BRK-B  Berkshire Hathaway Inc.  224.990005\n",
       "1  2020-01-06 00:00:00-05:00  JPM-PC     JPMorgan Chase & Co.   23.907414\n",
       "2  2020-01-06 00:00:00-05:00       V                Visa Inc.  183.954577\n",
       "3  2020-01-06 00:00:00-05:00     JPM     JPMorgan Chase & Co.  123.524350\n",
       "4  2020-01-06 00:00:00-05:00      MA  Mastercard Incorporated  291.675573\n",
       "..                       ...     ...                      ...         ...\n",
       "95 2023-03-02 00:00:00-05:00   BRK-B  Berkshire Hathaway Inc.  303.660004\n",
       "96 2023-03-02 00:00:00-05:00  JPM-PC     JPMorgan Chase & Co.   25.240000\n",
       "97 2023-03-02 00:00:00-05:00       V                Visa Inc.  217.889999\n",
       "98 2023-03-02 00:00:00-05:00     JPM     JPMorgan Chase & Co.  141.132399\n",
       "99 2023-03-02 00:00:00-05:00      MA  Mastercard Incorporated  353.076098\n",
       "\n",
       "[100 rows x 4 columns]"
      ]
     },
     "execution_count": 92,
     "metadata": {},
     "output_type": "execute_result"
    }
   ],
   "source": [
    "Financial_Sector_df = pd.concat([df61, df62, df63, df64, df65, df66, df67, df68, df69, df70, df71, df72, df73, df74, df75, df76, df77, df78, df79, df80], axis=0)\n",
    "\n",
    "Financial_Sector_df = Financial_Sector_df.reset_index()\n",
    "\n",
    "Financial_Sector_df = Financial_Sector_df.rename(columns={'index': 'Date'})\n",
    "\n",
    "\n",
    "Financial_Sector_df.to_csv('Financial_Sector.csv', index=False)\n",
    "Financial_Sector_df"
   ]
  },
  {
   "cell_type": "code",
   "execution_count": 93,
   "id": "0c078909",
   "metadata": {
    "scrolled": false
   },
   "outputs": [
    {
     "data": {
      "image/png": "[encoded data removed]",
      "text/plain": [
       "<Figure size 640x480 with 1 Axes>"
      ]
     },
     "metadata": {},
     "output_type": "display_data"
    }
   ],
   "source": [
    "import pandas as pd\n",
    "import seaborn as sns\n",
    "import matplotlib.pyplot as plt\n",
    "\n",
    "sns.set(style='darkgrid')\n",
    "\n",
    "# Plot data by stock\n",
    "sns.lineplot(data=Financial_Sector_df, x='Date', y='Open', hue='Symbol')\n",
    "\n",
    "plt.xticks(rotation=45)\n",
    "\n",
    "plt.show()"
   ]
  },
  {
   "cell_type": "code",
   "execution_count": null,
   "id": "74d45166",
   "metadata": {},
   "outputs": [],
   "source": []
  }
 ],
 "metadata": {
  "kernelspec": {
   "display_name": "Python 3 (ipykernel)",
   "language": "python",
   "name": "python3"
  },
  "language_info": {
   "codemirror_mode": {
    "name": "ipython",
    "version": 3
   },
   "file_extension": ".py",
   "mimetype": "text/x-python",
   "name": "python",
   "nbconvert_exporter": "python",
   "pygments_lexer": "ipython3",
   "version": "3.7.7"
  }
 },
 "nbformat": 4,
 "nbformat_minor": 5
}
